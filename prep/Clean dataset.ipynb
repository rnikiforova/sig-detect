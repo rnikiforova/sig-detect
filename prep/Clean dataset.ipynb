{
 "cells": [
  {
   "cell_type": "markdown",
   "metadata": {},
   "source": [
    "# Clean headers and split messages"
   ]
  },
  {
   "cell_type": "code",
   "execution_count": 1,
   "metadata": {},
   "outputs": [],
   "source": [
    "import os\n",
    "\n",
    "headers = [\n",
    "    \"Message-ID:\",\n",
    "    \"Date:\",\n",
    "    \"Subject:\",\n",
    "    \"From:\",\n",
    "    \"To:\",\n",
    "    \"Cc:\",\n",
    "    \"Sent:\",\n",
    "    \"Importance:\",\n",
    "    \"Sensitivity:\",\n",
    "    \"Mime-Version: 1.0\",\n",
    "    \"Content-Type:\",\n",
    "    \"Content-Transfer-Encoding:\",\n",
    "    \"Bcc:\",\n",
    "    \"X-From:\",\n",
    "    \"X-To:\",\n",
    "    \"X-cc:\",\n",
    "    \"X-bcc: \",\n",
    "    \"X-Folder:\",\n",
    "    \"X-Origin:\",\n",
    "    \"X-FileName:\"\n",
    "]\n",
    "\n",
    "email_dir = r\"F:\\Documents\\stopansko\\masters\\thesis\\data\\raw\\enronraw\\annotated_all\"\n",
    "emails_dir_files = os.listdir(email_dir)\n",
    "all_emails = []\n",
    "for file_path in emails_dir_files:\n",
    "    with open(os.path.join(email_dir, file_path), encoding=\"utf-8\") as f:\n",
    "        subemails = [[]]\n",
    "        for line in f.readlines():\n",
    "            if \"-Original Message-\" in line:\n",
    "                subemails.append([])\n",
    "            if (not any([line.startswith(header) for header in headers])) and \"-Original Message-\" not in line:\n",
    "                subemails[-1].append(line)\n",
    "        all_emails.extend(subemails)\n",
    "\n",
    "clean_dir = r\"F:\\Documents\\stopansko\\masters\\thesis\\data\\clean\"\n",
    "for i, body in enumerate(all_emails):\n",
    "    with open(os.path.join(clean_dir, str(i)+\".txt\"), mode=\"w+\", encoding=\"utf-8\") as f:\n",
    "            f.writelines(line for line in body)"
   ]
  }
 ],
 "metadata": {
  "kernelspec": {
   "display_name": "Python 3",
   "language": "python",
   "name": "python3"
  },
  "language_info": {
   "codemirror_mode": {
    "name": "ipython",
    "version": 3
   },
   "file_extension": ".py",
   "mimetype": "text/x-python",
   "name": "python",
   "nbconvert_exporter": "python",
   "pygments_lexer": "ipython3",
   "version": "3.7.6"
  }
 },
 "nbformat": 4,
 "nbformat_minor": 2
}
