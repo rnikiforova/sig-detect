{
 "cells": [
  {
   "cell_type": "code",
   "execution_count": 1,
   "metadata": {},
   "outputs": [],
   "source": [
    "import pandas as pd\n",
    "import numpy as np\n",
    "from collections import Counter\n",
    "import matplotlib.pyplot as plt"
   ]
  },
  {
   "cell_type": "code",
   "execution_count": 35,
   "metadata": {},
   "outputs": [],
   "source": [
    "from sklearn import svm\n",
    "from sklearn.metrics import f1_score, precision_score, recall_score\n",
    "from sklearn.metrics import classification_report, confusion_matrix\n",
    "from collections import Counter, defaultdict\n",
    "from sklearn.model_selection import GroupKFold, GroupShuffleSplit"
   ]
  },
  {
   "cell_type": "code",
   "execution_count": 54,
   "metadata": {},
   "outputs": [],
   "source": [
    "source_filename = \"enron_random_clean1_senders.pkl\"\n",
    "master = pd.read_pickle(source_filename)\n",
    "master[\"label\"] = master.entity.apply(lambda x: 1 if x == \"signature\" else 0)\n",
    "master = master[master.nSigBlocks > 0]"
   ]
  },
  {
   "cell_type": "code",
   "execution_count": 5,
   "metadata": {},
   "outputs": [],
   "source": [
    "excluded_columns = [\"line\", \n",
    "                    \"filename\", \n",
    "                    \"entity\", \n",
    "                    \"label\", \n",
    "                    \"nSig\", \n",
    "                    \"firstchar\", \n",
    "                    'nlines',\n",
    "                     'len_avg',\n",
    "                    'len_min',\n",
    "                    'len_max',\n",
    "                    'nBlanks',\n",
    "                    'nNonBlanks',\n",
    "                    'nSigBlocks',\n",
    "                    'pred_label',\n",
    "                    \"next_label\",\n",
    "                    \"sigToLinesRatio\",\n",
    "                    \"pred_file\",\n",
    "                    \"next_file\",\n",
    "                    \"lineNo\",\n",
    "#                     \"len\",\n",
    "                    \"pred_named_entity\",\n",
    "                    \"named_entity\",\n",
    "                    \"next_named_entity\",\n",
    "                    \"sender\", \n",
    "                    \"sender_name\"\n",
    "                    \n",
    "                    \n",
    "                    \n",
    " ]"
   ]
  },
  {
   "cell_type": "code",
   "execution_count": 6,
   "metadata": {},
   "outputs": [],
   "source": [
    "def split_df(df):\n",
    "    filenames = df.filename.unique()\n",
    "    from sklearn.model_selection import train_test_split\n",
    "    train_filenames, test_filenames = train_test_split(filenames, test_size=0.2, random_state=42)\n",
    "    train = df[df.filename.isin(train_filenames)]\n",
    "    test = df[df.filename.isin(test_filenames)]\n",
    "    featured_columns = [c for c in df.columns if c not in excluded_columns]\n",
    "    X_train = train.loc[:, featured_columns]\n",
    "    X_test = test.loc[:, featured_columns]\n",
    "    y_train = train.label\n",
    "    y_test = test.label\n",
    "    return X_train, X_test, y_train, y_test, train, test"
   ]
  },
  {
   "cell_type": "code",
   "execution_count": 7,
   "metadata": {},
   "outputs": [],
   "source": [
    "X_train, X_test, y_train, y_test, train, test = split_df(master)"
   ]
  },
  {
   "cell_type": "code",
   "execution_count": 57,
   "metadata": {},
   "outputs": [
    {
     "name": "stderr",
     "output_type": "stream",
     "text": [
      "G:\\Programs\\Anaconda2\\envs\\thesis-enron\\lib\\site-packages\\sklearn\\svm\\_base.py:977: ConvergenceWarning: Liblinear failed to converge, increase the number of iterations.\n",
      "  \"the number of iterations.\", ConvergenceWarning)\n",
      "G:\\Programs\\Anaconda2\\envs\\thesis-enron\\lib\\site-packages\\sklearn\\svm\\_base.py:977: ConvergenceWarning: Liblinear failed to converge, increase the number of iterations.\n",
      "  \"the number of iterations.\", ConvergenceWarning)\n",
      "G:\\Programs\\Anaconda2\\envs\\thesis-enron\\lib\\site-packages\\sklearn\\svm\\_base.py:977: ConvergenceWarning: Liblinear failed to converge, increase the number of iterations.\n",
      "  \"the number of iterations.\", ConvergenceWarning)\n"
     ]
    },
    {
     "name": "stdout",
     "output_type": "stream",
     "text": [
      "precision: 0.53\n",
      "recall: 0.78\n",
      "f1: 0.56\n"
     ]
    },
    {
     "name": "stderr",
     "output_type": "stream",
     "text": [
      "G:\\Programs\\Anaconda2\\envs\\thesis-enron\\lib\\site-packages\\sklearn\\svm\\_base.py:977: ConvergenceWarning: Liblinear failed to converge, increase the number of iterations.\n",
      "  \"the number of iterations.\", ConvergenceWarning)\n"
     ]
    }
   ],
   "source": [
    "group_kfold = GroupKFold(n_splits=5)\n",
    "results = defaultdict(list)\n",
    "for train_index, test_index in group_kfold.split(X_test, y_test, test.filename):\n",
    "    curr_X_train = X_test.iloc[train_index, :]\n",
    "    curr_y_train = y_test.iloc[train_index]\n",
    "    \n",
    "    curr_X_test = X_test.iloc[test_index, :]\n",
    "    curr_y_test = y_test.iloc[test_index]\n",
    "    \n",
    "    \n",
    "    curr_linear = svm.LinearSVC(C=10, random_state=42, dual=True, class_weight={1: 2}, max_iter=100000)\n",
    "    curr_linear.fit(curr_X_train, curr_y_train)\n",
    "    curr_pred = curr_linear.predict(curr_X_test)\n",
    "    results[\"precision\"].append(precision_score(curr_y_test, curr_pred))\n",
    "    results[\"recall\"].append(recall_score(curr_y_test, curr_pred))\n",
    "    results[\"f1\"].append(f1_score(curr_y_test, curr_pred))\n",
    "    \n",
    "print_kfold_results(results)"
   ]
  },
  {
   "cell_type": "code",
   "execution_count": 46,
   "metadata": {},
   "outputs": [
    {
     "name": "stdout",
     "output_type": "stream",
     "text": [
      "precision: 0.60\n",
      "recall: 0.81\n",
      "f1: 0.64\n"
     ]
    }
   ],
   "source": [
    "for k, v in results.items():\n",
    "    print(f\"{k}: {np.mean(v):.2f}\")"
   ]
  },
  {
   "cell_type": "markdown",
   "metadata": {},
   "source": [
    "# Cross validation with blocking"
   ]
  },
  {
   "cell_type": "code",
   "execution_count": 49,
   "metadata": {},
   "outputs": [],
   "source": [
    "def update_prediction(row):\n",
    "    same_file = row.pred_file == row.filename and row.next_file == row.filename\n",
    "    if not same_file:\n",
    "        return row.pred\n",
    "    \n",
    "    if row.pred_predict == 1 and row.next_predict == 1:\n",
    "        return 1\n",
    "    if row.pred_predict == 0 and row.next_predict == 0:\n",
    "        return 0\n",
    "        \n",
    "    return row.pred"
   ]
  },
  {
   "cell_type": "code",
   "execution_count": 56,
   "metadata": {},
   "outputs": [],
   "source": [
    "def print_kfold_results(results):\n",
    "    for k, v in results.items():\n",
    "        print(f\"{k}: {np.mean(v):.2f}\")"
   ]
  },
  {
   "cell_type": "code",
   "execution_count": 50,
   "metadata": {},
   "outputs": [
    {
     "name": "stderr",
     "output_type": "stream",
     "text": [
      "G:\\Programs\\Anaconda2\\envs\\thesis-enron\\lib\\site-packages\\ipykernel_launcher.py:17: SettingWithCopyWarning: \n",
      "A value is trying to be set on a copy of a slice from a DataFrame.\n",
      "Try using .loc[row_indexer,col_indexer] = value instead\n",
      "\n",
      "See the caveats in the documentation: http://pandas.pydata.org/pandas-docs/stable/user_guide/indexing.html#returning-a-view-versus-a-copy\n",
      "G:\\Programs\\Anaconda2\\envs\\thesis-enron\\lib\\site-packages\\ipykernel_launcher.py:18: SettingWithCopyWarning: \n",
      "A value is trying to be set on a copy of a slice from a DataFrame.\n",
      "Try using .loc[row_indexer,col_indexer] = value instead\n",
      "\n",
      "See the caveats in the documentation: http://pandas.pydata.org/pandas-docs/stable/user_guide/indexing.html#returning-a-view-versus-a-copy\n",
      "G:\\Programs\\Anaconda2\\envs\\thesis-enron\\lib\\site-packages\\ipykernel_launcher.py:19: SettingWithCopyWarning: \n",
      "A value is trying to be set on a copy of a slice from a DataFrame.\n",
      "Try using .loc[row_indexer,col_indexer] = value instead\n",
      "\n",
      "See the caveats in the documentation: http://pandas.pydata.org/pandas-docs/stable/user_guide/indexing.html#returning-a-view-versus-a-copy\n",
      "G:\\Programs\\Anaconda2\\envs\\thesis-enron\\lib\\site-packages\\ipykernel_launcher.py:20: SettingWithCopyWarning: \n",
      "A value is trying to be set on a copy of a slice from a DataFrame.\n",
      "Try using .loc[row_indexer,col_indexer] = value instead\n",
      "\n",
      "See the caveats in the documentation: http://pandas.pydata.org/pandas-docs/stable/user_guide/indexing.html#returning-a-view-versus-a-copy\n",
      "G:\\Programs\\Anaconda2\\envs\\thesis-enron\\lib\\site-packages\\sklearn\\svm\\_base.py:977: ConvergenceWarning: Liblinear failed to converge, increase the number of iterations.\n",
      "  \"the number of iterations.\", ConvergenceWarning)\n",
      "G:\\Programs\\Anaconda2\\envs\\thesis-enron\\lib\\site-packages\\ipykernel_launcher.py:17: SettingWithCopyWarning: \n",
      "A value is trying to be set on a copy of a slice from a DataFrame.\n",
      "Try using .loc[row_indexer,col_indexer] = value instead\n",
      "\n",
      "See the caveats in the documentation: http://pandas.pydata.org/pandas-docs/stable/user_guide/indexing.html#returning-a-view-versus-a-copy\n",
      "G:\\Programs\\Anaconda2\\envs\\thesis-enron\\lib\\site-packages\\ipykernel_launcher.py:18: SettingWithCopyWarning: \n",
      "A value is trying to be set on a copy of a slice from a DataFrame.\n",
      "Try using .loc[row_indexer,col_indexer] = value instead\n",
      "\n",
      "See the caveats in the documentation: http://pandas.pydata.org/pandas-docs/stable/user_guide/indexing.html#returning-a-view-versus-a-copy\n",
      "G:\\Programs\\Anaconda2\\envs\\thesis-enron\\lib\\site-packages\\ipykernel_launcher.py:19: SettingWithCopyWarning: \n",
      "A value is trying to be set on a copy of a slice from a DataFrame.\n",
      "Try using .loc[row_indexer,col_indexer] = value instead\n",
      "\n",
      "See the caveats in the documentation: http://pandas.pydata.org/pandas-docs/stable/user_guide/indexing.html#returning-a-view-versus-a-copy\n",
      "G:\\Programs\\Anaconda2\\envs\\thesis-enron\\lib\\site-packages\\ipykernel_launcher.py:20: SettingWithCopyWarning: \n",
      "A value is trying to be set on a copy of a slice from a DataFrame.\n",
      "Try using .loc[row_indexer,col_indexer] = value instead\n",
      "\n",
      "See the caveats in the documentation: http://pandas.pydata.org/pandas-docs/stable/user_guide/indexing.html#returning-a-view-versus-a-copy\n",
      "G:\\Programs\\Anaconda2\\envs\\thesis-enron\\lib\\site-packages\\sklearn\\svm\\_base.py:977: ConvergenceWarning: Liblinear failed to converge, increase the number of iterations.\n",
      "  \"the number of iterations.\", ConvergenceWarning)\n",
      "G:\\Programs\\Anaconda2\\envs\\thesis-enron\\lib\\site-packages\\ipykernel_launcher.py:17: SettingWithCopyWarning: \n",
      "A value is trying to be set on a copy of a slice from a DataFrame.\n",
      "Try using .loc[row_indexer,col_indexer] = value instead\n",
      "\n",
      "See the caveats in the documentation: http://pandas.pydata.org/pandas-docs/stable/user_guide/indexing.html#returning-a-view-versus-a-copy\n",
      "G:\\Programs\\Anaconda2\\envs\\thesis-enron\\lib\\site-packages\\ipykernel_launcher.py:18: SettingWithCopyWarning: \n",
      "A value is trying to be set on a copy of a slice from a DataFrame.\n",
      "Try using .loc[row_indexer,col_indexer] = value instead\n",
      "\n",
      "See the caveats in the documentation: http://pandas.pydata.org/pandas-docs/stable/user_guide/indexing.html#returning-a-view-versus-a-copy\n",
      "G:\\Programs\\Anaconda2\\envs\\thesis-enron\\lib\\site-packages\\ipykernel_launcher.py:19: SettingWithCopyWarning: \n",
      "A value is trying to be set on a copy of a slice from a DataFrame.\n",
      "Try using .loc[row_indexer,col_indexer] = value instead\n",
      "\n",
      "See the caveats in the documentation: http://pandas.pydata.org/pandas-docs/stable/user_guide/indexing.html#returning-a-view-versus-a-copy\n",
      "G:\\Programs\\Anaconda2\\envs\\thesis-enron\\lib\\site-packages\\ipykernel_launcher.py:20: SettingWithCopyWarning: \n",
      "A value is trying to be set on a copy of a slice from a DataFrame.\n",
      "Try using .loc[row_indexer,col_indexer] = value instead\n",
      "\n",
      "See the caveats in the documentation: http://pandas.pydata.org/pandas-docs/stable/user_guide/indexing.html#returning-a-view-versus-a-copy\n",
      "G:\\Programs\\Anaconda2\\envs\\thesis-enron\\lib\\site-packages\\sklearn\\svm\\_base.py:977: ConvergenceWarning: Liblinear failed to converge, increase the number of iterations.\n",
      "  \"the number of iterations.\", ConvergenceWarning)\n",
      "G:\\Programs\\Anaconda2\\envs\\thesis-enron\\lib\\site-packages\\ipykernel_launcher.py:17: SettingWithCopyWarning: \n",
      "A value is trying to be set on a copy of a slice from a DataFrame.\n",
      "Try using .loc[row_indexer,col_indexer] = value instead\n",
      "\n",
      "See the caveats in the documentation: http://pandas.pydata.org/pandas-docs/stable/user_guide/indexing.html#returning-a-view-versus-a-copy\n",
      "G:\\Programs\\Anaconda2\\envs\\thesis-enron\\lib\\site-packages\\ipykernel_launcher.py:18: SettingWithCopyWarning: \n",
      "A value is trying to be set on a copy of a slice from a DataFrame.\n",
      "Try using .loc[row_indexer,col_indexer] = value instead\n",
      "\n",
      "See the caveats in the documentation: http://pandas.pydata.org/pandas-docs/stable/user_guide/indexing.html#returning-a-view-versus-a-copy\n",
      "G:\\Programs\\Anaconda2\\envs\\thesis-enron\\lib\\site-packages\\ipykernel_launcher.py:19: SettingWithCopyWarning: \n",
      "A value is trying to be set on a copy of a slice from a DataFrame.\n",
      "Try using .loc[row_indexer,col_indexer] = value instead\n",
      "\n",
      "See the caveats in the documentation: http://pandas.pydata.org/pandas-docs/stable/user_guide/indexing.html#returning-a-view-versus-a-copy\n",
      "G:\\Programs\\Anaconda2\\envs\\thesis-enron\\lib\\site-packages\\ipykernel_launcher.py:20: SettingWithCopyWarning: \n",
      "A value is trying to be set on a copy of a slice from a DataFrame.\n",
      "Try using .loc[row_indexer,col_indexer] = value instead\n",
      "\n",
      "See the caveats in the documentation: http://pandas.pydata.org/pandas-docs/stable/user_guide/indexing.html#returning-a-view-versus-a-copy\n",
      "G:\\Programs\\Anaconda2\\envs\\thesis-enron\\lib\\site-packages\\sklearn\\svm\\_base.py:977: ConvergenceWarning: Liblinear failed to converge, increase the number of iterations.\n",
      "  \"the number of iterations.\", ConvergenceWarning)\n",
      "G:\\Programs\\Anaconda2\\envs\\thesis-enron\\lib\\site-packages\\ipykernel_launcher.py:17: SettingWithCopyWarning: \n",
      "A value is trying to be set on a copy of a slice from a DataFrame.\n",
      "Try using .loc[row_indexer,col_indexer] = value instead\n",
      "\n",
      "See the caveats in the documentation: http://pandas.pydata.org/pandas-docs/stable/user_guide/indexing.html#returning-a-view-versus-a-copy\n",
      "G:\\Programs\\Anaconda2\\envs\\thesis-enron\\lib\\site-packages\\ipykernel_launcher.py:18: SettingWithCopyWarning: \n",
      "A value is trying to be set on a copy of a slice from a DataFrame.\n",
      "Try using .loc[row_indexer,col_indexer] = value instead\n",
      "\n",
      "See the caveats in the documentation: http://pandas.pydata.org/pandas-docs/stable/user_guide/indexing.html#returning-a-view-versus-a-copy\n",
      "G:\\Programs\\Anaconda2\\envs\\thesis-enron\\lib\\site-packages\\ipykernel_launcher.py:19: SettingWithCopyWarning: \n",
      "A value is trying to be set on a copy of a slice from a DataFrame.\n",
      "Try using .loc[row_indexer,col_indexer] = value instead\n",
      "\n",
      "See the caveats in the documentation: http://pandas.pydata.org/pandas-docs/stable/user_guide/indexing.html#returning-a-view-versus-a-copy\n",
      "G:\\Programs\\Anaconda2\\envs\\thesis-enron\\lib\\site-packages\\ipykernel_launcher.py:20: SettingWithCopyWarning: \n",
      "A value is trying to be set on a copy of a slice from a DataFrame.\n",
      "Try using .loc[row_indexer,col_indexer] = value instead\n",
      "\n",
      "See the caveats in the documentation: http://pandas.pydata.org/pandas-docs/stable/user_guide/indexing.html#returning-a-view-versus-a-copy\n"
     ]
    }
   ],
   "source": [
    "group_kfold = GroupKFold(n_splits=5)\n",
    "results = defaultdict(list)\n",
    "for train_index, test_index in group_kfold.split(X_test, y_test, test.filename):\n",
    "    curr_X_train = X_test.iloc[train_index, :]\n",
    "    curr_y_train = y_test.iloc[train_index]\n",
    "    \n",
    "    curr_test = test.iloc[test_index, :]\n",
    "    curr_X_test = X_test.iloc[test_index, :]\n",
    "    curr_y_test = y_test.iloc[test_index]\n",
    "    \n",
    "    \n",
    "    curr_linear = svm.LinearSVC(C=0.5, random_state=42, dual=True, class_weight={1: 2}, max_iter=100000)\n",
    "    curr_linear.fit(curr_X_train, curr_y_train)\n",
    "    curr_pred = curr_linear.predict(curr_X_test)\n",
    "    \n",
    "    # Blocking\n",
    "    curr_test[\"pred\"] = curr_pred\n",
    "    curr_test[\"pred_predict\"] = curr_test.pred.shift(1)\n",
    "    curr_test[\"next_predict\"] = curr_test.pred.shift(-1)\n",
    "    curr_test[\"new_pred\"] = curr_test.apply(lambda row: update_prediction(row), axis=1)\n",
    "    \n",
    "    curr_pred = curr_test.new_pred\n",
    "    \n",
    "    results[\"precision\"].append(precision_score(curr_y_test, curr_pred))\n",
    "    results[\"recall\"].append(recall_score(curr_y_test, curr_pred))\n",
    "    results[\"f1\"].append(f1_score(curr_y_test, curr_pred))\n",
    "    \n",
    "print_kfold_results(results)"
   ]
  }
 ],
 "metadata": {
  "kernelspec": {
   "display_name": "Python 3",
   "language": "python",
   "name": "python3"
  },
  "language_info": {
   "codemirror_mode": {
    "name": "ipython",
    "version": 3
   },
   "file_extension": ".py",
   "mimetype": "text/x-python",
   "name": "python",
   "nbconvert_exporter": "python",
   "pygments_lexer": "ipython3",
   "version": "3.7.6"
  }
 },
 "nbformat": 4,
 "nbformat_minor": 2
}
