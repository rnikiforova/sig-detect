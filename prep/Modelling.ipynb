{
 "cells": [
  {
   "cell_type": "code",
   "execution_count": 2,
   "metadata": {},
   "outputs": [],
   "source": [
    "import pandas as pd\n",
    "import numpy as np\n",
    "import copy"
   ]
  },
  {
   "cell_type": "code",
   "execution_count": 3,
   "metadata": {},
   "outputs": [],
   "source": [
    "master = pd.read_pickle(\"enron_random_clean1_senders.pkl\")"
   ]
  },
  {
   "cell_type": "code",
   "execution_count": 4,
   "metadata": {},
   "outputs": [],
   "source": [
    "# master = master[master.nSigBlocks > 0]\n",
    "# master = master[master.filename != \"97.txt\"]"
   ]
  },
  {
   "cell_type": "code",
   "execution_count": 5,
   "metadata": {},
   "outputs": [
    {
     "data": {
      "text/plain": [
       "2989"
      ]
     },
     "execution_count": 5,
     "metadata": {},
     "output_type": "execute_result"
    }
   ],
   "source": [
    "len(master)"
   ]
  },
  {
   "cell_type": "markdown",
   "metadata": {},
   "source": [
    "# Convert to sklear-crfsuite format\n",
    "each sentence should be converted to a list of dicts"
   ]
  },
  {
   "cell_type": "code",
   "execution_count": 6,
   "metadata": {},
   "outputs": [],
   "source": [
    "import sklearn_crfsuite"
   ]
  },
  {
   "cell_type": "code",
   "execution_count": 7,
   "metadata": {},
   "outputs": [],
   "source": [
    "def line2features(index, row, source):\n",
    "    features = row_to_dict(row)\n",
    "\n",
    "    # There is a previous one\n",
    "    if row.lineNo > 1:\n",
    "        try:\n",
    "            prev_line = source.iloc[index - 1,]\n",
    "        except IndexError as ex:\n",
    "            print(index)\n",
    "            print(row)\n",
    "        features.update(row_to_dict(prev_line, \"-1:\"))\n",
    "    else:\n",
    "        features['BOS'] = True\n",
    "\n",
    "    if (row.posFromEnd > 0) and (index < len(source.index) - 1):\n",
    "        next_line = source.iloc[index + 1,]\n",
    "        features.update(row_to_dict(next_line, \"+1:\"))\n",
    "    else:\n",
    "        features['EOS'] = True\n",
    "    return features"
   ]
  },
  {
   "cell_type": "code",
   "execution_count": 8,
   "metadata": {},
   "outputs": [],
   "source": [
    "def line2features_shift(df):\n",
    "    df = df.loc[:, featured_columns]\n",
    "    for col in featured_columns:\n",
    "        df[f\"-1:{col}\"] = df[col].shift(1)\n",
    "        df[f\"+1:{col}\"] = df[col].shift(-1)\n",
    "    df[\"json\"] = df.apply(lambda x: x.dropna().to_json(), axis=1)\n",
    "    return df[\"json\"].tolist()"
   ]
  },
  {
   "cell_type": "code",
   "execution_count": 9,
   "metadata": {},
   "outputs": [],
   "source": [
    "def get_features(df, files):\n",
    "    result = []\n",
    "    for f in files:        \n",
    "        curr = df[df.filename == f]\n",
    "        result.append([line2features(index, row, curr) for index, (idx, row) in enumerate(curr.iterrows())])\n",
    "    return result"
   ]
  },
  {
   "cell_type": "code",
   "execution_count": 10,
   "metadata": {},
   "outputs": [],
   "source": [
    "def row_to_dict(row, prefix=\"\"):\n",
    "    features = {}\n",
    "    for col in featured_columns:\n",
    "        features[f\"{prefix}{col}\"] = row[col]\n",
    "    return features"
   ]
  },
  {
   "cell_type": "code",
   "execution_count": 11,
   "metadata": {},
   "outputs": [],
   "source": [
    "def get_labels(df, files):\n",
    "    result = []\n",
    "    for f in files:        \n",
    "        curr = df[df.filename == f]\n",
    "        result.append([row.entity for index, (idx, row) in enumerate(curr.iterrows())])\n",
    "    return result"
   ]
  },
  {
   "cell_type": "code",
   "execution_count": 12,
   "metadata": {},
   "outputs": [],
   "source": [
    "def to_crf_suite(df):\n",
    "    print(df.filename)\n",
    "    chunks = []\n",
    "    labels = []\n",
    "    features = []\n",
    "    for name, group in df.groupby(\"filename\"):\n",
    "        print(name)\n",
    "        labels.append([row.entity for index, (idx, row) in enumerate(group.iterrows())])\n",
    "        features.append([line2features(index, row, group) for index, (idx, row) in enumerate(group.iterrows())])        \n",
    "        chunks.append(group)   \n",
    "    new_df = pd.concat(chunks, ignore_index=True)\n",
    "    return new_df, features, labels"
   ]
  },
  {
   "cell_type": "code",
   "execution_count": 13,
   "metadata": {},
   "outputs": [],
   "source": [
    "def to_crf_suite_shifting(df):\n",
    "    chunks = []\n",
    "    labels = []\n",
    "    features = []\n",
    "    for name, group in df.groupby(\"filename\"):\n",
    "        labels.append(group.entity)        \n",
    "        features.append(line2features_shift(group))\n",
    "        chunks.append(group)   \n",
    "    new_df = pd.concat(chunks, ignore_index=True)\n",
    "    return new_df, features, labels"
   ]
  },
  {
   "cell_type": "code",
   "execution_count": 14,
   "metadata": {},
   "outputs": [],
   "source": [
    "excluded_columns = [\"line\", \n",
    "                    \"filename\", \n",
    "                    \"entity\", \n",
    "                    \"label\", \n",
    "                    \"nSig\", \n",
    "                    \"firstchar\", \n",
    "                    'nlines',\n",
    "                     'len_avg',\n",
    "                    'len_min',\n",
    "                    'len_max',\n",
    "                    'nBlanks',\n",
    "                    'nNonBlanks',\n",
    "                    'nSigBlocks',\n",
    "                    'pred_label',\n",
    "                    \"next_label\",\n",
    "                    \"sigToLinesRatio\",\n",
    "                    \"pred_file\",\n",
    "                    \"next_file\",\n",
    "                    \"lineNo\",\n",
    "                    \"len\"\n",
    "                    \n",
    " ]\n",
    "featured_columns = [c for c in master.columns if c not in excluded_columns]"
   ]
  },
  {
   "cell_type": "code",
   "execution_count": 15,
   "metadata": {},
   "outputs": [],
   "source": [
    "filenames = master.filename.unique()"
   ]
  },
  {
   "cell_type": "code",
   "execution_count": 16,
   "metadata": {},
   "outputs": [],
   "source": [
    "from sklearn.model_selection import train_test_split\n",
    "train_filenames, test_filenames = train_test_split(filenames, test_size=0.2, random_state=42)"
   ]
  },
  {
   "cell_type": "code",
   "execution_count": 17,
   "metadata": {},
   "outputs": [],
   "source": [
    "train = master[master.filename.isin(train_filenames)]\n",
    "test = master[master.filename.isin(test_filenames)]"
   ]
  },
  {
   "cell_type": "code",
   "execution_count": 18,
   "metadata": {},
   "outputs": [],
   "source": [
    "train = train.sort_values(by=[\"filename\", \"lineNo\"])\n",
    "test = test.sort_values(by=[\"filename\", \"lineNo\"])"
   ]
  },
  {
   "cell_type": "code",
   "execution_count": 19,
   "metadata": {},
   "outputs": [
    {
     "name": "stdout",
     "output_type": "stream",
     "text": [
      "[]\n",
      "[]\n",
      "[]\n"
     ]
    }
   ],
   "source": [
    "# all should be empty if all match\n",
    "print([(x, y) for x, y in zip(sorted(train_filenames), sorted(train.filename.unique())) if x != y])\n",
    "print([(x, y) for x, y in zip(sorted(test_filenames), sorted(test.filename.unique())) if x != y])\n",
    "print([x for x in train_filenames if x in test_filenames])"
   ]
  },
  {
   "cell_type": "code",
   "execution_count": 20,
   "metadata": {},
   "outputs": [
    {
     "name": "stdout",
     "output_type": "stream",
     "text": [
      "0       allen-p_all_documents_113.txt\n",
      "1       allen-p_all_documents_113.txt\n",
      "2       allen-p_all_documents_113.txt\n",
      "3       allen-p_all_documents_113.txt\n",
      "4       allen-p_all_documents_113.txt\n",
      "                    ...              \n",
      "2984     gay-r_all_documents_46_a.txt\n",
      "2985     gay-r_all_documents_46_a.txt\n",
      "2986     gay-r_all_documents_46_a.txt\n",
      "2987     gay-r_all_documents_46_a.txt\n",
      "2988     gay-r_all_documents_46_a.txt\n",
      "Name: filename, Length: 2238, dtype: object\n",
      "allen-p_all_documents_113.txt\n",
      "allen-p_all_documents_171.txt\n",
      "allen-p_all_documents_496.txt\n",
      "allen-p_all_documents_505.txt\n",
      "allen-p_all_documents_575.txt\n",
      "allen-p_all_documents_595.txt\n",
      "allen-p_all_documents_599.txt\n",
      "allen-p_all_documents_90.txt\n",
      "arnold-j_all_documents_1027.txt\n",
      "arnold-j_all_documents_454_a.txt\n",
      "arnold-j_all_documents_687.txt\n",
      "arora-h_all_documents_58.txt\n",
      "arora-h_all_documents_64.txt\n",
      "badeer-r_all_documents_109.txt\n",
      "badeer-r_all_documents_119.txt\n",
      "badeer-r_all_documents_128.txt\n",
      "badeer-r_all_documents_257.txt\n",
      "badeer-r_all_documents_274.txt\n",
      "badeer-r_all_documents_99.txt\n",
      "bailey-s_all_documents_13.txt\n",
      "bailey-s_all_documents_14.txt\n",
      "bass-e_all_documents_1290.txt\n",
      "bass-e_all_documents_1290_a.txt\n",
      "bass-e_all_documents_713.txt\n",
      "bass-e_all_documents_990.txt\n",
      "bass-e_all_documents_990_a.txt\n",
      "baughman-e_all_documents_131.txt\n",
      "baughman-e_all_documents_268.txt\n",
      "baughman-e_all_documents_276.txt\n",
      "baughman-e_all_documents_365.txt\n",
      "baughman-e_all_documents_380.txt\n",
      "beck-s_all_documents_2756.txt\n",
      "beck-s_all_documents_3519.txt\n",
      "beck-s_all_documents_3753.txt\n",
      "beck-s_all_documents_401.txt\n",
      "benson-r_all_documents_13.txt\n",
      "benson-r_all_documents_29.txt\n",
      "benson-r_all_documents_44.txt\n",
      "benson-r_all_documents_51.txt\n",
      "benson-r_all_documents_8.txt\n",
      "brawner-s_all_documents_104.txt\n",
      "brawner-s_all_documents_117.txt\n",
      "brawner-s_all_documents_169.txt\n",
      "buy-r_all_documents_103.txt\n",
      "buy-r_all_documents_207.txt\n",
      "campbell-l_all_documents_1167.txt\n",
      "campbell-l_all_documents_1203.txt\n",
      "campbell-l_all_documents_236.txt\n",
      "campbell-l_all_documents_657.txt\n",
      "campbell-l_all_documents_867.txt\n",
      "cash-m_all_documents_455.txt\n",
      "cash-m_all_documents_752_a.txt\n",
      "cash-m_all_documents_752_b.txt\n",
      "cash-m_all_documents_791.txt\n",
      "corman-s_all_documents_14.txt\n",
      "corman-s_all_documents_7.txt\n",
      "corman-s_all_documents_8.txt\n",
      "cuilla-m_all_documents_95.txt\n",
      "dasovich-j_all_documents_1805.txt\n",
      "dasovich-j_all_documents_1805_a.txt\n",
      "dasovich-j_all_documents_1805_b.txt\n",
      "dasovich-j_all_documents_4575.txt\n",
      "davis-d_all_documents_252.txt\n",
      "davis-d_all_documents_263.txt\n",
      "davis-d_all_documents_348.txt\n",
      "dean-c_all_documents_142.txt\n",
      "dean-c_all_documents_255.txt\n",
      "dean-c_all_documents_297.txt\n",
      "dean-c_all_documents_71.txt\n",
      "dean-c_all_documents_71_a.txt\n",
      "delainey-d_all_documents_179.txt\n",
      "delainey-d_all_documents_222.txt\n",
      "delainey-d_all_documents_370.txt\n",
      "delainey-d_all_documents_470.txt\n",
      "delainey-d_all_documents_541.txt\n",
      "delainey-d_all_documents_589.txt\n",
      "delainey-d_all_documents_589_a.txt\n",
      "delainey-d_all_documents_596.txt\n",
      "derrick-j_all_documents_145.txt\n",
      "derrick-j_all_documents_149.txt\n",
      "derrick-j_all_documents_149_a.txt\n",
      "derrick-j_all_documents_41.txt\n",
      "derrick-j_all_documents_50.txt\n",
      "derrick-j_all_documents_50_a.txt\n",
      "derrick-j_all_documents_50_b.txt\n",
      "derrick-j_all_documents_50_c.txt\n",
      "derrick-j_all_documents_57.txt\n",
      "dickson-s_all_documents_14.txt\n",
      "dickson-s_all_documents_163.txt\n",
      "dickson-s_all_documents_163_b.txt\n",
      "dickson-s_all_documents_169.txt\n",
      "donohoe-t_all_documents_125.txt\n",
      "donohoe-t_all_documents_145.txt\n",
      "donohoe-t_all_documents_34.txt\n",
      "dorland-c_all_documents_122.txt\n",
      "dorland-c_all_documents_172.txt\n",
      "dorland-c_all_documents_195.txt\n",
      "dorland-c_all_documents_34.txt\n",
      "dorland-c_all_documents_43.txt\n",
      "ermis-f_all_documents_136.txt\n",
      "ermis-f_all_documents_293.txt\n",
      "farmer-d_all_documents_2657.txt\n",
      "fischer-m_all_documents_126.txt\n",
      "fischer-m_all_documents_126_a.txt\n",
      "fischer-m_all_documents_129.txt\n",
      "fischer-m_all_documents_14.txt\n",
      "fischer-m_all_documents_14_a.txt\n",
      "fischer-m_all_documents_273_b.txt\n",
      "fischer-m_all_documents_283.txt\n",
      "fischer-m_all_documents_393.txt\n",
      "fischer-m_all_documents_395_a.txt\n",
      "fossum-d_all_documents_1110.txt\n",
      "fossum-d_all_documents_1110_a.txt\n",
      "fossum-d_all_documents_1110_b.txt\n",
      "fossum-d_all_documents_348.txt\n",
      "fossum-d_all_documents_625.txt\n",
      "gay-r_all_documents_143.txt\n",
      "gay-r_all_documents_383.txt\n",
      "gay-r_all_documents_46.txt\n",
      "gay-r_all_documents_46_a.txt\n",
      "273     arnold-j_all_documents_454.txt\n",
      "274     arnold-j_all_documents_454.txt\n",
      "275     arnold-j_all_documents_454.txt\n",
      "276     arnold-j_all_documents_454.txt\n",
      "277     arnold-j_all_documents_454.txt\n",
      "                     ...              \n",
      "2963    fossum-d_all_documents_970.txt\n",
      "2964    fossum-d_all_documents_970.txt\n",
      "2965    fossum-d_all_documents_970.txt\n",
      "2966    fossum-d_all_documents_970.txt\n",
      "2967    fossum-d_all_documents_970.txt\n",
      "Name: filename, Length: 751, dtype: object\n",
      "arnold-j_all_documents_454.txt\n",
      "arora-h_all_documents_44.txt\n",
      "badeer-r_all_documents_141.txt\n",
      "badeer-r_all_documents_175.txt\n",
      "badeer-r_all_documents_295.txt\n",
      "bailey-s_all_documents_8.txt\n",
      "bass-e_all_documents_1485.txt\n",
      "bass-e_all_documents_1485_a.txt\n",
      "bass-e_all_documents_1888.txt\n",
      "baughman-e_all_documents_255.txt\n",
      "beck-s_all_documents_4765.txt\n",
      "buy-r_all_documents_138.txt\n",
      "buy-r_all_documents_142.txt\n",
      "cash-m_all_documents_752.txt\n",
      "cash-m_all_documents_752_c.txt\n",
      "dasovich-j_all_documents_21165.txt\n",
      "davis-d_all_documents_208.txt\n",
      "davis-d_all_documents_301.txt\n",
      "davis-d_all_documents_321.txt\n",
      "davis-d_all_documents_419.txt\n",
      "davis-d_all_documents_8.txt\n",
      "delainey-d_all_documents_589_b.txt\n",
      "dickson-s_all_documents_163_a.txt\n",
      "dickson-s_all_documents_169_a.txt\n",
      "ermis-f_all_documents_266.txt\n",
      "fischer-m_all_documents_273.txt\n",
      "fischer-m_all_documents_273_a.txt\n",
      "fischer-m_all_documents_395.txt\n",
      "fossum-d_all_documents_1110_c.txt\n",
      "fossum-d_all_documents_1317.txt\n",
      "fossum-d_all_documents_970.txt\n"
     ]
    }
   ],
   "source": [
    "train, X_train, y_train = to_crf_suite(train)\n",
    "test, X_test, y_test = to_crf_suite(test)"
   ]
  },
  {
   "cell_type": "code",
   "execution_count": 21,
   "metadata": {},
   "outputs": [
    {
     "data": {
      "text/plain": [
       "31"
      ]
     },
     "execution_count": 21,
     "metadata": {},
     "output_type": "execute_result"
    }
   ],
   "source": [
    "len(X_test)"
   ]
  },
  {
   "cell_type": "code",
   "execution_count": 22,
   "metadata": {},
   "outputs": [
    {
     "data": {
      "text/plain": [
       "31"
      ]
     },
     "execution_count": 22,
     "metadata": {},
     "output_type": "execute_result"
    }
   ],
   "source": [
    "len(test_filenames)"
   ]
  },
  {
   "cell_type": "code",
   "execution_count": 23,
   "metadata": {},
   "outputs": [
    {
     "data": {
      "text/plain": [
       "Counter({'no_entity': 1894, 'signature': 344})"
      ]
     },
     "execution_count": 23,
     "metadata": {},
     "output_type": "execute_result"
    }
   ],
   "source": [
    "from collections import Counter\n",
    "Counter(train.entity)"
   ]
  },
  {
   "cell_type": "code",
   "execution_count": 24,
   "metadata": {},
   "outputs": [],
   "source": [
    "crf = sklearn_crfsuite.CRF(c1=0.17)\n",
    "crf.fit(X_train, y_train);"
   ]
  },
  {
   "cell_type": "code",
   "execution_count": 25,
   "metadata": {},
   "outputs": [
    {
     "data": {
      "text/plain": [
       "['no_entity', 'signature']"
      ]
     },
     "execution_count": 25,
     "metadata": {},
     "output_type": "execute_result"
    }
   ],
   "source": [
    "crf.classes_"
   ]
  },
  {
   "cell_type": "code",
   "execution_count": 26,
   "metadata": {},
   "outputs": [
    {
     "data": {
      "text/plain": [
       "0.8907563025210085"
      ]
     },
     "execution_count": 26,
     "metadata": {},
     "output_type": "execute_result"
    }
   ],
   "source": [
    "from sklearn_crfsuite import metrics\n",
    "y_pred = crf.predict(X_test)\n",
    "metrics.flat_f1_score(y_test, y_pred, average='binary', pos_label='signature')"
   ]
  },
  {
   "cell_type": "code",
   "execution_count": 230,
   "metadata": {},
   "outputs": [
    {
     "data": {
      "text/plain": [
       "Counter({'no_entity': 352, 'signature': 141})"
      ]
     },
     "execution_count": 230,
     "metadata": {},
     "output_type": "execute_result"
    }
   ],
   "source": [
    "Counter(flatten(y_pred))"
   ]
  },
  {
   "cell_type": "code",
   "execution_count": 231,
   "metadata": {},
   "outputs": [
    {
     "data": {
      "text/plain": [
       "Counter({'no_entity': 356, 'signature': 137})"
      ]
     },
     "execution_count": 231,
     "metadata": {},
     "output_type": "execute_result"
    }
   ],
   "source": [
    "Counter(flatten(y_test))"
   ]
  },
  {
   "cell_type": "code",
   "execution_count": 232,
   "metadata": {},
   "outputs": [],
   "source": [
    "from sklearn_crfsuite.utils import flatten"
   ]
  },
  {
   "cell_type": "code",
   "execution_count": 233,
   "metadata": {},
   "outputs": [
    {
     "name": "stdout",
     "output_type": "stream",
     "text": [
      "              precision    recall  f1-score   support\n",
      "\n",
      "   no_entity       0.98      0.97      0.97       356\n",
      "   signature       0.92      0.95      0.94       137\n",
      "\n",
      "    accuracy                           0.96       493\n",
      "   macro avg       0.95      0.96      0.95       493\n",
      "weighted avg       0.96      0.96      0.96       493\n",
      "\n"
     ]
    },
    {
     "name": "stderr",
     "output_type": "stream",
     "text": [
      "G:\\Programs\\Anaconda2\\envs\\thesis-enron\\lib\\site-packages\\sklearn\\utils\\validation.py:70: FutureWarning: Pass labels=['no_entity', 'signature'] as keyword args. From version 0.25 passing these as positional arguments will result in an error\n",
      "  FutureWarning)\n"
     ]
    }
   ],
   "source": [
    "print(metrics.flat_classification_report(y_test, y_pred, labels=list(crf.classes_)))"
   ]
  },
  {
   "cell_type": "markdown",
   "metadata": {},
   "source": [
    "# Improve with blocking"
   ]
  },
  {
   "cell_type": "code",
   "execution_count": 275,
   "metadata": {},
   "outputs": [],
   "source": [
    "y_pred = crf.predict(X_test)"
   ]
  },
  {
   "cell_type": "code",
   "execution_count": 290,
   "metadata": {},
   "outputs": [
    {
     "name": "stdout",
     "output_type": "stream",
     "text": [
      "['signature', 'signature', 'signature', 'signature']\n"
     ]
    }
   ],
   "source": [
    "y_pred_blocks = copy.deepcopy(y_pred)\n",
    "from nltk import ngrams\n",
    "for doc in y_pred_blocks:\n",
    "    for i, x in enumerate(doc):\n",
    "        try:\n",
    "            prev = doc[i-1]\n",
    "            next_ = doc[i+1]\n",
    "            next_next_ = doc[i+2]\n",
    "        except IndexError as ex:\n",
    "            prev = None\n",
    "            next_ = None\n",
    "\n",
    "        if prev and next_ and prev == \"signature\" and next_ == \"signature\" and next_next_ == \"signature\" and x == \"no_entity\":\n",
    "            doc[i] = \"signature\"\n",
    "            print([doc[i-1], doc[i], doc[i+1], doc[i+2]])"
   ]
  },
  {
   "cell_type": "code",
   "execution_count": 284,
   "metadata": {},
   "outputs": [
    {
     "data": {
      "text/plain": [
       "[('no_entity', 'signature', 'signature'),\n",
       " ('no_entity', 'signature', 'no_entity'),\n",
       " ('no_entity', 'signature', 'no_entity'),\n",
       " ('no_entity', 'signature', 'signature'),\n",
       " ('no_entity', 'signature', 'no_entity'),\n",
       " ('no_entity', 'signature', 'no_entity')]"
      ]
     },
     "execution_count": 284,
     "metadata": {},
     "output_type": "execute_result"
    }
   ],
   "source": [
    "[(v, w, t) for x, y, truth in zip(y_pred, y_pred_blocks, y_test) for v, w, t in zip(x, y, truth) if v != w]"
   ]
  },
  {
   "cell_type": "code",
   "execution_count": 287,
   "metadata": {},
   "outputs": [
    {
     "data": {
      "text/plain": [
       "0.935251798561151"
      ]
     },
     "execution_count": 287,
     "metadata": {},
     "output_type": "execute_result"
    }
   ],
   "source": [
    "metrics.flat_f1_score(y_test, y_pred, average='binary', pos_label='signature')"
   ]
  },
  {
   "cell_type": "code",
   "execution_count": 291,
   "metadata": {},
   "outputs": [
    {
     "data": {
      "text/plain": [
       "0.9318996415770608"
      ]
     },
     "execution_count": 291,
     "metadata": {},
     "output_type": "execute_result"
    }
   ],
   "source": [
    "metrics.flat_f1_score(y_test, y_pred_blocks, average='binary', pos_label='signature')"
   ]
  },
  {
   "cell_type": "code",
   "execution_count": 296,
   "metadata": {},
   "outputs": [],
   "source": [
    "test[\"pred\"] = flatten(y_pred)"
   ]
  },
  {
   "cell_type": "code",
   "execution_count": 297,
   "metadata": {},
   "outputs": [],
   "source": [
    "test.to_pickle(\"crf_test_results.pkl\")"
   ]
  },
  {
   "cell_type": "code",
   "execution_count": 141,
   "metadata": {},
   "outputs": [],
   "source": [
    "from sklearn.model_selection import cross_val_score\n",
    "from sklearn.model_selection import GroupKFold"
   ]
  },
  {
   "cell_type": "code",
   "execution_count": 144,
   "metadata": {},
   "outputs": [],
   "source": [
    "# use the same metric for evaluation\n",
    "from sklearn.metrics import make_scorer\n",
    "f1_scorer = make_scorer(metrics.flat_f1_score, average='binary', pos_label='signature')"
   ]
  },
  {
   "cell_type": "code",
   "execution_count": 148,
   "metadata": {},
   "outputs": [
    {
     "name": "stderr",
     "output_type": "stream",
     "text": [
      "[Parallel(n_jobs=-1)]: Using backend LokyBackend with 12 concurrent workers.\n",
      "G:\\Programs\\Anaconda2\\envs\\thesis-enron\\lib\\site-packages\\sklearn\\base.py:213: FutureWarning: From version 0.24, get_params will raise an AttributeError if a parameter cannot be retrieved as an instance attribute. Previously it would return None.\n",
      "  FutureWarning)\n",
      "[Parallel(n_jobs=-1)]: Done   3 out of  10 | elapsed:    2.9s remaining:    6.9s\n",
      "[Parallel(n_jobs=-1)]: Done   5 out of  10 | elapsed:    4.6s remaining:    4.6s\n",
      "[Parallel(n_jobs=-1)]: Done   7 out of  10 | elapsed:    6.4s remaining:    2.7s\n",
      "[Parallel(n_jobs=-1)]: Done  10 out of  10 | elapsed:    8.2s finished\n"
     ]
    }
   ],
   "source": [
    "scores = cross_val_score(sklearn_crfsuite.CRF(), \n",
    "                X_test, y_test,\n",
    "                cv=10,\n",
    "                scoring=f1_scorer,\n",
    "                n_jobs=-1, \n",
    "                verbose=10 )"
   ]
  },
  {
   "cell_type": "code",
   "execution_count": 149,
   "metadata": {},
   "outputs": [
    {
     "data": {
      "text/plain": [
       "0.9098372795131461"
      ]
     },
     "execution_count": 149,
     "metadata": {},
     "output_type": "execute_result"
    }
   ],
   "source": [
    "scores.mean()"
   ]
  },
  {
   "cell_type": "code",
   "execution_count": 26,
   "metadata": {},
   "outputs": [
    {
     "name": "stderr",
     "output_type": "stream",
     "text": [
      "G:\\Programs\\Anaconda2\\envs\\thesis-enron\\lib\\site-packages\\sklearn\\utils\\deprecation.py:143: FutureWarning: The sklearn.metrics.scorer module is  deprecated in version 0.22 and will be removed in version 0.24. The corresponding classes / functions should instead be imported from sklearn.metrics. Anything that cannot be imported from sklearn.metrics is now part of the private API.\n",
      "  warnings.warn(message, FutureWarning)\n",
      "G:\\Programs\\Anaconda2\\envs\\thesis-enron\\lib\\site-packages\\sklearn\\utils\\deprecation.py:143: FutureWarning: The sklearn.feature_selection.base module is  deprecated in version 0.22 and will be removed in version 0.24. The corresponding classes / functions should instead be imported from sklearn.feature_selection. Anything that cannot be imported from sklearn.feature_selection is now part of the private API.\n",
      "  warnings.warn(message, FutureWarning)\n"
     ]
    },
    {
     "ename": "NameError",
     "evalue": "name 'crf' is not defined",
     "output_type": "error",
     "traceback": [
      "\u001b[1;31m---------------------------------------------------------------------------\u001b[0m",
      "\u001b[1;31mNameError\u001b[0m                                 Traceback (most recent call last)",
      "\u001b[1;32m<ipython-input-26-812a27a9d02f>\u001b[0m in \u001b[0;36m<module>\u001b[1;34m\u001b[0m\n\u001b[0;32m      1\u001b[0m \u001b[1;32mimport\u001b[0m \u001b[0meli5\u001b[0m\u001b[1;33m\u001b[0m\u001b[1;33m\u001b[0m\u001b[0m\n\u001b[1;32m----> 2\u001b[1;33m \u001b[0meli5\u001b[0m\u001b[1;33m.\u001b[0m\u001b[0mexplain_weights\u001b[0m\u001b[1;33m(\u001b[0m\u001b[0mcrf\u001b[0m\u001b[1;33m,\u001b[0m \u001b[0mtop\u001b[0m\u001b[1;33m=\u001b[0m\u001b[1;36m50\u001b[0m\u001b[1;33m)\u001b[0m\u001b[1;33m\u001b[0m\u001b[1;33m\u001b[0m\u001b[0m\n\u001b[0m",
      "\u001b[1;31mNameError\u001b[0m: name 'crf' is not defined"
     ]
    }
   ],
   "source": [
    "import eli5\n",
    "eli5.explain_weights(crf, top=50)"
   ]
  },
  {
   "cell_type": "markdown",
   "metadata": {},
   "source": [
    "# Grid Search"
   ]
  },
  {
   "cell_type": "code",
   "execution_count": 27,
   "metadata": {},
   "outputs": [],
   "source": [
    "import scipy\n",
    "from sklearn.metrics import make_scorer\n",
    "from sklearn.model_selection import RandomizedSearchCV\n",
    "from sklearn_crfsuite import metrics"
   ]
  },
  {
   "cell_type": "code",
   "execution_count": 28,
   "metadata": {},
   "outputs": [
    {
     "name": "stderr",
     "output_type": "stream",
     "text": [
      "G:\\Programs\\Anaconda2\\envs\\thesis-enron\\lib\\site-packages\\sklearn\\base.py:213: FutureWarning: From version 0.24, get_params will raise an AttributeError if a parameter cannot be retrieved as an instance attribute. Previously it would return None.\n",
      "  FutureWarning)\n",
      "[Parallel(n_jobs=-1)]: Using backend LokyBackend with 12 concurrent workers.\n"
     ]
    },
    {
     "name": "stdout",
     "output_type": "stream",
     "text": [
      "Fitting 3 folds for each of 50 candidates, totalling 150 fits\n"
     ]
    },
    {
     "name": "stderr",
     "output_type": "stream",
     "text": [
      "[Parallel(n_jobs=-1)]: Done  26 tasks      | elapsed:  1.9min\n",
      "[Parallel(n_jobs=-1)]: Done 150 out of 150 | elapsed: 12.0min finished\n"
     ]
    },
    {
     "data": {
      "text/plain": [
       "RandomizedSearchCV(cv=3, estimator=CRF(algorithm='lbfgs', keep_tempfiles=None),\n",
       "                   n_iter=50, n_jobs=-1,\n",
       "                   param_distributions={'c1': <scipy.stats._distn_infrastructure.rv_frozen object at 0x0000026B2E524488>,\n",
       "                                        'c2': <scipy.stats._distn_infrastructure.rv_frozen object at 0x0000026B2E9CBF88>},\n",
       "                   refit=False,\n",
       "                   scoring=make_scorer(flat_f1_score, average=binary, pos_label=signature),\n",
       "                   verbose=1)"
      ]
     },
     "execution_count": 28,
     "metadata": {},
     "output_type": "execute_result"
    }
   ],
   "source": [
    "# define fixed parameters and parameters to search\n",
    "crf = sklearn_crfsuite.CRF(\n",
    "    algorithm='lbfgs'\n",
    ")\n",
    "params_space = {\n",
    "    'c1': scipy.stats.expon(scale=0.5),\n",
    "    'c2': scipy.stats.expon(scale=0.05)\n",
    "}\n",
    "\n",
    "# use the same metric for evaluation\n",
    "f1_scorer = make_scorer(metrics.flat_f1_score, average='binary', pos_label='signature')\n",
    "\n",
    "# search\n",
    "rs = RandomizedSearchCV(crf, params_space,\n",
    "                        cv=3,\n",
    "                        verbose=1,\n",
    "                        n_jobs=-1,\n",
    "                        n_iter=50,\n",
    "                        scoring=f1_scorer,\n",
    "                        refit=False)\n",
    "rs.fit(X_train, y_train)"
   ]
  },
  {
   "cell_type": "code",
   "execution_count": 33,
   "metadata": {},
   "outputs": [
    {
     "ename": "AttributeError",
     "evalue": "'RandomizedSearchCV' object has no attribute 'best_estimator_'",
     "output_type": "error",
     "traceback": [
      "\u001b[1;31m---------------------------------------------------------------------------\u001b[0m",
      "\u001b[1;31mAttributeError\u001b[0m                            Traceback (most recent call last)",
      "\u001b[1;32m<ipython-input-33-063105b78ba5>\u001b[0m in \u001b[0;36m<module>\u001b[1;34m\u001b[0m\n\u001b[1;32m----> 1\u001b[1;33m \u001b[0mbest\u001b[0m \u001b[1;33m=\u001b[0m \u001b[0mrs\u001b[0m\u001b[1;33m.\u001b[0m\u001b[0mbest_estimator_\u001b[0m\u001b[1;33m\u001b[0m\u001b[1;33m\u001b[0m\u001b[0m\n\u001b[0m",
      "\u001b[1;31mAttributeError\u001b[0m: 'RandomizedSearchCV' object has no attribute 'best_estimator_'"
     ]
    }
   ],
   "source": [
    "best = rs.best_estimator_"
   ]
  },
  {
   "cell_type": "code",
   "execution_count": 32,
   "metadata": {},
   "outputs": [
    {
     "name": "stdout",
     "output_type": "stream",
     "text": [
      "Fitting 3 folds for each of 50 candidates, totalling 150 fits\n"
     ]
    },
    {
     "name": "stderr",
     "output_type": "stream",
     "text": [
      "[Parallel(n_jobs=-1)]: Using backend LokyBackend with 12 concurrent workers.\n",
      "[Parallel(n_jobs=-1)]: Done  26 tasks      | elapsed:  2.3min\n",
      "[Parallel(n_jobs=-1)]: Done 150 out of 150 | elapsed: 12.9min finished\n"
     ]
    }
   ],
   "source": [
    "best = rs.fit(X_train, y_train)"
   ]
  },
  {
   "cell_type": "code",
   "execution_count": 214,
   "metadata": {},
   "outputs": [
    {
     "data": {
      "text/plain": [
       "RandomizedSearchCV(cv=3, estimator=CRF(algorithm='lbfgs', keep_tempfiles=None),\n",
       "                   n_iter=50, n_jobs=-1,\n",
       "                   param_distributions={'c1': <scipy.stats._distn_infrastructure.rv_frozen object at 0x0000023C15E2CF88>,\n",
       "                                        'c2': <scipy.stats._distn_infrastructure.rv_frozen object at 0x0000023C15E2C1C8>},\n",
       "                   refit=False,\n",
       "                   scoring=make_scorer(flat_f1_score, average=binary, pos_label=signature),\n",
       "                   verbose=1)"
      ]
     },
     "execution_count": 214,
     "metadata": {},
     "output_type": "execute_result"
    }
   ],
   "source": [
    "rs"
   ]
  },
  {
   "cell_type": "code",
   "execution_count": 30,
   "metadata": {},
   "outputs": [
    {
     "data": {
      "text/plain": [
       "0.8364048389260947"
      ]
     },
     "execution_count": 30,
     "metadata": {},
     "output_type": "execute_result"
    }
   ],
   "source": [
    "rs.best_score_"
   ]
  },
  {
   "cell_type": "code",
   "execution_count": 31,
   "metadata": {},
   "outputs": [
    {
     "name": "stdout",
     "output_type": "stream",
     "text": [
      "best params: {'c1': 0.3133135499952666, 'c2': 0.006111656622502702}\n",
      "best CV score: 0.8364048389260947\n"
     ]
    },
    {
     "ename": "AttributeError",
     "evalue": "'RandomizedSearchCV' object has no attribute 'best_estimator_'",
     "output_type": "error",
     "traceback": [
      "\u001b[1;31m---------------------------------------------------------------------------\u001b[0m",
      "\u001b[1;31mAttributeError\u001b[0m                            Traceback (most recent call last)",
      "\u001b[1;32m<ipython-input-31-ef4166b05881>\u001b[0m in \u001b[0;36m<module>\u001b[1;34m\u001b[0m\n\u001b[0;32m      1\u001b[0m \u001b[0mprint\u001b[0m\u001b[1;33m(\u001b[0m\u001b[1;34m'best params:'\u001b[0m\u001b[1;33m,\u001b[0m \u001b[0mrs\u001b[0m\u001b[1;33m.\u001b[0m\u001b[0mbest_params_\u001b[0m\u001b[1;33m)\u001b[0m\u001b[1;33m\u001b[0m\u001b[1;33m\u001b[0m\u001b[0m\n\u001b[0;32m      2\u001b[0m \u001b[0mprint\u001b[0m\u001b[1;33m(\u001b[0m\u001b[1;34m'best CV score:'\u001b[0m\u001b[1;33m,\u001b[0m \u001b[0mrs\u001b[0m\u001b[1;33m.\u001b[0m\u001b[0mbest_score_\u001b[0m\u001b[1;33m)\u001b[0m\u001b[1;33m\u001b[0m\u001b[1;33m\u001b[0m\u001b[0m\n\u001b[1;32m----> 3\u001b[1;33m \u001b[0mprint\u001b[0m\u001b[1;33m(\u001b[0m\u001b[1;34m'model size: {:0.2f}M'\u001b[0m\u001b[1;33m.\u001b[0m\u001b[0mformat\u001b[0m\u001b[1;33m(\u001b[0m\u001b[0mrs\u001b[0m\u001b[1;33m.\u001b[0m\u001b[0mbest_estimator_\u001b[0m\u001b[1;33m.\u001b[0m\u001b[0msize_\u001b[0m \u001b[1;33m/\u001b[0m \u001b[1;36m1000000\u001b[0m\u001b[1;33m)\u001b[0m\u001b[1;33m)\u001b[0m\u001b[1;33m\u001b[0m\u001b[1;33m\u001b[0m\u001b[0m\n\u001b[0m",
      "\u001b[1;31mAttributeError\u001b[0m: 'RandomizedSearchCV' object has no attribute 'best_estimator_'"
     ]
    }
   ],
   "source": [
    "print('best params:', rs.best_params_)\n",
    "print('best CV score:', rs.best_score_)\n",
    "print('model size: {:0.2f}M'.format(rs.best_estimator_.size_ / 1000000))"
   ]
  },
  {
   "cell_type": "code",
   "execution_count": null,
   "metadata": {},
   "outputs": [],
   "source": []
  }
 ],
 "metadata": {
  "kernelspec": {
   "display_name": "Python 3",
   "language": "python",
   "name": "python3"
  },
  "language_info": {
   "codemirror_mode": {
    "name": "ipython",
    "version": 3
   },
   "file_extension": ".py",
   "mimetype": "text/x-python",
   "name": "python",
   "nbconvert_exporter": "python",
   "pygments_lexer": "ipython3",
   "version": "3.7.6"
  }
 },
 "nbformat": 4,
 "nbformat_minor": 2
}
