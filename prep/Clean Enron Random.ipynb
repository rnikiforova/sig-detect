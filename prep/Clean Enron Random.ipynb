{
 "cells": [
  {
   "cell_type": "code",
   "execution_count": 1,
   "metadata": {},
   "outputs": [],
   "source": [
    "import email\n",
    "import quopri as q\n",
    "import os"
   ]
  },
  {
   "cell_type": "code",
   "execution_count": 21,
   "metadata": {},
   "outputs": [],
   "source": [
    "with open(r\"F:\\Documents\\stopansko\\masters\\thesis\\sig-detect\\data\\raw\\some_quopri.txt\") as f:\n",
    "    #s = f.read()\n",
    "    output = open(r\"F:\\Documents\\stopansko\\masters\\thesis\\sig-detect\\data\\raw\\some_quopri_decoded.txt\", \"wb\")\n",
    "    decoded = q.decode(f, output)\n",
    "    output.close()"
   ]
  },
  {
   "cell_type": "code",
   "execution_count": 6,
   "metadata": {},
   "outputs": [
    {
     "name": "stdout",
     "output_type": "stream",
     "text": [
      "Message-ID: <9327689.1072143112713.JavaMail.evans@thyme>\n",
      "Date: Mon, 28 Aug 2000 03:19:00 -0700 (PDT)\n",
      "From: office.chairman@enron.com\n",
      "To: all.worldwide@enron.com\n",
      "Subject: EES Organizational Announcement\n",
      "Mime-Version: 1.0\n",
      "Content-Type: text/plain; charset=ANSI_X3.4-1968\n",
      "Content-Transfer-Encoding: quoted-printable\n",
      "\n",
      "Enron Energy Services has created explosive growth in the retail energy \n",
      "business.  To advance EES\u0001, leadership position and to rapidly expand the \n",
      "reach of its energy management services, the company is forming four new \n",
      "business groups and promoting several key individuals.\n",
      "\n",
      "EES continues to see an ever-increasing demand for energy management services \n",
      "in North America, with interest coming from a growing number of customer \n",
      "classes.  EES North America, headed by <true_name> Marty Sunde </true_name> , President and CEO, has \n",
      "been established to bring outsourcing, commodity and mid-market solutions to \n",
      "industrial and commercial customers in North America.  <true_name> Harold Buchanan  </true_name> and \n",
      "<true_name> Jeremy Blachman  </true_name> have been named co-Chief Operating Officers of the group.\n",
      "\n",
      "EES Europe is responsible for energy outsourcing across Europe, as well as \n",
      "rapidly growing mid-market business (Enron Direct, Enron Directo) and heavy \n",
      "industrial business (ETOL).  <true_name> Matthew Scrimshaw </true_name> , President and CEO will lead \n",
      "this group.\n",
      "\n",
      "As EES and Enron\u0001,s customer base grows, world class execution capabilities \n",
      "and customer relationship management skills are required to maximize value. \n",
      "Global Energy Services, headed by <true_name> Dan Leff </true_name> , President and CEO, is being \n",
      "established to manage execution, delivery, operations & maintenance, account \n",
      "/ customer management and contract value enhancement of Enron\u0001,s asset and \n",
      "energy outsourcing activities worldwide.  This group will include Enron \n",
      "Facility Services (EFS), led by <true_name> Joe Earle </true_name> , President & CEO and Operational \n",
      "Energy Corporation (OEC), led by <true_name> Mark Dobler </true_name> , Vice President.\n",
      "\n",
      "EES continues to see additional opportunities for business that will benefit \n",
      "from the growth of its energy outsourcing business.  To manage and develop \n",
      "these new business opportunities, EES New Business Ventures has been \n",
      "created.  <true_name> Mark Muller </true_name> , President and CEO will lead this group.\n",
      "\n",
      "All four new business leaders will report directly to EES\u0001, Office of the \n",
      "Chairman, <true_name> Lou Pai </true_name> , who will continue as Chairman, and <true_name> Tom White </true_name> , who will \n",
      "continue as <true_name> Vice Chairman </true_name> .  In addition, <true_name> Kevin Hughes </true_name> , <true_name> Vice  </true_name> President and \n",
      "Chief Accounting Officer, <true_name> Vicki Sharp </true_name> , Managing Director and General Counsel, \n",
      "and <true_name> Beth Tilney </true_name> , Managing Director of Marketing, HR and Customer Satisfaction \n",
      "will continue to report to the Office of the Chairman.\n",
      "\n",
      "Please join us in congratulating these individuals.\n"
     ]
    }
   ],
   "source": [
    "print(q.decodestring(s).decode(\"utf-8\"))"
   ]
  },
  {
   "cell_type": "code",
   "execution_count": 17,
   "metadata": {},
   "outputs": [
    {
     "name": "stdout",
     "output_type": "stream",
     "text": [
      "Message-ID: <9327689.1072143112713.JavaMail.evans@thyme>\n",
      "Date: Mon, 28 Aug 2000 03:19:00 -0700 (PDT)\n",
      "From: office.chairman@enron.com\n",
      "To: all.worldwide@enron.com\n",
      "Subject: EES Organizational Announcement\n",
      "Mime-Version: 1.0\n",
      "Content-Type: text/plain; charset=ANSI_X3.4-1968\n",
      "Content-Transfer-Encoding: quoted-printable\n",
      "\n",
      "Enron Energy Services has created explosive growth in the retail energy business.  To advance EES=01, leadership position and to rapidly expand the reach of its energy management services, the company is forming four new business groups and promoting several key individuals.\n",
      "\n",
      "EES continues to see an ever-increasing demand for energy management services in North America, with interest coming from a growing number of customer classes.  EES North America, headed by <true_name> Marty Sunde </true_name> , President and CEO, has been established to bring outsourcing, commodity and mid-market solutions to industrial and commercial customers in North America.  <true_name> Harold Buchanan  </true_name> and <true_name> Jeremy Blachman  </true_name> have been named co-Chief Operating Officers of the group.\n",
      "\n",
      "EES Europe is responsible for energy outsourcing across Europe, as well as rapidly growing mid-market business (Enron Direct, Enron Directo) and heavy industrial business (ETOL).  <true_name> Matthew Scrimshaw </true_name> , President and CEO will lead this group.\n",
      "\n",
      "As EES and Enron=01,s customer base grows, world class execution capabilities and customer relationship management skills are required to maximize value. Global Energy Services, headed by <true_name> Dan Leff </true_name> , President and CEO, is being established to manage execution, delivery, operations & maintenance, account / customer management and contract value enhancement of Enron=01,s asset and energy outsourcing activities worldwide.  This group will include Enron Facility Services (EFS), led by <true_name> Joe Earle </true_name> , President & CEO and Operational Energy Corporation (OEC), led by <true_name> Mark Dobler </true_name> , Vice President.\n",
      "\n",
      "EES continues to see additional opportunities for business that will benefit from the growth of its energy outsourcing business.  To manage and develop these new business opportunities, EES New Business Ventures has been created.  <true_name> Mark Muller </true_name> , President and CEO will lead this group.\n",
      "\n",
      "All four new business leaders will report directly to EES=01, Office of the Chairman, <true_name> Lou Pai </true_name> , who will continue as Chairman, and <true_name> Tom White </true_name> , who will continue as <true_name> Vice Chairman </true_name> .  In addition, <true_name> Kevin Hughes </true_name> , <true_name> Vice  </true_name> President and Chief Accounting Officer, <true_name> Vicki Sharp </true_name> , Managing Director and General Counsel, and <true_name> Beth Tilney </true_name> , Managing Director of Marketing, HR and Customer Satisfaction will continue to report to the Office of the Chairman.\n",
      "\n",
      "Please join us in congratulating these individuals.\n"
     ]
    }
   ],
   "source": [
    "print(s.replace(\"=\\n\", \"\").replace(\"=20\\n\", \" \"))"
   ]
  },
  {
   "cell_type": "code",
   "execution_count": 57,
   "metadata": {},
   "outputs": [],
   "source": [
    "def parse_body(text):\n",
    "    text = q.decodestring(text).decode(\"utf-8\")\n",
    "    text = text.replace(\"<true_name> \", \"\")\n",
    "    text = text.replace(\" </true_name> \", \"\")\n",
    "    return text"
   ]
  },
  {
   "cell_type": "code",
   "execution_count": 60,
   "metadata": {},
   "outputs": [],
   "source": [
    "mails = {}\n",
    "base_path = r\"../data/raw/EnronRandom-XML/train\" \n",
    "for folder in os.listdir(base_path):\n",
    "    files = os.listdir(os.path.join(base_path, folder))\n",
    "    for file in files:\n",
    "        with open(os.path.join(base_path, folder, file), encoding=\"utf-8\") as f:           \n",
    "            text = f.read()   \n",
    "            msg = email.message_from_string(text)\n",
    "            if msg.is_multipart():\n",
    "                body = []\n",
    "                for payload in msg.get_payload():\n",
    "                    curr_payload = payload.get_payload()\n",
    "                    if isinstance(curr_payload, str):\n",
    "                        body.append(parse_body(curr_payload))\n",
    "                mails[file] = \"\".join(body)\n",
    "            else:\n",
    "                mails[file] = parse_body(msg.get_payload())"
   ]
  },
  {
   "cell_type": "code",
   "execution_count": 14,
   "metadata": {},
   "outputs": [],
   "source": [
    "base_path_out = r\"../data/clean/enron_random\" "
   ]
  },
  {
   "cell_type": "code",
   "execution_count": 64,
   "metadata": {},
   "outputs": [],
   "source": [
    "for filename, text in mails.items():\n",
    "    with open(os.path.join(base_path_out, filename), encoding=\"utf-8\", mode=\"w+\") as f:\n",
    "        f.write(text)"
   ]
  },
  {
   "cell_type": "markdown",
   "metadata": {},
   "source": [
    "# Extract senders"
   ]
  },
  {
   "cell_type": "code",
   "execution_count": 22,
   "metadata": {},
   "outputs": [],
   "source": [
    "senders = {}\n",
    "base_path = r\"../data/raw/EnronRandom-XML/train\" \n",
    "for folder in os.listdir(base_path):\n",
    "    files = os.listdir(os.path.join(base_path, folder))\n",
    "    for file in files:\n",
    "        with open(os.path.join(base_path, folder, file), encoding=\"utf-8\") as f:           \n",
    "            text = f.read()   \n",
    "            msg = email.message_from_string(text)\n",
    "            senders[file] = msg[\"From\"]"
   ]
  },
  {
   "cell_type": "code",
   "execution_count": 23,
   "metadata": {},
   "outputs": [
    {
     "data": {
      "text/plain": [
       "True"
      ]
     },
     "execution_count": 23,
     "metadata": {},
     "output_type": "execute_result"
    }
   ],
   "source": [
    "len(senders) == len([s for s in senders if s])"
   ]
  },
  {
   "cell_type": "code",
   "execution_count": 24,
   "metadata": {},
   "outputs": [
    {
     "data": {
      "text/plain": [
       "[None]"
      ]
     },
     "execution_count": 24,
     "metadata": {},
     "output_type": "execute_result"
    }
   ],
   "source": [
    "[s for s in senders.values() if not s]"
   ]
  },
  {
   "cell_type": "code",
   "execution_count": 25,
   "metadata": {},
   "outputs": [],
   "source": [
    "for filename, sender in senders.items():\n",
    "    with open(os.path.join(base_path_out, f\"{filename}_sender\"), encoding=\"utf-8\", mode=\"w+\") as f:\n",
    "        f.write(sender if sender else \"None\")"
   ]
  },
  {
   "cell_type": "code",
   "execution_count": null,
   "metadata": {},
   "outputs": [],
   "source": []
  }
 ],
 "metadata": {
  "kernelspec": {
   "display_name": "Python 3",
   "language": "python",
   "name": "python3"
  },
  "language_info": {
   "codemirror_mode": {
    "name": "ipython",
    "version": 3
   },
   "file_extension": ".py",
   "mimetype": "text/x-python",
   "name": "python",
   "nbconvert_exporter": "python",
   "pygments_lexer": "ipython3",
   "version": "3.7.6"
  }
 },
 "nbformat": 4,
 "nbformat_minor": 2
}
