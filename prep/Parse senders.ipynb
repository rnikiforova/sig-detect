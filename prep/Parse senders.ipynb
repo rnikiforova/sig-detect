{
 "cells": [
  {
   "cell_type": "code",
   "execution_count": 49,
   "metadata": {},
   "outputs": [],
   "source": [
    "import os\n",
    "import re\n",
    "import string\n",
    "import email"
   ]
  },
  {
   "cell_type": "code",
   "execution_count": 60,
   "metadata": {},
   "outputs": [],
   "source": [
    "def email_to_name(text):\n",
    "    import email\n",
    "    import os\n",
    "    import re\n",
    "\n",
    "    if \"@\" not in text:\n",
    "        return text\n",
    "    \n",
    "    name, mail = email.utils.parseaddr(text)\n",
    "    if name:\n",
    "        return name\n",
    "    \n",
    "    name, domain = text.split(\"@\")\n",
    "    name_parts = [x.strip() for x in re.split(r\"@|\\.|\\W|\\_\", name) if x.strip()]\n",
    "    return \" \".join(name_parts)"
   ]
  },
  {
   "cell_type": "code",
   "execution_count": 58,
   "metadata": {},
   "outputs": [],
   "source": [
    "unique_senders = set()\n",
    "for root, dirs, files in os.walk(r\"F:\\Documents\\stopansko\\masters\\thesis\\sig-detect\\data\\clean\\enron_random_clean\"):\n",
    "    for file in files:\n",
    "        if \"sender\" in file:\n",
    "            with open(os.path.join(root, file), encoding=\"utf-8\") as f:\n",
    "                mail = f.read()           \n",
    "                name = email_to_name(mail)\n",
    "                unique_senders.add(name)"
   ]
  },
  {
   "cell_type": "code",
   "execution_count": 90,
   "metadata": {},
   "outputs": [],
   "source": [
    "def has_sender_name(line, sender_name):\n",
    "    for name in sender_name.split(\" \"):\n",
    "        if name in line:\n",
    "            return True\n",
    "    return False"
   ]
  },
  {
   "cell_type": "markdown",
   "metadata": {},
   "source": [
    "# Add Senders"
   ]
  },
  {
   "cell_type": "code",
   "execution_count": 63,
   "metadata": {},
   "outputs": [],
   "source": [
    "import pandas as pd"
   ]
  },
  {
   "cell_type": "code",
   "execution_count": 64,
   "metadata": {},
   "outputs": [],
   "source": [
    "master = pd.read_pickle(\"enron_random_clean1.pkl\")"
   ]
  },
  {
   "cell_type": "code",
   "execution_count": 67,
   "metadata": {},
   "outputs": [],
   "source": [
    "filenames = master.filename.unique()"
   ]
  },
  {
   "cell_type": "code",
   "execution_count": 71,
   "metadata": {},
   "outputs": [],
   "source": [
    "senders = {}\n",
    "for filename in filenames:\n",
    "    base_path = r\"F:\\Documents\\stopansko\\masters\\thesis\\sig-detect\\data\\clean\\enron_random_clean\"\n",
    "    with open(os.path.join(base_path, filename.replace(\".txt\", \"_sender.txt\")), encoding=\"utf-8\") as f:\n",
    "        senders[filename] = f.read()"
   ]
  },
  {
   "cell_type": "code",
   "execution_count": 74,
   "metadata": {},
   "outputs": [],
   "source": [
    "master[\"sender\"] = master.apply(lambda row: senders[row.filename], axis=1)\n",
    "master[\"sender_name\"] = master.apply(lambda row: email_to_name(senders[row.filename]), axis=1)\n",
    "master[\"has_sender\"] = master.apply(lambda row: row.sender.lower() in row.line.lower(), axis=1)\n",
    "master[\"has_sender_name\"] = master.apply(lambda row: 1 if has_sender_name(row.line, row.sender_name) else 0, axis=1)"
   ]
  },
  {
   "cell_type": "code",
   "execution_count": 97,
   "metadata": {},
   "outputs": [],
   "source": [
    "master.to_pickle(\"enron_random_clean1_senders.pkl\")"
   ]
  }
 ],
 "metadata": {
  "kernelspec": {
   "display_name": "Python 3",
   "language": "python",
   "name": "python3"
  },
  "language_info": {
   "codemirror_mode": {
    "name": "ipython",
    "version": 3
   },
   "file_extension": ".py",
   "mimetype": "text/x-python",
   "name": "python",
   "nbconvert_exporter": "python",
   "pygments_lexer": "ipython3",
   "version": "3.7.6"
  }
 },
 "nbformat": 4,
 "nbformat_minor": 2
}
