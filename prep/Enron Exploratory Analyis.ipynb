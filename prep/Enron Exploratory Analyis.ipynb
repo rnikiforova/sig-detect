{
 "cells": [
  {
   "cell_type": "code",
   "execution_count": 3,
   "metadata": {},
   "outputs": [],
   "source": [
    "%matplotlib inline\n",
    "import os\n",
    "import re\n",
    "import string\n",
    "\n",
    "import numpy as np\n",
    "import pandas as pd\n",
    "import matplotlib.pyplot as plt\n",
    "from matplotlib.ticker import PercentFormatter"
   ]
  },
  {
   "cell_type": "code",
   "execution_count": 4,
   "metadata": {},
   "outputs": [],
   "source": [
    "from IPython.core.display import display, HTML\n",
    "\n",
    "def display_side_by_side(dfs:list, captions:list):\n",
    "    \"\"\"Display tables side by side to save vertical space\n",
    "    Input:\n",
    "        dfs: list of pandas.DataFrame\n",
    "        captions: list of table captions\n",
    "    \"\"\"\n",
    "    output = \"\"\n",
    "    combined = dict(zip(captions, dfs))\n",
    "    for caption, df in combined.items():\n",
    "        output += df.style.set_table_attributes(\"style='display:inline'\").set_caption(caption)._repr_html_()\n",
    "        output += \"\\xa0\\xa0\\xa0\"\n",
    "    display(HTML(output))"
   ]
  },
  {
   "cell_type": "code",
   "execution_count": 5,
   "metadata": {},
   "outputs": [],
   "source": [
    "def is_binary(series, allow_na=False):\n",
    "    if allow_na:\n",
    "        series.dropna(inplace=True)\n",
    "    return sorted(series.unique()) == [0, 1]"
   ]
  },
  {
   "cell_type": "code",
   "execution_count": 6,
   "metadata": {},
   "outputs": [],
   "source": [
    "master = pd.read_pickle(\"enron_random_clean1_senders.pkl\")"
   ]
  },
  {
   "cell_type": "code",
   "execution_count": 8,
   "metadata": {},
   "outputs": [
    {
     "data": {
      "text/plain": [
       "line                object\n",
       "filename            object\n",
       "entity              object\n",
       "len                  int64\n",
       "lineNo               int64\n",
       "                     ...  \n",
       "next_same_entity     int64\n",
       "sender              object\n",
       "sender_name         object\n",
       "has_sender            bool\n",
       "has_sender_name      int64\n",
       "Length: 69, dtype: object"
      ]
     },
     "execution_count": 8,
     "metadata": {},
     "output_type": "execute_result"
    }
   ],
   "source": [
    "master.dtypes"
   ]
  },
  {
   "cell_type": "markdown",
   "metadata": {},
   "source": [
    "# Note: Consider adding quantile for the position of the line.\n",
    "\n",
    "Meaning in which quantile of the message is the line"
   ]
  },
  {
   "cell_type": "code",
   "execution_count": 315,
   "metadata": {},
   "outputs": [
    {
     "data": {
      "text/html": [
       "<div>\n",
       "<style scoped>\n",
       "    .dataframe tbody tr th:only-of-type {\n",
       "        vertical-align: middle;\n",
       "    }\n",
       "\n",
       "    .dataframe tbody tr th {\n",
       "        vertical-align: top;\n",
       "    }\n",
       "\n",
       "    .dataframe thead th {\n",
       "        text-align: right;\n",
       "    }\n",
       "</style>\n",
       "<table border=\"1\" class=\"dataframe\">\n",
       "  <thead>\n",
       "    <tr style=\"text-align: right;\">\n",
       "      <th></th>\n",
       "      <th>line</th>\n",
       "      <th>posFromEnd</th>\n",
       "      <th>last</th>\n",
       "      <th>prevlast</th>\n",
       "      <th>last5</th>\n",
       "      <th>last11</th>\n",
       "      <th>posRatio</th>\n",
       "      <th>posRatioNB</th>\n",
       "      <th>len</th>\n",
       "      <th>len_avg</th>\n",
       "      <th>lenRatio</th>\n",
       "    </tr>\n",
       "  </thead>\n",
       "  <tbody>\n",
       "    <tr>\n",
       "      <th>150</th>\n",
       "      <td>Yes there are many different subs that have be...</td>\n",
       "      <td>9</td>\n",
       "      <td>0</td>\n",
       "      <td>0</td>\n",
       "      <td>0</td>\n",
       "      <td>1</td>\n",
       "      <td>0.943750</td>\n",
       "      <td>1.086331</td>\n",
       "      <td>69</td>\n",
       "      <td>53.0</td>\n",
       "      <td>1.301887</td>\n",
       "    </tr>\n",
       "    <tr>\n",
       "      <th>151</th>\n",
       "      <td>provide these if you are interested.</td>\n",
       "      <td>8</td>\n",
       "      <td>0</td>\n",
       "      <td>0</td>\n",
       "      <td>0</td>\n",
       "      <td>1</td>\n",
       "      <td>0.950000</td>\n",
       "      <td>1.093525</td>\n",
       "      <td>36</td>\n",
       "      <td>53.0</td>\n",
       "      <td>0.679245</td>\n",
       "    </tr>\n",
       "    <tr>\n",
       "      <th>152</th>\n",
       "      <td></td>\n",
       "      <td>7</td>\n",
       "      <td>0</td>\n",
       "      <td>0</td>\n",
       "      <td>0</td>\n",
       "      <td>1</td>\n",
       "      <td>0.956250</td>\n",
       "      <td>1.100719</td>\n",
       "      <td>0</td>\n",
       "      <td>53.0</td>\n",
       "      <td>0.000000</td>\n",
       "    </tr>\n",
       "    <tr>\n",
       "      <th>153</th>\n",
       "      <td>I know I have not answered everything, but thi...</td>\n",
       "      <td>6</td>\n",
       "      <td>0</td>\n",
       "      <td>0</td>\n",
       "      <td>0</td>\n",
       "      <td>1</td>\n",
       "      <td>0.962500</td>\n",
       "      <td>1.107914</td>\n",
       "      <td>74</td>\n",
       "      <td>53.0</td>\n",
       "      <td>1.396226</td>\n",
       "    </tr>\n",
       "    <tr>\n",
       "      <th>154</th>\n",
       "      <td>when you have reviewed and we can discuss furt...</td>\n",
       "      <td>5</td>\n",
       "      <td>0</td>\n",
       "      <td>0</td>\n",
       "      <td>0</td>\n",
       "      <td>1</td>\n",
       "      <td>0.968750</td>\n",
       "      <td>1.115108</td>\n",
       "      <td>50</td>\n",
       "      <td>53.0</td>\n",
       "      <td>0.943396</td>\n",
       "    </tr>\n",
       "    <tr>\n",
       "      <th>155</th>\n",
       "      <td></td>\n",
       "      <td>4</td>\n",
       "      <td>0</td>\n",
       "      <td>0</td>\n",
       "      <td>1</td>\n",
       "      <td>1</td>\n",
       "      <td>0.975000</td>\n",
       "      <td>1.122302</td>\n",
       "      <td>0</td>\n",
       "      <td>53.0</td>\n",
       "      <td>0.000000</td>\n",
       "    </tr>\n",
       "    <tr>\n",
       "      <th>156</th>\n",
       "      <td>Sincerely,</td>\n",
       "      <td>3</td>\n",
       "      <td>0</td>\n",
       "      <td>0</td>\n",
       "      <td>1</td>\n",
       "      <td>1</td>\n",
       "      <td>0.981250</td>\n",
       "      <td>1.129496</td>\n",
       "      <td>10</td>\n",
       "      <td>53.0</td>\n",
       "      <td>0.188679</td>\n",
       "    </tr>\n",
       "    <tr>\n",
       "      <th>157</th>\n",
       "      <td></td>\n",
       "      <td>2</td>\n",
       "      <td>0</td>\n",
       "      <td>0</td>\n",
       "      <td>1</td>\n",
       "      <td>1</td>\n",
       "      <td>0.987500</td>\n",
       "      <td>1.136691</td>\n",
       "      <td>0</td>\n",
       "      <td>53.0</td>\n",
       "      <td>0.000000</td>\n",
       "    </tr>\n",
       "    <tr>\n",
       "      <th>158</th>\n",
       "      <td>George Richards</td>\n",
       "      <td>1</td>\n",
       "      <td>0</td>\n",
       "      <td>1</td>\n",
       "      <td>1</td>\n",
       "      <td>1</td>\n",
       "      <td>0.993750</td>\n",
       "      <td>1.143885</td>\n",
       "      <td>15</td>\n",
       "      <td>53.0</td>\n",
       "      <td>0.283019</td>\n",
       "    </tr>\n",
       "    <tr>\n",
       "      <th>159</th>\n",
       "      <td>President, Creekside Builders, LLC</td>\n",
       "      <td>0</td>\n",
       "      <td>1</td>\n",
       "      <td>0</td>\n",
       "      <td>1</td>\n",
       "      <td>1</td>\n",
       "      <td>1.000000</td>\n",
       "      <td>1.151079</td>\n",
       "      <td>34</td>\n",
       "      <td>53.0</td>\n",
       "      <td>0.641509</td>\n",
       "    </tr>\n",
       "    <tr>\n",
       "      <th>160</th>\n",
       "      <td>Lucy,</td>\n",
       "      <td>4</td>\n",
       "      <td>0</td>\n",
       "      <td>0</td>\n",
       "      <td>1</td>\n",
       "      <td>1</td>\n",
       "      <td>0.200000</td>\n",
       "      <td>0.250000</td>\n",
       "      <td>5</td>\n",
       "      <td>20.0</td>\n",
       "      <td>0.250000</td>\n",
       "    </tr>\n",
       "    <tr>\n",
       "      <th>161</th>\n",
       "      <td>I got your email with the attachment.  Let's ...</td>\n",
       "      <td>3</td>\n",
       "      <td>0</td>\n",
       "      <td>0</td>\n",
       "      <td>1</td>\n",
       "      <td>1</td>\n",
       "      <td>0.400000</td>\n",
       "      <td>0.500000</td>\n",
       "      <td>78</td>\n",
       "      <td>20.0</td>\n",
       "      <td>3.900000</td>\n",
       "    </tr>\n",
       "    <tr>\n",
       "      <th>162</th>\n",
       "      <td>done</td>\n",
       "      <td>2</td>\n",
       "      <td>0</td>\n",
       "      <td>0</td>\n",
       "      <td>1</td>\n",
       "      <td>1</td>\n",
       "      <td>0.600000</td>\n",
       "      <td>0.750000</td>\n",
       "      <td>4</td>\n",
       "      <td>20.0</td>\n",
       "      <td>0.200000</td>\n",
       "    </tr>\n",
       "    <tr>\n",
       "      <th>163</th>\n",
       "      <td></td>\n",
       "      <td>1</td>\n",
       "      <td>0</td>\n",
       "      <td>1</td>\n",
       "      <td>1</td>\n",
       "      <td>1</td>\n",
       "      <td>0.800000</td>\n",
       "      <td>1.000000</td>\n",
       "      <td>0</td>\n",
       "      <td>20.0</td>\n",
       "      <td>0.000000</td>\n",
       "    </tr>\n",
       "    <tr>\n",
       "      <th>164</th>\n",
       "      <td>Phillip</td>\n",
       "      <td>0</td>\n",
       "      <td>1</td>\n",
       "      <td>0</td>\n",
       "      <td>1</td>\n",
       "      <td>1</td>\n",
       "      <td>1.000000</td>\n",
       "      <td>1.250000</td>\n",
       "      <td>7</td>\n",
       "      <td>20.0</td>\n",
       "      <td>0.350000</td>\n",
       "    </tr>\n",
       "    <tr>\n",
       "      <th>165</th>\n",
       "      <td>George,</td>\n",
       "      <td>13</td>\n",
       "      <td>0</td>\n",
       "      <td>0</td>\n",
       "      <td>0</td>\n",
       "      <td>0</td>\n",
       "      <td>0.071429</td>\n",
       "      <td>0.100000</td>\n",
       "      <td>7</td>\n",
       "      <td>37.0</td>\n",
       "      <td>0.189189</td>\n",
       "    </tr>\n",
       "  </tbody>\n",
       "</table>\n",
       "</div>"
      ],
      "text/plain": [
       "                                                  line  posFromEnd  last  \\\n",
       "150  Yes there are many different subs that have be...           9     0   \n",
       "151               provide these if you are interested.           8     0   \n",
       "152                                                              7     0   \n",
       "153  I know I have not answered everything, but thi...           6     0   \n",
       "154  when you have reviewed and we can discuss furt...           5     0   \n",
       "155                                                              4     0   \n",
       "156                                         Sincerely,           3     0   \n",
       "157                                                              2     0   \n",
       "158                                    George Richards           1     0   \n",
       "159                 President, Creekside Builders, LLC           0     1   \n",
       "160                                              Lucy,           4     0   \n",
       "161   I got your email with the attachment.  Let's ...           3     0   \n",
       "162                                               done           2     0   \n",
       "163                                                              1     0   \n",
       "164                                            Phillip           0     1   \n",
       "165                                            George,          13     0   \n",
       "\n",
       "     prevlast  last5  last11  posRatio  posRatioNB  len  len_avg  lenRatio  \n",
       "150         0      0       1  0.943750    1.086331   69     53.0  1.301887  \n",
       "151         0      0       1  0.950000    1.093525   36     53.0  0.679245  \n",
       "152         0      0       1  0.956250    1.100719    0     53.0  0.000000  \n",
       "153         0      0       1  0.962500    1.107914   74     53.0  1.396226  \n",
       "154         0      0       1  0.968750    1.115108   50     53.0  0.943396  \n",
       "155         0      1       1  0.975000    1.122302    0     53.0  0.000000  \n",
       "156         0      1       1  0.981250    1.129496   10     53.0  0.188679  \n",
       "157         0      1       1  0.987500    1.136691    0     53.0  0.000000  \n",
       "158         1      1       1  0.993750    1.143885   15     53.0  0.283019  \n",
       "159         0      1       1  1.000000    1.151079   34     53.0  0.641509  \n",
       "160         0      1       1  0.200000    0.250000    5     20.0  0.250000  \n",
       "161         0      1       1  0.400000    0.500000   78     20.0  3.900000  \n",
       "162         0      1       1  0.600000    0.750000    4     20.0  0.200000  \n",
       "163         1      1       1  0.800000    1.000000    0     20.0  0.000000  \n",
       "164         0      1       1  1.000000    1.250000    7     20.0  0.350000  \n",
       "165         0      0       0  0.071429    0.100000    7     37.0  0.189189  "
      ]
     },
     "execution_count": 315,
     "metadata": {},
     "output_type": "execute_result"
    }
   ],
   "source": [
    "master.loc[150:165:,(\"line\", \"posFromEnd\", \"last\", \"prevlast\", \"last5\", \"last11\", \"posRatio\", \"posRatioNB\", \"len\", \"len_avg\", \"lenRatio\")]"
   ]
  },
  {
   "cell_type": "code",
   "execution_count": 316,
   "metadata": {},
   "outputs": [
    {
     "name": "stderr",
     "output_type": "stream",
     "text": [
      "G:\\Programs\\Anaconda2\\envs\\thesis-enron\\lib\\site-packages\\pandas\\core\\indexing.py:805: FutureWarning: \n",
      "Passing list-likes to .loc or [] with any missing label will raise\n",
      "KeyError in the future, you can use .reindex() as an alternative.\n",
      "\n",
      "See the documentation here:\n",
      "https://pandas.pydata.org/pandas-docs/stable/user_guide/indexing.html#deprecate-loc-reindex-listlike\n",
      "  return self._getitem_lowerdim(tup)\n"
     ]
    },
    {
     "data": {
      "text/html": [
       "<div>\n",
       "<style scoped>\n",
       "    .dataframe tbody tr th:only-of-type {\n",
       "        vertical-align: middle;\n",
       "    }\n",
       "\n",
       "    .dataframe tbody tr th {\n",
       "        vertical-align: top;\n",
       "    }\n",
       "\n",
       "    .dataframe thead th {\n",
       "        text-align: right;\n",
       "    }\n",
       "</style>\n",
       "<table border=\"1\" class=\"dataframe\">\n",
       "  <thead>\n",
       "    <tr style=\"text-align: right;\">\n",
       "      <th></th>\n",
       "      <th>len</th>\n",
       "      <th>len_avg</th>\n",
       "      <th>less_avg_len</th>\n",
       "      <th>more_avg_len</th>\n",
       "      <th>line</th>\n",
       "      <th>hasCid</th>\n",
       "    </tr>\n",
       "  </thead>\n",
       "  <tbody>\n",
       "    <tr>\n",
       "      <th>3571</th>\n",
       "      <td>27</td>\n",
       "      <td>30.0</td>\n",
       "      <td>1</td>\n",
       "      <td>0</td>\n",
       "      <td>-----Original Message-----</td>\n",
       "      <td>NaN</td>\n",
       "    </tr>\n",
       "    <tr>\n",
       "      <th>727</th>\n",
       "      <td>27</td>\n",
       "      <td>31.0</td>\n",
       "      <td>1</td>\n",
       "      <td>0</td>\n",
       "      <td>Outlook 2000 Migration Team</td>\n",
       "      <td>NaN</td>\n",
       "    </tr>\n",
       "    <tr>\n",
       "      <th>7272</th>\n",
       "      <td>77</td>\n",
       "      <td>31.0</td>\n",
       "      <td>0</td>\n",
       "      <td>1</td>\n",
       "      <td>telecommunications, network, and entertainment...</td>\n",
       "      <td>NaN</td>\n",
       "    </tr>\n",
       "    <tr>\n",
       "      <th>10757</th>\n",
       "      <td>75</td>\n",
       "      <td>29.0</td>\n",
       "      <td>0</td>\n",
       "      <td>1</td>\n",
       "      <td>Feel free to copy all you want, assuming there...</td>\n",
       "      <td>NaN</td>\n",
       "    </tr>\n",
       "    <tr>\n",
       "      <th>9341</th>\n",
       "      <td>0</td>\n",
       "      <td>43.0</td>\n",
       "      <td>1</td>\n",
       "      <td>0</td>\n",
       "      <td></td>\n",
       "      <td>NaN</td>\n",
       "    </tr>\n",
       "    <tr>\n",
       "      <th>5978</th>\n",
       "      <td>0</td>\n",
       "      <td>15.0</td>\n",
       "      <td>1</td>\n",
       "      <td>0</td>\n",
       "      <td></td>\n",
       "      <td>NaN</td>\n",
       "    </tr>\n",
       "    <tr>\n",
       "      <th>3535</th>\n",
       "      <td>70</td>\n",
       "      <td>38.0</td>\n",
       "      <td>0</td>\n",
       "      <td>1</td>\n",
       "      <td>the original one used by Enron and edited acco...</td>\n",
       "      <td>NaN</td>\n",
       "    </tr>\n",
       "    <tr>\n",
       "      <th>3740</th>\n",
       "      <td>76</td>\n",
       "      <td>35.0</td>\n",
       "      <td>0</td>\n",
       "      <td>1</td>\n",
       "      <td>will not see the final, calculated price until...</td>\n",
       "      <td>NaN</td>\n",
       "    </tr>\n",
       "    <tr>\n",
       "      <th>8008</th>\n",
       "      <td>0</td>\n",
       "      <td>20.0</td>\n",
       "      <td>1</td>\n",
       "      <td>0</td>\n",
       "      <td></td>\n",
       "      <td>NaN</td>\n",
       "    </tr>\n",
       "    <tr>\n",
       "      <th>10014</th>\n",
       "      <td>28</td>\n",
       "      <td>29.0</td>\n",
       "      <td>1</td>\n",
       "      <td>0</td>\n",
       "      <td>&gt; -----Original Message-----</td>\n",
       "      <td>NaN</td>\n",
       "    </tr>\n",
       "  </tbody>\n",
       "</table>\n",
       "</div>"
      ],
      "text/plain": [
       "       len  len_avg  less_avg_len  more_avg_len  \\\n",
       "3571    27     30.0             1             0   \n",
       "727     27     31.0             1             0   \n",
       "7272    77     31.0             0             1   \n",
       "10757   75     29.0             0             1   \n",
       "9341     0     43.0             1             0   \n",
       "5978     0     15.0             1             0   \n",
       "3535    70     38.0             0             1   \n",
       "3740    76     35.0             0             1   \n",
       "8008     0     20.0             1             0   \n",
       "10014   28     29.0             1             0   \n",
       "\n",
       "                                                    line  hasCid  \n",
       "3571                          -----Original Message-----     NaN  \n",
       "727                          Outlook 2000 Migration Team     NaN  \n",
       "7272   telecommunications, network, and entertainment...     NaN  \n",
       "10757  Feel free to copy all you want, assuming there...     NaN  \n",
       "9341                                                         NaN  \n",
       "5978                                                         NaN  \n",
       "3535   the original one used by Enron and edited acco...     NaN  \n",
       "3740   will not see the final, calculated price until...     NaN  \n",
       "8008                                                         NaN  \n",
       "10014                       > -----Original Message-----     NaN  "
      ]
     },
     "execution_count": 316,
     "metadata": {},
     "output_type": "execute_result"
    }
   ],
   "source": [
    "master.sample(10).loc[:,(\"len\", \"len_avg\", \"less_avg_len\", \"more_avg_len\", \"line\", \"hasCid\")]"
   ]
  },
  {
   "cell_type": "code",
   "execution_count": 317,
   "metadata": {},
   "outputs": [],
   "source": [
    "all_features = feature_dict.keys() | [\"last\", \"prevlast\", \"last5\", \"last11\"]"
   ]
  },
  {
   "cell_type": "code",
   "execution_count": 318,
   "metadata": {},
   "outputs": [],
   "source": [
    "signatures = master[master.entity == \"signature\"]"
   ]
  },
  {
   "cell_type": "code",
   "execution_count": 319,
   "metadata": {},
   "outputs": [],
   "source": [
    "NOTsignatures = master[master.entity != \"signature\"]"
   ]
  },
  {
   "cell_type": "code",
   "execution_count": 320,
   "metadata": {},
   "outputs": [
    {
     "data": {
      "text/plain": [
       "18028"
      ]
     },
     "execution_count": 320,
     "metadata": {},
     "output_type": "execute_result"
    }
   ],
   "source": [
    "len(signatures) + len(NOTsignatures)"
   ]
  },
  {
   "cell_type": "code",
   "execution_count": 321,
   "metadata": {},
   "outputs": [
    {
     "data": {
      "text/plain": [
       "18028"
      ]
     },
     "execution_count": 321,
     "metadata": {},
     "output_type": "execute_result"
    }
   ],
   "source": [
    "len(master)"
   ]
  },
  {
   "cell_type": "markdown",
   "metadata": {},
   "source": [
    "# What words are typical for signatures?"
   ]
  },
  {
   "cell_type": "code",
   "execution_count": 60,
   "metadata": {},
   "outputs": [],
   "source": [
    "stop_words = \"the and you to or of this for is in if are at by on it\".split(\" \")"
   ]
  },
  {
   "cell_type": "code",
   "execution_count": 63,
   "metadata": {},
   "outputs": [],
   "source": [
    "from sklearn.feature_extraction.text import CountVectorizer\n",
    "def get_top_n_words(corpus, n=None):\n",
    "    \"\"\"\n",
    "    List the top n words in a vocabulary according to occurrence in a text corpus.\n",
    "    \n",
    "    get_top_n_words([\"I love Python\", \"Python is a language programming\", \"Hello world\", \"I love the world\"]) -> \n",
    "    [('python', 2),\n",
    "     ('world', 2),\n",
    "     ('love', 2),\n",
    "     ('hello', 1),\n",
    "     ('is', 1),\n",
    "     ('programming', 1),\n",
    "     ('the', 1),\n",
    "     ('language', 1)]\n",
    "    \"\"\"\n",
    "#     vec = CountVectorizer(stop_words=stop_words).fit(corpus)\n",
    "    vec = CountVectorizer(stop_words=stop_words).fit(corpus)\n",
    "    bag_of_words = vec.transform(corpus)\n",
    "    sum_words = bag_of_words.sum(axis=0) \n",
    "    words_freq = [(word, sum_words[0, idx]) for word, idx in     vec.vocabulary_.items()]\n",
    "    words_freq =sorted(words_freq, key = lambda x: x[1], reverse=True)\n",
    "    return words_freq[:n]"
   ]
  },
  {
   "cell_type": "code",
   "execution_count": 65,
   "metadata": {},
   "outputs": [
    {
     "data": {
      "text/plain": [
       "[('thanks', 109),\n",
       " ('com', 91),\n",
       " ('713', 90),\n",
       " ('enron', 51),\n",
       " ('fax', 48),\n",
       " ('regards', 33),\n",
       " ('http', 33),\n",
       " ('www', 33),\n",
       " ('your', 33),\n",
       " ('853', 30),\n",
       " ('thank', 27),\n",
       " ('email', 27),\n",
       " ('any', 26),\n",
       " ('phone', 26),\n",
       " ('texas', 23),\n",
       " ('mail', 22),\n",
       " ('corp', 21),\n",
       " ('646', 19),\n",
       " ('intended', 18),\n",
       " ('please', 18),\n",
       " ('best', 16),\n",
       " ('houston', 16),\n",
       " ('smith', 15),\n",
       " ('be', 15),\n",
       " ('mike', 15),\n",
       " ('77002', 15),\n",
       " ('sincerely', 14),\n",
       " ('inc', 14),\n",
       " ('use', 14),\n",
       " ('north', 14)]"
      ]
     },
     "execution_count": 65,
     "metadata": {},
     "output_type": "execute_result"
    }
   ],
   "source": [
    "get_top_n_words(signatures.line, 30)"
   ]
  },
  {
   "cell_type": "code",
   "execution_count": 66,
   "metadata": {},
   "outputs": [
    {
     "data": {
      "text/plain": [
       "[('enron', 1186),\n",
       " ('ect', 1128),\n",
       " ('that', 751),\n",
       " ('be', 700),\n",
       " ('will', 667),\n",
       " ('com', 630),\n",
       " ('with', 589),\n",
       " ('have', 574),\n",
       " ('hou', 571),\n",
       " ('we', 567)]"
      ]
     },
     "execution_count": 66,
     "metadata": {},
     "output_type": "execute_result"
    }
   ],
   "source": [
    "get_top_n_words(NOTsignatures.line, 10)"
   ]
  },
  {
   "cell_type": "markdown",
   "metadata": {},
   "source": [
    "# 👉 More stop words in non-signatures"
   ]
  },
  {
   "cell_type": "code",
   "execution_count": 67,
   "metadata": {},
   "outputs": [
    {
     "data": {
      "image/png": "[encoded data removed]",
      "text/plain": [
       "<Figure size 720x360 with 1 Axes>"
      ]
     },
     "metadata": {
      "needs_background": "light"
     },
     "output_type": "display_data"
    }
   ],
   "source": [
    "from wordcloud import WordCloud\n",
    "# Generate a word cloud image\n",
    "text = \" \".join(signatures.line)\n",
    "wordcloud = WordCloud().generate(text)\n",
    "\n",
    "# lower max_font_size\n",
    "wordcloud = WordCloud(max_font_size=40, max_words=100, background_color=\"white\").generate(text)\n",
    "plt.figure(figsize=(10,5))\n",
    "plt.imshow(wordcloud, interpolation=\"bilinear\")\n",
    "plt.axis(\"off\")\n",
    "plt.show()\n"
   ]
  },
  {
   "cell_type": "code",
   "execution_count": 68,
   "metadata": {},
   "outputs": [
    {
     "data": {
      "image/png": "[encoded data removed]",
      "text/plain": [
       "<Figure size 720x360 with 1 Axes>"
      ]
     },
     "metadata": {
      "needs_background": "light"
     },
     "output_type": "display_data"
    }
   ],
   "source": [
    "from wordcloud import WordCloud\n",
    "# Generate a word cloud image\n",
    "text = \" \".join(NOTsignatures.line)\n",
    "wordcloud = WordCloud().generate(text)\n",
    "\n",
    "# lower max_font_size\n",
    "wordcloud = WordCloud(max_font_size=40, max_words=100, background_color=\"white\").generate(text)\n",
    "plt.figure(figsize=(10,5))\n",
    "plt.imshow(wordcloud, interpolation=\"bilinear\")\n",
    "plt.axis(\"off\")\n",
    "plt.show()\n"
   ]
  },
  {
   "cell_type": "code",
   "execution_count": 69,
   "metadata": {},
   "outputs": [],
   "source": [
    "def get_unique_words(corpus):\n",
    "    vec = CountVectorizer(stop_words=stop_words).fit(corpus)\n",
    "    return set(vec.get_feature_names()) # probably set it not needed but just to be sure"
   ]
  },
  {
   "cell_type": "markdown",
   "metadata": {},
   "source": [
    "# Find unique words for signatures"
   ]
  },
  {
   "cell_type": "code",
   "execution_count": 70,
   "metadata": {},
   "outputs": [],
   "source": [
    "unique_sig_words = get_unique_words(signatures.line)\n",
    "unique_non_sig_words = get_unique_words(NOTsignatures.line)"
   ]
  },
  {
   "cell_type": "code",
   "execution_count": 71,
   "metadata": {},
   "outputs": [
    {
     "name": "stdout",
     "output_type": "stream",
     "text": [
      "Unique words in signatures: 1474\n",
      "Unique words in NOT signatures: 11242\n"
     ]
    }
   ],
   "source": [
    "print(f\"Unique words in signatures: {len(unique_sig_words)}\")\n",
    "print(f\"Unique words in NOT signatures: {len(unique_non_sig_words)}\")"
   ]
  },
  {
   "cell_type": "code",
   "execution_count": 72,
   "metadata": {},
   "outputs": [],
   "source": [
    "unique_only_in_sig = [w for w in unique_sig_words if w not in unique_non_sig_words and not w.isdigit()]"
   ]
  },
  {
   "cell_type": "code",
   "execution_count": 73,
   "metadata": {},
   "outputs": [
    {
     "name": "stdout",
     "output_type": "stream",
     "text": [
      "Unique words ONLY in signatures: 214\n"
     ]
    }
   ],
   "source": [
    "print(f\"Unique words ONLY in signatures: {len(unique_only_in_sig)}\")"
   ]
  },
  {
   "cell_type": "code",
   "execution_count": 74,
   "metadata": {},
   "outputs": [
    {
     "data": {
      "text/plain": [
       "[('thereto', 1),\n",
       " ('beijos', 1),\n",
       " ('duhon', 1),\n",
       " ('lcampbel', 1),\n",
       " ('mheffner', 1),\n",
       " ('trammell', 1),\n",
       " ('retransmission', 1),\n",
       " ('vkaminski', 1),\n",
       " ('tel', 1),\n",
       " ('para', 1)]"
      ]
     },
     "execution_count": 74,
     "metadata": {},
     "output_type": "execute_result"
    }
   ],
   "source": [
    "get_top_n_words(unique_only_in_sig, 10)"
   ]
  },
  {
   "cell_type": "markdown",
   "metadata": {},
   "source": [
    "***👉 There are no good unique only to the signatures words, most are names and addresses***"
   ]
  },
  {
   "cell_type": "markdown",
   "metadata": {},
   "source": [
    "# How often there are digits in signatures vs the rest?"
   ]
  },
  {
   "cell_type": "code",
   "execution_count": 75,
   "metadata": {},
   "outputs": [
    {
     "name": "stdout",
     "output_type": "stream",
     "text": [
      "Digits in signatures: 303\n",
      "Digits in signatures: 649\n"
     ]
    }
   ],
   "source": [
    "print(f\"Digits in signatures: {len([w for w in unique_sig_words if w.isdigit()])}\")\n",
    "print(f\"Digits in signatures: {len([w for w in unique_non_sig_words if w.isdigit()])}\")"
   ]
  },
  {
   "cell_type": "code",
   "execution_count": 76,
   "metadata": {},
   "outputs": [
    {
     "name": "stdout",
     "output_type": "stream",
     "text": [
      "Digits in signatures: 174\n",
      "Digits in signatures: 281\n"
     ]
    }
   ],
   "source": [
    "# maybe parts of phone numbers are longer digits?\n",
    "print(f\"Digits in signatures: {len([w for w in unique_sig_words if w.isdigit() and len(w) > 3])}\")\n",
    "print(f\"Digits in signatures: {len([w for w in unique_non_sig_words if w.isdigit() and len(w) > 3])}\")"
   ]
  },
  {
   "cell_type": "markdown",
   "metadata": {},
   "source": [
    "***👉 There are more digits unique to non-signatures but they are also much more data, not helpful***"
   ]
  },
  {
   "cell_type": "markdown",
   "metadata": {},
   "source": [
    "# Where are the signatures in the text?"
   ]
  },
  {
   "cell_type": "code",
   "execution_count": 77,
   "metadata": {},
   "outputs": [
    {
     "name": "stdout",
     "output_type": "stream",
     "text": [
      "Median file length: 21.5\n",
      "Average file length: 34.93798449612403\n"
     ]
    }
   ],
   "source": [
    "# Median file length\n",
    "print(f\"Median file length: {np.median(df_files.nlines)}\")\n",
    "print(f\"Average file length: {np.mean(df_files.nlines)}\")"
   ]
  },
  {
   "cell_type": "code",
   "execution_count": 78,
   "metadata": {},
   "outputs": [
    {
     "data": {
      "text/plain": [
       "0.00     1.0\n",
       "0.25     9.0\n",
       "0.50    21.5\n",
       "0.75    42.0\n",
       "Name: nlines, dtype: float64"
      ]
     },
     "execution_count": 78,
     "metadata": {},
     "output_type": "execute_result"
    }
   ],
   "source": [
    "df_files.nlines.quantile(np.arange(0, 1, .25))"
   ]
  },
  {
   "cell_type": "code",
   "execution_count": 79,
   "metadata": {},
   "outputs": [
    {
     "data": {
      "text/plain": [
       "0.50     21.50\n",
       "0.55     25.00\n",
       "0.60     28.00\n",
       "0.65     32.00\n",
       "0.70     36.50\n",
       "0.75     42.00\n",
       "0.80     50.00\n",
       "0.85     59.00\n",
       "0.90     79.50\n",
       "0.95    110.75\n",
       "Name: nlines, dtype: float64"
      ]
     },
     "execution_count": 79,
     "metadata": {},
     "output_type": "execute_result"
    }
   ],
   "source": [
    "df_files.nlines.quantile(np.arange(.5, 1, .05))  # 75% have under 100 lines"
   ]
  },
  {
   "cell_type": "code",
   "execution_count": 80,
   "metadata": {},
   "outputs": [
    {
     "data": {
      "image/png": "[encoded data removed]",
      "text/plain": [
       "<Figure size 432x288 with 1 Axes>"
      ]
     },
     "metadata": {
      "needs_background": "light"
     },
     "output_type": "display_data"
    }
   ],
   "source": [
    "plt.hist(df_files.nlines)\n",
    "plt.axvline(df_files.nlines.mean(), color='k', linestyle='dotted', linewidth=2, label=\"mean\")\n",
    "plt.axvline(df_files.nlines.median(), color='r', linestyle='dashed', linewidth=2, label=\"median\")\n",
    "plt.legend(bbox_to_anchor=(1.05, 1), loc='upper left', borderaxespad=0.)\n",
    "plt.title(\"Number of lines per email\")\n",
    "plt.grid()\n",
    "plt.show()"
   ]
  },
  {
   "cell_type": "code",
   "execution_count": 81,
   "metadata": {},
   "outputs": [
    {
     "data": {
      "text/plain": [
       "1"
      ]
     },
     "execution_count": 81,
     "metadata": {},
     "output_type": "execute_result"
    }
   ],
   "source": [
    "min(df_files.nlines) # shortest email"
   ]
  },
  {
   "cell_type": "code",
   "execution_count": 82,
   "metadata": {},
   "outputs": [
    {
     "data": {
      "text/plain": [
       "22"
      ]
     },
     "execution_count": 82,
     "metadata": {},
     "output_type": "execute_result"
    }
   ],
   "source": [
    "len(df_files.loc[df_files.nlines==1,])"
   ]
  },
  {
   "cell_type": "code",
   "execution_count": 83,
   "metadata": {},
   "outputs": [
    {
     "data": {
      "text/html": [
       "<div>\n",
       "<style scoped>\n",
       "    .dataframe tbody tr th:only-of-type {\n",
       "        vertical-align: middle;\n",
       "    }\n",
       "\n",
       "    .dataframe tbody tr th {\n",
       "        vertical-align: top;\n",
       "    }\n",
       "\n",
       "    .dataframe thead th {\n",
       "        text-align: right;\n",
       "    }\n",
       "</style>\n",
       "<table border=\"1\" class=\"dataframe\">\n",
       "  <thead>\n",
       "    <tr style=\"text-align: right;\">\n",
       "      <th></th>\n",
       "      <th>filename</th>\n",
       "      <th>nlines</th>\n",
       "      <th>len_avg</th>\n",
       "      <th>len_min</th>\n",
       "      <th>len_max</th>\n",
       "      <th>nBlanks</th>\n",
       "      <th>nNonBlanks</th>\n",
       "      <th>nSig</th>\n",
       "    </tr>\n",
       "  </thead>\n",
       "  <tbody>\n",
       "    <tr>\n",
       "      <th>22</th>\n",
       "      <td>badeer-r_all_documents_280</td>\n",
       "      <td>1</td>\n",
       "      <td>16.0</td>\n",
       "      <td>16</td>\n",
       "      <td>16</td>\n",
       "      <td>0</td>\n",
       "      <td>1</td>\n",
       "      <td>0</td>\n",
       "    </tr>\n",
       "    <tr>\n",
       "      <th>29</th>\n",
       "      <td>bass-e_all_documents_1106</td>\n",
       "      <td>1</td>\n",
       "      <td>27.0</td>\n",
       "      <td>27</td>\n",
       "      <td>27</td>\n",
       "      <td>0</td>\n",
       "      <td>1</td>\n",
       "      <td>0</td>\n",
       "    </tr>\n",
       "    <tr>\n",
       "      <th>59</th>\n",
       "      <td>buy-r_all_documents_103</td>\n",
       "      <td>1</td>\n",
       "      <td>36.0</td>\n",
       "      <td>36</td>\n",
       "      <td>36</td>\n",
       "      <td>0</td>\n",
       "      <td>1</td>\n",
       "      <td>0</td>\n",
       "    </tr>\n",
       "    <tr>\n",
       "      <th>61</th>\n",
       "      <td>buy-r_all_documents_142</td>\n",
       "      <td>1</td>\n",
       "      <td>21.0</td>\n",
       "      <td>21</td>\n",
       "      <td>21</td>\n",
       "      <td>0</td>\n",
       "      <td>1</td>\n",
       "      <td>0</td>\n",
       "    </tr>\n",
       "    <tr>\n",
       "      <th>103</th>\n",
       "      <td>derrick-j_all_documents_15</td>\n",
       "      <td>1</td>\n",
       "      <td>60.0</td>\n",
       "      <td>60</td>\n",
       "      <td>60</td>\n",
       "      <td>0</td>\n",
       "      <td>1</td>\n",
       "      <td>0</td>\n",
       "    </tr>\n",
       "    <tr>\n",
       "      <th>124</th>\n",
       "      <td>farmer-d_all_documents_4852</td>\n",
       "      <td>1</td>\n",
       "      <td>32.0</td>\n",
       "      <td>32</td>\n",
       "      <td>32</td>\n",
       "      <td>0</td>\n",
       "      <td>1</td>\n",
       "      <td>0</td>\n",
       "    </tr>\n",
       "    <tr>\n",
       "      <th>141</th>\n",
       "      <td>gay-r_all_documents_383</td>\n",
       "      <td>1</td>\n",
       "      <td>63.0</td>\n",
       "      <td>63</td>\n",
       "      <td>63</td>\n",
       "      <td>0</td>\n",
       "      <td>1</td>\n",
       "      <td>0</td>\n",
       "    </tr>\n",
       "    <tr>\n",
       "      <th>153</th>\n",
       "      <td>gilbertsmith-d_all_documents_95</td>\n",
       "      <td>1</td>\n",
       "      <td>67.0</td>\n",
       "      <td>67</td>\n",
       "      <td>67</td>\n",
       "      <td>0</td>\n",
       "      <td>1</td>\n",
       "      <td>0</td>\n",
       "    </tr>\n",
       "    <tr>\n",
       "      <th>201</th>\n",
       "      <td>hendrickson-s_all_documents_38</td>\n",
       "      <td>1</td>\n",
       "      <td>54.0</td>\n",
       "      <td>54</td>\n",
       "      <td>54</td>\n",
       "      <td>0</td>\n",
       "      <td>1</td>\n",
       "      <td>0</td>\n",
       "    </tr>\n",
       "    <tr>\n",
       "      <th>219</th>\n",
       "      <td>hyvl-d_all_documents_1531</td>\n",
       "      <td>1</td>\n",
       "      <td>54.0</td>\n",
       "      <td>54</td>\n",
       "      <td>54</td>\n",
       "      <td>0</td>\n",
       "      <td>1</td>\n",
       "      <td>0</td>\n",
       "    </tr>\n",
       "    <tr>\n",
       "      <th>241</th>\n",
       "      <td>kean-s_all_documents_45</td>\n",
       "      <td>1</td>\n",
       "      <td>21.0</td>\n",
       "      <td>21</td>\n",
       "      <td>21</td>\n",
       "      <td>0</td>\n",
       "      <td>1</td>\n",
       "      <td>0</td>\n",
       "    </tr>\n",
       "    <tr>\n",
       "      <th>259</th>\n",
       "      <td>lavorato-j_all_documents_668</td>\n",
       "      <td>1</td>\n",
       "      <td>37.0</td>\n",
       "      <td>37</td>\n",
       "      <td>37</td>\n",
       "      <td>0</td>\n",
       "      <td>1</td>\n",
       "      <td>0</td>\n",
       "    </tr>\n",
       "    <tr>\n",
       "      <th>307</th>\n",
       "      <td>mckay-b_all_documents_65</td>\n",
       "      <td>1</td>\n",
       "      <td>42.0</td>\n",
       "      <td>42</td>\n",
       "      <td>42</td>\n",
       "      <td>0</td>\n",
       "      <td>1</td>\n",
       "      <td>0</td>\n",
       "    </tr>\n",
       "    <tr>\n",
       "      <th>308</th>\n",
       "      <td>mckay-b_all_documents_78</td>\n",
       "      <td>1</td>\n",
       "      <td>48.0</td>\n",
       "      <td>48</td>\n",
       "      <td>48</td>\n",
       "      <td>0</td>\n",
       "      <td>1</td>\n",
       "      <td>0</td>\n",
       "    </tr>\n",
       "    <tr>\n",
       "      <th>377</th>\n",
       "      <td>ruscitti-k_all_documents_415</td>\n",
       "      <td>1</td>\n",
       "      <td>61.0</td>\n",
       "      <td>61</td>\n",
       "      <td>61</td>\n",
       "      <td>0</td>\n",
       "      <td>1</td>\n",
       "      <td>0</td>\n",
       "    </tr>\n",
       "    <tr>\n",
       "      <th>419</th>\n",
       "      <td>shively-h_all_documents_200</td>\n",
       "      <td>1</td>\n",
       "      <td>49.0</td>\n",
       "      <td>49</td>\n",
       "      <td>49</td>\n",
       "      <td>0</td>\n",
       "      <td>1</td>\n",
       "      <td>0</td>\n",
       "    </tr>\n",
       "    <tr>\n",
       "      <th>421</th>\n",
       "      <td>shively-h_all_documents_57</td>\n",
       "      <td>1</td>\n",
       "      <td>21.0</td>\n",
       "      <td>21</td>\n",
       "      <td>21</td>\n",
       "      <td>0</td>\n",
       "      <td>1</td>\n",
       "      <td>0</td>\n",
       "    </tr>\n",
       "    <tr>\n",
       "      <th>450</th>\n",
       "      <td>storey-g_all_documents_53</td>\n",
       "      <td>1</td>\n",
       "      <td>29.0</td>\n",
       "      <td>29</td>\n",
       "      <td>29</td>\n",
       "      <td>0</td>\n",
       "      <td>1</td>\n",
       "      <td>0</td>\n",
       "    </tr>\n",
       "    <tr>\n",
       "      <th>504</th>\n",
       "      <td>wolfe-j_all_documents_33</td>\n",
       "      <td>1</td>\n",
       "      <td>61.0</td>\n",
       "      <td>61</td>\n",
       "      <td>61</td>\n",
       "      <td>0</td>\n",
       "      <td>1</td>\n",
       "      <td>0</td>\n",
       "    </tr>\n",
       "    <tr>\n",
       "      <th>505</th>\n",
       "      <td>wolfe-j_all_documents_49</td>\n",
       "      <td>1</td>\n",
       "      <td>19.0</td>\n",
       "      <td>19</td>\n",
       "      <td>19</td>\n",
       "      <td>0</td>\n",
       "      <td>1</td>\n",
       "      <td>0</td>\n",
       "    </tr>\n",
       "    <tr>\n",
       "      <th>513</th>\n",
       "      <td>zipper-a_all_documents_56</td>\n",
       "      <td>1</td>\n",
       "      <td>14.0</td>\n",
       "      <td>14</td>\n",
       "      <td>14</td>\n",
       "      <td>0</td>\n",
       "      <td>1</td>\n",
       "      <td>0</td>\n",
       "    </tr>\n",
       "    <tr>\n",
       "      <th>514</th>\n",
       "      <td>zipper-a_all_documents_63</td>\n",
       "      <td>1</td>\n",
       "      <td>8.0</td>\n",
       "      <td>8</td>\n",
       "      <td>8</td>\n",
       "      <td>0</td>\n",
       "      <td>1</td>\n",
       "      <td>0</td>\n",
       "    </tr>\n",
       "  </tbody>\n",
       "</table>\n",
       "</div>"
      ],
      "text/plain": [
       "                            filename  nlines  len_avg  len_min  len_max  \\\n",
       "22        badeer-r_all_documents_280       1     16.0       16       16   \n",
       "29         bass-e_all_documents_1106       1     27.0       27       27   \n",
       "59           buy-r_all_documents_103       1     36.0       36       36   \n",
       "61           buy-r_all_documents_142       1     21.0       21       21   \n",
       "103       derrick-j_all_documents_15       1     60.0       60       60   \n",
       "124      farmer-d_all_documents_4852       1     32.0       32       32   \n",
       "141          gay-r_all_documents_383       1     63.0       63       63   \n",
       "153  gilbertsmith-d_all_documents_95       1     67.0       67       67   \n",
       "201   hendrickson-s_all_documents_38       1     54.0       54       54   \n",
       "219        hyvl-d_all_documents_1531       1     54.0       54       54   \n",
       "241          kean-s_all_documents_45       1     21.0       21       21   \n",
       "259     lavorato-j_all_documents_668       1     37.0       37       37   \n",
       "307         mckay-b_all_documents_65       1     42.0       42       42   \n",
       "308         mckay-b_all_documents_78       1     48.0       48       48   \n",
       "377     ruscitti-k_all_documents_415       1     61.0       61       61   \n",
       "419      shively-h_all_documents_200       1     49.0       49       49   \n",
       "421       shively-h_all_documents_57       1     21.0       21       21   \n",
       "450        storey-g_all_documents_53       1     29.0       29       29   \n",
       "504         wolfe-j_all_documents_33       1     61.0       61       61   \n",
       "505         wolfe-j_all_documents_49       1     19.0       19       19   \n",
       "513        zipper-a_all_documents_56       1     14.0       14       14   \n",
       "514        zipper-a_all_documents_63       1      8.0        8        8   \n",
       "\n",
       "     nBlanks  nNonBlanks  nSig  \n",
       "22         0           1     0  \n",
       "29         0           1     0  \n",
       "59         0           1     0  \n",
       "61         0           1     0  \n",
       "103        0           1     0  \n",
       "124        0           1     0  \n",
       "141        0           1     0  \n",
       "153        0           1     0  \n",
       "201        0           1     0  \n",
       "219        0           1     0  \n",
       "241        0           1     0  \n",
       "259        0           1     0  \n",
       "307        0           1     0  \n",
       "308        0           1     0  \n",
       "377        0           1     0  \n",
       "419        0           1     0  \n",
       "421        0           1     0  \n",
       "450        0           1     0  \n",
       "504        0           1     0  \n",
       "505        0           1     0  \n",
       "513        0           1     0  \n",
       "514        0           1     0  "
      ]
     },
     "execution_count": 83,
     "metadata": {},
     "output_type": "execute_result"
    }
   ],
   "source": [
    "df_files.loc[df_files.nlines==1,]"
   ]
  },
  {
   "cell_type": "code",
   "execution_count": 84,
   "metadata": {},
   "outputs": [
    {
     "data": {
      "text/plain": [
       "428"
      ]
     },
     "execution_count": 84,
     "metadata": {},
     "output_type": "execute_result"
    }
   ],
   "source": [
    "max(df_files.nlines) # longest email"
   ]
  },
  {
   "cell_type": "code",
   "execution_count": 85,
   "metadata": {},
   "outputs": [
    {
     "data": {
      "text/plain": [
       "34"
      ]
     },
     "execution_count": 85,
     "metadata": {},
     "output_type": "execute_result"
    }
   ],
   "source": [
    "len(df_files.loc[df_files.nlines>100,])"
   ]
  },
  {
   "cell_type": "code",
   "execution_count": 86,
   "metadata": {},
   "outputs": [
    {
     "data": {
      "text/html": [
       "<div>\n",
       "<style scoped>\n",
       "    .dataframe tbody tr th:only-of-type {\n",
       "        vertical-align: middle;\n",
       "    }\n",
       "\n",
       "    .dataframe tbody tr th {\n",
       "        vertical-align: top;\n",
       "    }\n",
       "\n",
       "    .dataframe thead th {\n",
       "        text-align: right;\n",
       "    }\n",
       "</style>\n",
       "<table border=\"1\" class=\"dataframe\">\n",
       "  <thead>\n",
       "    <tr style=\"text-align: right;\">\n",
       "      <th></th>\n",
       "      <th>line</th>\n",
       "      <th>filename</th>\n",
       "      <th>entity</th>\n",
       "      <th>len</th>\n",
       "      <th>nlines</th>\n",
       "    </tr>\n",
       "  </thead>\n",
       "  <tbody>\n",
       "    <tr>\n",
       "      <th>4187</th>\n",
       "      <td>Great--Steve, what's your phone no. ?  The ope...</td>\n",
       "      <td>fossum-d_all_documents_1110</td>\n",
       "      <td>no_entity</td>\n",
       "      <td>75</td>\n",
       "      <td>226</td>\n",
       "    </tr>\n",
       "    <tr>\n",
       "      <th>4188</th>\n",
       "      <td>like to talk for a few minutes on this.  Thank...</td>\n",
       "      <td>fossum-d_all_documents_1110</td>\n",
       "      <td>no_entity</td>\n",
       "      <td>51</td>\n",
       "      <td>226</td>\n",
       "    </tr>\n",
       "    <tr>\n",
       "      <th>4189</th>\n",
       "      <td></td>\n",
       "      <td>fossum-d_all_documents_1110</td>\n",
       "      <td>no_entity</td>\n",
       "      <td>0</td>\n",
       "      <td>226</td>\n",
       "    </tr>\n",
       "    <tr>\n",
       "      <th>4190</th>\n",
       "      <td></td>\n",
       "      <td>fossum-d_all_documents_1110</td>\n",
       "      <td>no_entity</td>\n",
       "      <td>0</td>\n",
       "      <td>226</td>\n",
       "    </tr>\n",
       "    <tr>\n",
       "      <th>4191</th>\n",
       "      <td></td>\n",
       "      <td>fossum-d_all_documents_1110</td>\n",
       "      <td>no_entity</td>\n",
       "      <td>0</td>\n",
       "      <td>226</td>\n",
       "    </tr>\n",
       "    <tr>\n",
       "      <th>...</th>\n",
       "      <td>...</td>\n",
       "      <td>...</td>\n",
       "      <td>...</td>\n",
       "      <td>...</td>\n",
       "      <td>...</td>\n",
       "    </tr>\n",
       "    <tr>\n",
       "      <th>17643</th>\n",
       "      <td>&gt;</td>\n",
       "      <td>wheldon-c_all_documents_163</td>\n",
       "      <td>signature</td>\n",
       "      <td>1</td>\n",
       "      <td>263</td>\n",
       "    </tr>\n",
       "    <tr>\n",
       "      <th>17644</th>\n",
       "      <td>&gt; Sandra Vizzacchero                   Goldman</td>\n",
       "      <td>wheldon-c_all_documents_163</td>\n",
       "      <td>signature</td>\n",
       "      <td>46</td>\n",
       "      <td>263</td>\n",
       "    </tr>\n",
       "    <tr>\n",
       "      <th>17645</th>\n",
       "      <td>&gt; Executive Assistant to Avi Nash      Sachs</td>\n",
       "      <td>wheldon-c_all_documents_163</td>\n",
       "      <td>signature</td>\n",
       "      <td>44</td>\n",
       "      <td>263</td>\n",
       "    </tr>\n",
       "    <tr>\n",
       "      <th>17646</th>\n",
       "      <td>&gt; Chemicals Equity Research Team</td>\n",
       "      <td>wheldon-c_all_documents_163</td>\n",
       "      <td>signature</td>\n",
       "      <td>32</td>\n",
       "      <td>263</td>\n",
       "    </tr>\n",
       "    <tr>\n",
       "      <th>17647</th>\n",
       "      <td>&gt; ______________________________________________</td>\n",
       "      <td>wheldon-c_all_documents_163</td>\n",
       "      <td>signature</td>\n",
       "      <td>48</td>\n",
       "      <td>263</td>\n",
       "    </tr>\n",
       "  </tbody>\n",
       "</table>\n",
       "<p>2275 rows × 5 columns</p>\n",
       "</div>"
      ],
      "text/plain": [
       "                                                    line  \\\n",
       "4187   Great--Steve, what's your phone no. ?  The ope...   \n",
       "4188   like to talk for a few minutes on this.  Thank...   \n",
       "4189                                                       \n",
       "4190                                                       \n",
       "4191                                                       \n",
       "...                                                  ...   \n",
       "17643                                                  >   \n",
       "17644     > Sandra Vizzacchero                   Goldman   \n",
       "17645       > Executive Assistant to Avi Nash      Sachs   \n",
       "17646                   > Chemicals Equity Research Team   \n",
       "17647   > ______________________________________________   \n",
       "\n",
       "                          filename     entity  len  nlines  \n",
       "4187   fossum-d_all_documents_1110  no_entity   75     226  \n",
       "4188   fossum-d_all_documents_1110  no_entity   51     226  \n",
       "4189   fossum-d_all_documents_1110  no_entity    0     226  \n",
       "4190   fossum-d_all_documents_1110  no_entity    0     226  \n",
       "4191   fossum-d_all_documents_1110  no_entity    0     226  \n",
       "...                            ...        ...  ...     ...  \n",
       "17643  wheldon-c_all_documents_163  signature    1     263  \n",
       "17644  wheldon-c_all_documents_163  signature   46     263  \n",
       "17645  wheldon-c_all_documents_163  signature   44     263  \n",
       "17646  wheldon-c_all_documents_163  signature   32     263  \n",
       "17647  wheldon-c_all_documents_163  signature   48     263  \n",
       "\n",
       "[2275 rows x 5 columns]"
      ]
     },
     "execution_count": 86,
     "metadata": {},
     "output_type": "execute_result"
    }
   ],
   "source": [
    "master.loc[master.nlines>200,[\"line\", \"filename\", \"entity\", \"len\", \"nlines\"]]"
   ]
  },
  {
   "cell_type": "code",
   "execution_count": 87,
   "metadata": {},
   "outputs": [
    {
     "name": "stdout",
     "output_type": "stream",
     "text": [
      "Median signature length: 3.0 lines\n",
      "Mean signature length: 5.159973374750388 lines\n"
     ]
    }
   ],
   "source": [
    "# Signature length in number of lines\n",
    "print(f\"Median signature length: {master.nSig.median()} lines\")\n",
    "print(f\"Mean signature length: {master.nSig.mean()} lines\")"
   ]
  },
  {
   "cell_type": "code",
   "execution_count": 88,
   "metadata": {},
   "outputs": [
    {
     "data": {
      "image/png": "[encoded data removed]",
      "text/plain": [
       "<Figure size 432x288 with 1 Axes>"
      ]
     },
     "metadata": {
      "needs_background": "light"
     },
     "output_type": "display_data"
    }
   ],
   "source": [
    "plt.hist(df_files.nSig)\n",
    "plt.axvline(df_files.nSig.mean(), color='k', linestyle='dotted', linewidth=2, label=\"mean\")\n",
    "plt.axvline(df_files.nSig.median(), color='r', linestyle='dashed', linewidth=2, label=\"median\")\n",
    "plt.legend(bbox_to_anchor=(1.05, 1), loc='upper left', borderaxespad=0.)\n",
    "plt.title(\"Signature length per email\")\n",
    "plt.grid()\n",
    "plt.show()"
   ]
  },
  {
   "cell_type": "code",
   "execution_count": 89,
   "metadata": {},
   "outputs": [],
   "source": [
    "nsig_to_nlines = df_files.nSig / df_files.nlines"
   ]
  },
  {
   "cell_type": "code",
   "execution_count": 90,
   "metadata": {},
   "outputs": [
    {
     "data": {
      "text/plain": [
       "12.4795221710836"
      ]
     },
     "execution_count": 90,
     "metadata": {},
     "output_type": "execute_result"
    }
   ],
   "source": [
    "nsig_to_nlines.mean()*100"
   ]
  },
  {
   "cell_type": "code",
   "execution_count": 91,
   "metadata": {},
   "outputs": [
    {
     "data": {
      "text/plain": [
       "0.05084745762711865"
      ]
     },
     "execution_count": 91,
     "metadata": {},
     "output_type": "execute_result"
    }
   ],
   "source": [
    "master.nSig.median() / master.nlines.median() # the median signature is 15% of the median file (all lines)"
   ]
  },
  {
   "cell_type": "code",
   "execution_count": 92,
   "metadata": {},
   "outputs": [
    {
     "data": {
      "text/plain": [
       "0.06976744186046512"
      ]
     },
     "execution_count": 92,
     "metadata": {},
     "output_type": "execute_result"
    }
   ],
   "source": [
    "master.nSig.median() / master.nNonBlanks.median() # the median signature is 44% of the median file (non-blank lines)"
   ]
  },
  {
   "cell_type": "code",
   "execution_count": 93,
   "metadata": {},
   "outputs": [],
   "source": [
    "noreplies = master[~master.line.str.startswith(\">\")]"
   ]
  },
  {
   "cell_type": "code",
   "execution_count": 94,
   "metadata": {},
   "outputs": [
    {
     "name": "stdout",
     "output_type": "stream",
     "text": [
      "Median file length: 41.0\n",
      "Average file length: 67.63655876551805\n"
     ]
    }
   ],
   "source": [
    "# Median file length without replies\n",
    "print(f\"Median file length: {np.median(noreplies.nNonBlanks)}\")\n",
    "print(f\"Average file length: {np.mean(noreplies.nNonBlanks)}\")"
   ]
  },
  {
   "cell_type": "code",
   "execution_count": 95,
   "metadata": {},
   "outputs": [
    {
     "name": "stdout",
     "output_type": "stream",
     "text": [
      "Median lineNo: 25.0\n",
      "Average lineNo: 44.42007926023778\n"
     ]
    }
   ],
   "source": [
    "# Line No of signatures\n",
    "print(f\"Median lineNo: {np.median(signatures.lineNo)}\")\n",
    "print(f\"Average lineNo: {np.mean(signatures.lineNo)}\")"
   ]
  },
  {
   "cell_type": "code",
   "execution_count": 96,
   "metadata": {},
   "outputs": [
    {
     "data": {
      "text/plain": [
       "array([[<matplotlib.axes._subplots.AxesSubplot object at 0x000002923772A488>]],\n",
       "      dtype=object)"
      ]
     },
     "execution_count": 96,
     "metadata": {},
     "output_type": "execute_result"
    },
    {
     "data": {
      "image/png": "[encoded data removed]",
      "text/plain": [
       "<Figure size 432x288 with 1 Axes>"
      ]
     },
     "metadata": {
      "needs_background": "light"
     },
     "output_type": "display_data"
    }
   ],
   "source": [
    "signatures.hist(column=\"lineNo\")"
   ]
  },
  {
   "cell_type": "code",
   "execution_count": 97,
   "metadata": {},
   "outputs": [
    {
     "data": {
      "image/png": "[encoded data removed]",
      "text/plain": [
       "<Figure size 432x288 with 1 Axes>"
      ]
     },
     "metadata": {
      "needs_background": "light"
     },
     "output_type": "display_data"
    }
   ],
   "source": [
    "ax = plt.gca()\n",
    "ax.yaxis.set_major_formatter(PercentFormatter(xmax=1))\n",
    "#plt.ylim(top=1)\n",
    "plt.hist(signatures.posRatioFromEnd, weights=np.ones(len(signatures)) / len(signatures))\n",
    "#plt.hist(signatures.posRatioFromEnd)\n",
    "plt.axvline(signatures.posRatioFromEnd.mean(), color='k', linestyle='dotted', linewidth=2, label=\"mean\")\n",
    "plt.axvline(signatures.posRatioFromEnd.median(), color='r', linestyle='dashed', linewidth=2, label=\"median\")\n",
    "plt.legend(loc='best', borderaxespad=0.)\n",
    "plt.title(\"Signature position from end ratio\")\n",
    "plt.grid()\n",
    "plt.show()"
   ]
  },
  {
   "cell_type": "code",
   "execution_count": 98,
   "metadata": {},
   "outputs": [
    {
     "name": "stdout",
     "output_type": "stream",
     "text": [
      "Mean signatures.posRatioFromEnd: 0.2433559928124494\n",
      "Median signatures.posRatioFromEnd: 0.11620294599018004\n"
     ]
    }
   ],
   "source": [
    "print(f\"Mean signatures.posRatioFromEnd: {signatures.posRatioFromEnd.mean()}\")\n",
    "print(f\"Median signatures.posRatioFromEnd: {signatures.posRatioFromEnd.median()}\")"
   ]
  },
  {
   "cell_type": "code",
   "execution_count": 99,
   "metadata": {},
   "outputs": [
    {
     "data": {
      "image/png": "[encoded data removed]",
      "text/plain": [
       "<Figure size 432x288 with 1 Axes>"
      ]
     },
     "metadata": {
      "needs_background": "light"
     },
     "output_type": "display_data"
    }
   ],
   "source": [
    "ax = plt.gca()\n",
    "ax.yaxis.set_major_formatter(PercentFormatter(xmax=1))\n",
    "plt.ylim(top=.5)\n",
    "plt.hist(NOTsignatures.posRatioFromEnd, weights=np.ones(len(NOTsignatures)) / len(NOTsignatures))\n",
    "# plt.hist(NOTsignatures.posRatioFromEnd)\n",
    "plt.axvline(NOTsignatures.posRatioFromEnd.mean(), color='k', linestyle='dotted', linewidth=2, label=\"mean\")\n",
    "plt.axvline(NOTsignatures.posRatioFromEnd.median(), color='r', linestyle='dashed', linewidth=2, label=\"median\")\n",
    "plt.legend(loc='best', borderaxespad=0.)\n",
    "plt.title(\"NOTSignature position from end\")\n",
    "plt.grid()\n",
    "plt.show()"
   ]
  },
  {
   "cell_type": "code",
   "execution_count": 100,
   "metadata": {},
   "outputs": [
    {
     "data": {
      "text/plain": [
       "0.50     4.0\n",
       "0.55     5.0\n",
       "0.60     6.0\n",
       "0.65     8.0\n",
       "0.70    11.0\n",
       "0.75    16.0\n",
       "0.80    22.0\n",
       "0.85    30.0\n",
       "0.90    45.0\n",
       "0.95    74.0\n",
       "Name: posFromEnd, dtype: float64"
      ]
     },
     "execution_count": 100,
     "metadata": {},
     "output_type": "execute_result"
    }
   ],
   "source": [
    "signatures.posFromEnd.quantile(np.arange(.5, 1, .05))"
   ]
  },
  {
   "cell_type": "code",
   "execution_count": 101,
   "metadata": {},
   "outputs": [
    {
     "data": {
      "text/plain": [
       "0.00      0.0\n",
       "0.05      2.0\n",
       "0.10      5.0\n",
       "0.15      7.0\n",
       "0.20      9.0\n",
       "0.25     12.0\n",
       "0.30     14.0\n",
       "0.35     17.0\n",
       "0.40     20.0\n",
       "0.45     23.0\n",
       "0.50     27.0\n",
       "0.55     32.0\n",
       "0.60     37.0\n",
       "0.65     43.0\n",
       "0.70     51.0\n",
       "0.75     61.0\n",
       "0.80     74.0\n",
       "0.85     91.0\n",
       "0.90    118.0\n",
       "0.95    166.0\n",
       "Name: posFromEnd, dtype: float64"
      ]
     },
     "execution_count": 101,
     "metadata": {},
     "output_type": "execute_result"
    }
   ],
   "source": [
    "NOTsignatures.posFromEnd.quantile(np.arange(0, 1, .05))"
   ]
  },
  {
   "cell_type": "markdown",
   "metadata": {},
   "source": [
    "# How much can be explained only from posFromEnd?"
   ]
  },
  {
   "cell_type": "code",
   "execution_count": 102,
   "metadata": {},
   "outputs": [],
   "source": [
    "# label encoding\n",
    "master[\"entity\"] = master[\"entity\"].astype('category')\n",
    "master[\"entity_code\"] = master[\"entity\"].cat.codes"
   ]
  },
  {
   "cell_type": "code",
   "execution_count": 103,
   "metadata": {},
   "outputs": [
    {
     "name": "stderr",
     "output_type": "stream",
     "text": [
      "G:\\Programs\\Anaconda2\\envs\\thesis-enron\\lib\\site-packages\\pandas\\core\\indexing.py:1418: FutureWarning: \n",
      "Passing list-likes to .loc or [] with any missing label will raise\n",
      "KeyError in the future, you can use .reindex() as an alternative.\n",
      "\n",
      "See the documentation here:\n",
      "https://pandas.pydata.org/pandas-docs/stable/user_guide/indexing.html#deprecate-loc-reindex-listlike\n",
      "  return self._getitem_tuple(key)\n"
     ]
    },
    {
     "data": {
      "text/html": [
       "<div>\n",
       "<style scoped>\n",
       "    .dataframe tbody tr th:only-of-type {\n",
       "        vertical-align: middle;\n",
       "    }\n",
       "\n",
       "    .dataframe tbody tr th {\n",
       "        vertical-align: top;\n",
       "    }\n",
       "\n",
       "    .dataframe thead th {\n",
       "        text-align: right;\n",
       "    }\n",
       "</style>\n",
       "<table border=\"1\" class=\"dataframe\">\n",
       "  <thead>\n",
       "    <tr style=\"text-align: right;\">\n",
       "      <th></th>\n",
       "      <th>entity</th>\n",
       "      <th>entity_code</th>\n",
       "      <th>entity_code_reversed</th>\n",
       "    </tr>\n",
       "  </thead>\n",
       "  <tbody>\n",
       "    <tr>\n",
       "      <th>0</th>\n",
       "      <td>no_entity</td>\n",
       "      <td>0</td>\n",
       "      <td>NaN</td>\n",
       "    </tr>\n",
       "    <tr>\n",
       "      <th>1</th>\n",
       "      <td>no_entity</td>\n",
       "      <td>0</td>\n",
       "      <td>NaN</td>\n",
       "    </tr>\n",
       "    <tr>\n",
       "      <th>2</th>\n",
       "      <td>no_entity</td>\n",
       "      <td>0</td>\n",
       "      <td>NaN</td>\n",
       "    </tr>\n",
       "    <tr>\n",
       "      <th>3</th>\n",
       "      <td>no_entity</td>\n",
       "      <td>0</td>\n",
       "      <td>NaN</td>\n",
       "    </tr>\n",
       "    <tr>\n",
       "      <th>4</th>\n",
       "      <td>no_entity</td>\n",
       "      <td>0</td>\n",
       "      <td>NaN</td>\n",
       "    </tr>\n",
       "    <tr>\n",
       "      <th>...</th>\n",
       "      <td>...</td>\n",
       "      <td>...</td>\n",
       "      <td>...</td>\n",
       "    </tr>\n",
       "    <tr>\n",
       "      <th>18023</th>\n",
       "      <td>no_entity</td>\n",
       "      <td>0</td>\n",
       "      <td>NaN</td>\n",
       "    </tr>\n",
       "    <tr>\n",
       "      <th>18024</th>\n",
       "      <td>no_entity</td>\n",
       "      <td>0</td>\n",
       "      <td>NaN</td>\n",
       "    </tr>\n",
       "    <tr>\n",
       "      <th>18025</th>\n",
       "      <td>signature</td>\n",
       "      <td>1</td>\n",
       "      <td>NaN</td>\n",
       "    </tr>\n",
       "    <tr>\n",
       "      <th>18026</th>\n",
       "      <td>signature</td>\n",
       "      <td>1</td>\n",
       "      <td>NaN</td>\n",
       "    </tr>\n",
       "    <tr>\n",
       "      <th>18027</th>\n",
       "      <td>signature</td>\n",
       "      <td>1</td>\n",
       "      <td>NaN</td>\n",
       "    </tr>\n",
       "  </tbody>\n",
       "</table>\n",
       "<p>18028 rows × 3 columns</p>\n",
       "</div>"
      ],
      "text/plain": [
       "          entity  entity_code  entity_code_reversed\n",
       "0      no_entity            0                   NaN\n",
       "1      no_entity            0                   NaN\n",
       "2      no_entity            0                   NaN\n",
       "3      no_entity            0                   NaN\n",
       "4      no_entity            0                   NaN\n",
       "...          ...          ...                   ...\n",
       "18023  no_entity            0                   NaN\n",
       "18024  no_entity            0                   NaN\n",
       "18025  signature            1                   NaN\n",
       "18026  signature            1                   NaN\n",
       "18027  signature            1                   NaN\n",
       "\n",
       "[18028 rows x 3 columns]"
      ]
     },
     "execution_count": 103,
     "metadata": {},
     "output_type": "execute_result"
    }
   ],
   "source": [
    "master.loc[:, [\"entity\", \"entity_code\", \"entity_code_reversed\"]]"
   ]
  },
  {
   "cell_type": "code",
   "execution_count": 104,
   "metadata": {},
   "outputs": [],
   "source": [
    "from sklearn.linear_model import LogisticRegression\n",
    "X, y = master.posFromEnd.values.reshape(-1, 1), master.entity_code\n",
    "clf = LogisticRegression(random_state=0, solver='liblinear').fit(X, y)"
   ]
  },
  {
   "cell_type": "code",
   "execution_count": 105,
   "metadata": {},
   "outputs": [
    {
     "data": {
      "text/plain": [
       "array([0, 1], dtype=int8)"
      ]
     },
     "execution_count": 105,
     "metadata": {},
     "output_type": "execute_result"
    }
   ],
   "source": [
    "clf.classes_"
   ]
  },
  {
   "cell_type": "code",
   "execution_count": 106,
   "metadata": {},
   "outputs": [
    {
     "data": {
      "text/plain": [
       "[-2.937060683183243]"
      ]
     },
     "execution_count": 106,
     "metadata": {},
     "output_type": "execute_result"
    }
   ],
   "source": [
    "[a[0]*100 for a in clf.coef_] \n",
    "# [-13.458100885847173] - \n",
    "# negative coefficient, negative relationsip, \n",
    "# the bigger the number, the less likely is to be a signature"
   ]
  },
  {
   "cell_type": "code",
   "execution_count": 107,
   "metadata": {},
   "outputs": [
    {
     "data": {
      "text/plain": [
       "PointbiserialrResult(correlation=-0.1510998686686445, pvalue=1.5479124309391808e-92)"
      ]
     },
     "execution_count": 107,
     "metadata": {},
     "output_type": "execute_result"
    }
   ],
   "source": [
    "from scipy import stats\n",
    "stats.pointbiserialr(master.posFromEnd, master.entity_code)"
   ]
  },
  {
   "cell_type": "code",
   "execution_count": 108,
   "metadata": {},
   "outputs": [],
   "source": [
    "from sklearn.linear_model import LogisticRegression\n",
    "X, y = master.posRatio.values.reshape(-1, 1), master.entity_code\n",
    "clf = LogisticRegression(random_state=0, solver='liblinear').fit(X, y)"
   ]
  },
  {
   "cell_type": "code",
   "execution_count": 109,
   "metadata": {},
   "outputs": [
    {
     "data": {
      "text/plain": [
       "array([[3.70245202]])"
      ]
     },
     "execution_count": 109,
     "metadata": {},
     "output_type": "execute_result"
    }
   ],
   "source": [
    "clf.coef_"
   ]
  },
  {
   "cell_type": "code",
   "execution_count": 110,
   "metadata": {},
   "outputs": [
    {
     "data": {
      "text/plain": [
       "PointbiserialrResult(correlation=0.2536040593564517, pvalue=1.4490753954956535e-262)"
      ]
     },
     "execution_count": 110,
     "metadata": {},
     "output_type": "execute_result"
    }
   ],
   "source": [
    "from scipy import stats\n",
    "stats.pointbiserialr(master.posRatio, master.entity_code)"
   ]
  },
  {
   "cell_type": "markdown",
   "metadata": {},
   "source": [
    "# Point biserial vs Logistic Regression\n",
    "All three procedures can yield, if this is of interest, p-values telling the probability that results as far or farther from the usual null hypothesis would occur if chance alone were responsible. Beyond that, each procedure will give a different type of potentially useful information:\n",
    "\n",
    "* Point-biserial correlation will yield a coefficient ranging from -1 to 1, summarizing (in somewhat abstract or scale-free terms) the degree of connection between age and smoking status. (Note that the lesser-used \"biserial correlation\" works somewhat differently: see explanation).\n",
    "* T-testing will describe the mean age difference between smokers and non-smokers in terms of the standard error of such a difference.\n",
    "* Logistic regression will yield the difference in (the odds of being a smoker) that is associated with each unit (presumably year) difference in age. Logistic regression can also be used to generate a probability that each person is a smoker, based on age.\n",
    "\n",
    "Thus in a given research situation these procedures may well turn out to be complementary.\n",
    "https://stats.stackexchange.com/questions/189234/which-is-better-how-they-differ-independent-t-test-or-simple-logistic-regressio"
   ]
  },
  {
   "cell_type": "markdown",
   "metadata": {},
   "source": [
    "https://www.displayr.com/how-to-interpret-logistic-regression-coefficients/"
   ]
  },
  {
   "cell_type": "markdown",
   "metadata": {},
   "source": [
    "# Relationships between continuous and categorical variables\n",
    "One useful way to explore the relationship between a continuous and a categorical variable is with a set of side by side box plots, one for each of the categories. Similarities and differences between the category levels can be seen in the length and position of the boxes and whiskers.\n",
    "\n",
    "https://www.ssc.wisc.edu/sscc/pubs/DWE/book/3-3-sect-ggplot-categorical.html"
   ]
  },
  {
   "cell_type": "code",
   "execution_count": 322,
   "metadata": {},
   "outputs": [
    {
     "data": {
      "image/png": "[encoded data removed]",
      "text/plain": [
       "<Figure size 756x396 with 1 Axes>"
      ]
     },
     "metadata": {
      "needs_background": "light"
     },
     "output_type": "display_data"
    }
   ],
   "source": [
    "plt.boxplot([signatures.posRatioFromEnd, NOTsignatures.posRatioFromEnd], vert=False, labels=[\"signatures\", \"not signatures\"])\n",
    "plt.title(\"Compare position from end ratio for signature and not signature lines \")\n",
    "fig = plt.gcf()\n",
    "fig.set_size_inches(10.5, 5.5)\n",
    "plt.grid()\n",
    "plt.show()"
   ]
  },
  {
   "cell_type": "code",
   "execution_count": 112,
   "metadata": {},
   "outputs": [
    {
     "data": {
      "text/plain": [
       "(array([1344., 1565., 1689., 1691., 1634., 1826., 1759., 1704., 1744.,\n",
       "        1558.]),\n",
       " array([0.        , 0.09976636, 0.19953271, 0.29929907, 0.39906542,\n",
       "        0.49883178, 0.59859813, 0.69836449, 0.79813084, 0.8978972 ,\n",
       "        0.99766355]),\n",
       " <a list of 10 Patch objects>)"
      ]
     },
     "execution_count": 112,
     "metadata": {},
     "output_type": "execute_result"
    },
    {
     "data": {
      "image/png": "[encoded data removed]",
      "text/plain": [
       "<Figure size 432x288 with 1 Axes>"
      ]
     },
     "metadata": {
      "needs_background": "light"
     },
     "output_type": "display_data"
    }
   ],
   "source": [
    "plt.hist(NOTsignatures.posRatioFromEnd)"
   ]
  },
  {
   "cell_type": "code",
   "execution_count": 113,
   "metadata": {},
   "outputs": [
    {
     "data": {
      "text/plain": [
       "array([[<matplotlib.axes._subplots.AxesSubplot object at 0x0000029237ECE488>]],\n",
       "      dtype=object)"
      ]
     },
     "execution_count": 113,
     "metadata": {},
     "output_type": "execute_result"
    },
    {
     "data": {
      "image/png": "[encoded data removed]",
      "text/plain": [
       "<Figure size 432x288 with 1 Axes>"
      ]
     },
     "metadata": {
      "needs_background": "light"
     },
     "output_type": "display_data"
    }
   ],
   "source": [
    "signatures[signatures.nlines-signatures.nBlanks < 75].hist(column=\"lineNo\")"
   ]
  },
  {
   "cell_type": "code",
   "execution_count": 114,
   "metadata": {},
   "outputs": [
    {
     "data": {
      "text/plain": [
       "array([[<matplotlib.axes._subplots.AxesSubplot object at 0x000002923C281888>,\n",
       "        <matplotlib.axes._subplots.AxesSubplot object at 0x000002923BE7AA48>,\n",
       "        <matplotlib.axes._subplots.AxesSubplot object at 0x000002923C3C2E88>,\n",
       "        <matplotlib.axes._subplots.AxesSubplot object at 0x000002923A1D8F88>]],\n",
       "      dtype=object)"
      ]
     },
     "execution_count": 114,
     "metadata": {},
     "output_type": "execute_result"
    },
    {
     "data": {
      "image/png": "[encoded data removed]",
      "text/plain": [
       "<Figure size 1440x288 with 4 Axes>"
      ]
     },
     "metadata": {
      "needs_background": "light"
     },
     "output_type": "display_data"
    }
   ],
   "source": [
    "signatures.loc[:, (\"posRatioNB\", \"posRatio\", \"posRatioFromEnd\", \"posFromEnd\" )].hist(layout=(1,4), figsize=(20,4))"
   ]
  },
  {
   "cell_type": "code",
   "execution_count": 115,
   "metadata": {},
   "outputs": [
    {
     "data": {
      "text/plain": [
       "array([[<matplotlib.axes._subplots.AxesSubplot object at 0x000002923BE20148>,\n",
       "        <matplotlib.axes._subplots.AxesSubplot object at 0x000002923BEE2448>,\n",
       "        <matplotlib.axes._subplots.AxesSubplot object at 0x00000292377D28C8>,\n",
       "        <matplotlib.axes._subplots.AxesSubplot object at 0x000002923BE48B88>]],\n",
       "      dtype=object)"
      ]
     },
     "execution_count": 115,
     "metadata": {},
     "output_type": "execute_result"
    },
    {
     "data": {
      "image/png": "[encoded data removed]",
      "text/plain": [
       "<Figure size 1440x288 with 4 Axes>"
      ]
     },
     "metadata": {
      "needs_background": "light"
     },
     "output_type": "display_data"
    }
   ],
   "source": [
    "NOTsignatures.loc[:, (\"posRatioNB\", \"posRatio\", \"posRatioFromEnd\", \"posFromEnd\" )].hist(layout=(1,4), figsize=(20,4))"
   ]
  },
  {
   "cell_type": "code",
   "execution_count": 116,
   "metadata": {},
   "outputs": [
    {
     "data": {
      "text/plain": [
       "array([[<matplotlib.axes._subplots.AxesSubplot object at 0x0000029237F3B748>,\n",
       "        <matplotlib.axes._subplots.AxesSubplot object at 0x000002923A458A88>,\n",
       "        <matplotlib.axes._subplots.AxesSubplot object at 0x000002923A453D08>,\n",
       "        <matplotlib.axes._subplots.AxesSubplot object at 0x000002923A4A9988>]],\n",
       "      dtype=object)"
      ]
     },
     "execution_count": 116,
     "metadata": {},
     "output_type": "execute_result"
    },
    {
     "data": {
      "image/png": "[encoded data removed]",
      "text/plain": [
       "<Figure size 1440x288 with 4 Axes>"
      ]
     },
     "metadata": {
      "needs_background": "light"
     },
     "output_type": "display_data"
    }
   ],
   "source": [
    "master.loc[:, (\"posRatio\", \"posRatioNB\", \"posFromEnd\", \"lenRatio\")].hist(layout=(1,4), figsize=(20,4))"
   ]
  },
  {
   "cell_type": "code",
   "execution_count": 117,
   "metadata": {},
   "outputs": [
    {
     "data": {
      "text/plain": [
       "array([[<matplotlib.axes._subplots.AxesSubplot object at 0x000002923C33F748>,\n",
       "        <matplotlib.axes._subplots.AxesSubplot object at 0x000002923C107B88>,\n",
       "        <matplotlib.axes._subplots.AxesSubplot object at 0x000002923C1B0D88>,\n",
       "        <matplotlib.axes._subplots.AxesSubplot object at 0x000002923C1EB7C8>]],\n",
       "      dtype=object)"
      ]
     },
     "execution_count": 117,
     "metadata": {},
     "output_type": "execute_result"
    },
    {
     "data": {
      "image/png": "[encoded data removed]",
      "text/plain": [
       "<Figure size 1440x288 with 4 Axes>"
      ]
     },
     "metadata": {
      "needs_background": "light"
     },
     "output_type": "display_data"
    }
   ],
   "source": [
    "signatures.loc[:, (\"len\", \"len_avg\", \"lenRatio\", \"lenRatioMax\" )].hist(layout=(1,4), figsize=(20,4))"
   ]
  },
  {
   "cell_type": "code",
   "execution_count": 118,
   "metadata": {},
   "outputs": [
    {
     "data": {
      "text/plain": [
       "array([[<matplotlib.axes._subplots.AxesSubplot object at 0x000002923CB39AC8>,\n",
       "        <matplotlib.axes._subplots.AxesSubplot object at 0x000002923CB4FC88>,\n",
       "        <matplotlib.axes._subplots.AxesSubplot object at 0x000002923CB75FC8>,\n",
       "        <matplotlib.axes._subplots.AxesSubplot object at 0x000002923CBB1A08>]],\n",
       "      dtype=object)"
      ]
     },
     "execution_count": 118,
     "metadata": {},
     "output_type": "execute_result"
    },
    {
     "data": {
      "image/png": "[encoded data removed]",
      "text/plain": [
       "<Figure size 1440x288 with 4 Axes>"
      ]
     },
     "metadata": {
      "needs_background": "light"
     },
     "output_type": "display_data"
    }
   ],
   "source": [
    "NOTsignatures.loc[:, (\"len\", \"len_avg\", \"lenRatio\", \"lenRatioMax\" )].hist(layout=(1,4), figsize=(20,4))"
   ]
  },
  {
   "cell_type": "code",
   "execution_count": 119,
   "metadata": {},
   "outputs": [
    {
     "data": {
      "text/plain": [
       "count    1514.000000\n",
       "mean       18.953765\n",
       "std        20.195554\n",
       "min         0.000000\n",
       "25%         5.000000\n",
       "50%        13.000000\n",
       "75%        24.000000\n",
       "max        78.000000\n",
       "Name: len, dtype: float64"
      ]
     },
     "execution_count": 119,
     "metadata": {},
     "output_type": "execute_result"
    }
   ],
   "source": [
    "signatures.len.describe()"
   ]
  },
  {
   "cell_type": "code",
   "execution_count": 120,
   "metadata": {},
   "outputs": [
    {
     "data": {
      "image/png": "[encoded data removed]",
      "text/plain": [
       "<Figure size 756x396 with 1 Axes>"
      ]
     },
     "metadata": {
      "needs_background": "light"
     },
     "output_type": "display_data"
    }
   ],
   "source": [
    "plt.boxplot([signatures.email, NOTsignatures.email], vert=False, labels=[\"signatures\", \"not signatures\"])\n",
    "plt.title(\"Compare position from end ratio for signature and not signature lines \")\n",
    "fig = plt.gcf()\n",
    "fig.set_size_inches(10.5, 5.5)\n",
    "plt.grid()\n",
    "plt.show()"
   ]
  },
  {
   "cell_type": "code",
   "execution_count": 121,
   "metadata": {},
   "outputs": [],
   "source": [
    "def plot_stacked(columns):\n",
    "    labels = [x for c in columns for x in [f\"{c}_Sig\", f\"{c}_NOTSig\"]]\n",
    "\n",
    "    fig, ax = plt.subplots()\n",
    "    plt.xticks(rotation=80)\n",
    "    yes = list()\n",
    "    no = list()\n",
    "\n",
    "    for col in columns:\n",
    "        all_sig = signatures.loc[:, col]\n",
    "        yes_sig = signatures.loc[signatures[col] == 1, col]\n",
    "        no_sig = signatures.loc[signatures[col] == 0, col]\n",
    "\n",
    "        all_NOTsig = NOTsignatures.loc[:, col]\n",
    "        yes_NOTsig = NOTsignatures.loc[NOTsignatures[col] == 1, col]\n",
    "        no_NOTsig = NOTsignatures.loc[NOTsignatures[col] == 0, col]\n",
    "\n",
    "        yes.extend([len(yes_sig)/len(all_sig), len(yes_NOTsig)/len(all_NOTsig)])\n",
    "        no.extend([len(no_sig)/len(all_sig), len(no_NOTsig)/len(all_NOTsig)])\n",
    "\n",
    "\n",
    "    ax.bar(labels, yes, 0.35, color=\"green\")\n",
    "    ax.bar(labels, no, 0.35, bottom=yes, color=\"orange\")"
   ]
  },
  {
   "cell_type": "code",
   "execution_count": 122,
   "metadata": {},
   "outputs": [
    {
     "data": {
      "image/png": "[encoded data removed]",
      "text/plain": [
       "<Figure size 432x288 with 1 Axes>"
      ]
     },
     "metadata": {
      "needs_background": "light"
     },
     "output_type": "display_data"
    },
    {
     "data": {
      "image/png": "[encoded data removed]",
      "text/plain": [
       "<Figure size 432x288 with 1 Axes>"
      ]
     },
     "metadata": {
      "needs_background": "light"
     },
     "output_type": "display_data"
    },
    {
     "data": {
      "image/png": "[encoded data removed]",
      "text/plain": [
       "<Figure size 432x288 with 1 Axes>"
      ]
     },
     "metadata": {
      "needs_background": "light"
     },
     "output_type": "display_data"
    }
   ],
   "source": [
    "plot_stacked([\"email\", \"url\", \"words\", \"tabs1\", \"title\"])\n",
    "plot_stacked([\"last\", \"last5\", \"last11\", \"alphanum90\"])\n",
    "plot_stacked([\"less_avg_len\", \"more_avg_len\", \"less_avg_len50\"])"
   ]
  },
  {
   "cell_type": "markdown",
   "metadata": {},
   "source": [
    "# Analyze num"
   ]
  },
  {
   "cell_type": "code",
   "execution_count": 237,
   "metadata": {},
   "outputs": [
    {
     "data": {
      "image/png": "[encoded data removed]",
      "text/plain": [
       "<Figure size 432x288 with 1 Axes>"
      ]
     },
     "metadata": {
      "needs_background": "light"
     },
     "output_type": "display_data"
    }
   ],
   "source": [
    "plot_stacked([\"num90\", \"num50\", \"num10\"])"
   ]
  },
  {
   "cell_type": "code",
   "execution_count": 269,
   "metadata": {},
   "outputs": [],
   "source": [
    "entity_to_df = {\n",
    "    \"signature\": signatures,\n",
    "    \"no_entity\": NOTsignatures\n",
    "}"
   ]
  },
  {
   "cell_type": "code",
   "execution_count": 238,
   "metadata": {},
   "outputs": [],
   "source": [
    "num90 = master[master.num90 == 1]\n",
    "num50 = master[master.num50 == 1]\n",
    "num10 = master[master.num10 == 1]"
   ]
  },
  {
   "cell_type": "code",
   "execution_count": 286,
   "metadata": {},
   "outputs": [
    {
     "name": "stdout",
     "output_type": "stream",
     "text": [
      "8.85% of signature lines have 50% or more numbers\n",
      "1.34% of no_entity lines have 50% or more numbers\n"
     ]
    }
   ],
   "source": [
    "from collections import Counter\n",
    "entity_counts = Counter(num50.entity)\n",
    "for entity in entity_to_df.keys():\n",
    "    print(f\"{(entity_counts[entity]/len(entity_to_df[entity]))*100:.2f}% of {entity} lines have 50% or more numbers\")"
   ]
  },
  {
   "cell_type": "code",
   "execution_count": 287,
   "metadata": {},
   "outputs": [
    {
     "name": "stdout",
     "output_type": "stream",
     "text": [
      "18.56% of signature lines have 10% or more numbers\n",
      "8.86% of no_entity lines have 10% or more numbers\n"
     ]
    }
   ],
   "source": [
    "from collections import Counter\n",
    "entity_counts = Counter(num10.entity)\n",
    "for entity in entity_to_df.keys():\n",
    "    print(f\"{(entity_counts[entity]/len(entity_to_df[entity]))*100:.2f}% of {entity} lines have 10% or more numbers\")"
   ]
  },
  {
   "cell_type": "markdown",
   "metadata": {},
   "source": [
    "### 👉 18.56% of signature lines have 10% or more numbers. Only 8.86% of no_entity lines have 10% or more numbers."
   ]
  },
  {
   "cell_type": "code",
   "execution_count": 297,
   "metadata": {},
   "outputs": [
    {
     "data": {
      "text/plain": [
       "156      0\n",
       "157      0\n",
       "158      0\n",
       "159      0\n",
       "164      0\n",
       "        ..\n",
       "18015    0\n",
       "18016    0\n",
       "18025    0\n",
       "18026    0\n",
       "18027    0\n",
       "Name: email, Length: 1514, dtype: int64"
      ]
     },
     "execution_count": 297,
     "metadata": {},
     "output_type": "execute_result"
    }
   ],
   "source": [
    "signatures.loc[:, \"email\"]"
   ]
  },
  {
   "cell_type": "code",
   "execution_count": 298,
   "metadata": {},
   "outputs": [
    {
     "data": {
      "text/plain": [
       "377"
      ]
     },
     "execution_count": 298,
     "metadata": {},
     "output_type": "execute_result"
    }
   ],
   "source": [
    "len(NOTsignatures.email[NOTsignatures.email==1])"
   ]
  },
  {
   "cell_type": "markdown",
   "metadata": {},
   "source": [
    "# Features"
   ]
  },
  {
   "cell_type": "code",
   "execution_count": 299,
   "metadata": {},
   "outputs": [
    {
     "name": "stdout",
     "output_type": "stream",
     "text": [
      "There are 58 email matches out of 1514 signature lines.\n",
      "There are 276 phone matches out of 1514 signature lines.\n",
      "There are 19 name matches out of 1514 signature lines.\n"
     ]
    }
   ],
   "source": [
    "print(f\"There are {sum(signatures.email)} email matches out of {len(signatures.index)} signature lines.\")\n",
    "print(f\"There are {sum(signatures.phone)} phone matches out of {len(signatures.index)} signature lines.\")\n",
    "print(f\"There are {sum(signatures.name)} name matches out of {len(signatures.index)} signature lines.\") # Too low?"
   ]
  },
  {
   "cell_type": "code",
   "execution_count": 300,
   "metadata": {},
   "outputs": [],
   "source": [
    "cross_tables = list()\n",
    "cross_tbl_labels = list()\n",
    "for column in master.columns:\n",
    "    if is_binary(master[column]) and column != \"entity\":\n",
    "        cross_tables.append(pd.crosstab(master.entity, master[column], margins=True))\n",
    "        cross_tbl_labels.append(column)"
   ]
  },
  {
   "cell_type": "code",
   "execution_count": 301,
   "metadata": {},
   "outputs": [
    {
     "data": {
      "text/html": [
       "<style  type=\"text/css\" >\n",
       "</style><table id=\"T_7f163cd0_ef97_11ea_8b26_185680a52566\" style='display:inline'><caption>blank</caption><thead>    <tr>        <th class=\"index_name level0\" >blank</th>        <th class=\"col_heading level0 col0\" >0</th>        <th class=\"col_heading level0 col1\" >1</th>        <th class=\"col_heading level0 col2\" >All</th>    </tr>    <tr>        <th class=\"index_name level0\" >entity</th>        <th class=\"blank\" ></th>        <th class=\"blank\" ></th>        <th class=\"blank\" ></th>    </tr></thead><tbody>\n",
       "                <tr>\n",
       "                        <th id=\"T_7f163cd0_ef97_11ea_8b26_185680a52566level0_row0\" class=\"row_heading level0 row0\" >no_entity</th>\n",
       "                        <td id=\"T_7f163cd0_ef97_11ea_8b26_185680a52566row0_col0\" class=\"data row0 col0\" >12301</td>\n",
       "                        <td id=\"T_7f163cd0_ef97_11ea_8b26_185680a52566row0_col1\" class=\"data row0 col1\" >4213</td>\n",
       "                        <td id=\"T_7f163cd0_ef97_11ea_8b26_185680a52566row0_col2\" class=\"data row0 col2\" >16514</td>\n",
       "            </tr>\n",
       "            <tr>\n",
       "                        <th id=\"T_7f163cd0_ef97_11ea_8b26_185680a52566level0_row1\" class=\"row_heading level0 row1\" >signature</th>\n",
       "                        <td id=\"T_7f163cd0_ef97_11ea_8b26_185680a52566row1_col0\" class=\"data row1 col0\" >1309</td>\n",
       "                        <td id=\"T_7f163cd0_ef97_11ea_8b26_185680a52566row1_col1\" class=\"data row1 col1\" >205</td>\n",
       "                        <td id=\"T_7f163cd0_ef97_11ea_8b26_185680a52566row1_col2\" class=\"data row1 col2\" >1514</td>\n",
       "            </tr>\n",
       "            <tr>\n",
       "                        <th id=\"T_7f163cd0_ef97_11ea_8b26_185680a52566level0_row2\" class=\"row_heading level0 row2\" >All</th>\n",
       "                        <td id=\"T_7f163cd0_ef97_11ea_8b26_185680a52566row2_col0\" class=\"data row2 col0\" >13610</td>\n",
       "                        <td id=\"T_7f163cd0_ef97_11ea_8b26_185680a52566row2_col1\" class=\"data row2 col1\" >4418</td>\n",
       "                        <td id=\"T_7f163cd0_ef97_11ea_8b26_185680a52566row2_col2\" class=\"data row2 col2\" >18028</td>\n",
       "            </tr>\n",
       "    </tbody></table>   <style  type=\"text/css\" >\n",
       "</style><table id=\"T_7f166258_ef97_11ea_8b73_185680a52566\" style='display:inline'><caption>email</caption><thead>    <tr>        <th class=\"index_name level0\" >email</th>        <th class=\"col_heading level0 col0\" >0</th>        <th class=\"col_heading level0 col1\" >1</th>        <th class=\"col_heading level0 col2\" >All</th>    </tr>    <tr>        <th class=\"index_name level0\" >entity</th>        <th class=\"blank\" ></th>        <th class=\"blank\" ></th>        <th class=\"blank\" ></th>    </tr></thead><tbody>\n",
       "                <tr>\n",
       "                        <th id=\"T_7f166258_ef97_11ea_8b73_185680a52566level0_row0\" class=\"row_heading level0 row0\" >no_entity</th>\n",
       "                        <td id=\"T_7f166258_ef97_11ea_8b73_185680a52566row0_col0\" class=\"data row0 col0\" >16137</td>\n",
       "                        <td id=\"T_7f166258_ef97_11ea_8b73_185680a52566row0_col1\" class=\"data row0 col1\" >377</td>\n",
       "                        <td id=\"T_7f166258_ef97_11ea_8b73_185680a52566row0_col2\" class=\"data row0 col2\" >16514</td>\n",
       "            </tr>\n",
       "            <tr>\n",
       "                        <th id=\"T_7f166258_ef97_11ea_8b73_185680a52566level0_row1\" class=\"row_heading level0 row1\" >signature</th>\n",
       "                        <td id=\"T_7f166258_ef97_11ea_8b73_185680a52566row1_col0\" class=\"data row1 col0\" >1456</td>\n",
       "                        <td id=\"T_7f166258_ef97_11ea_8b73_185680a52566row1_col1\" class=\"data row1 col1\" >58</td>\n",
       "                        <td id=\"T_7f166258_ef97_11ea_8b73_185680a52566row1_col2\" class=\"data row1 col2\" >1514</td>\n",
       "            </tr>\n",
       "            <tr>\n",
       "                        <th id=\"T_7f166258_ef97_11ea_8b73_185680a52566level0_row2\" class=\"row_heading level0 row2\" >All</th>\n",
       "                        <td id=\"T_7f166258_ef97_11ea_8b73_185680a52566row2_col0\" class=\"data row2 col0\" >17593</td>\n",
       "                        <td id=\"T_7f166258_ef97_11ea_8b73_185680a52566row2_col1\" class=\"data row2 col1\" >435</td>\n",
       "                        <td id=\"T_7f166258_ef97_11ea_8b73_185680a52566row2_col2\" class=\"data row2 col2\" >18028</td>\n",
       "            </tr>\n",
       "    </tbody></table>   <style  type=\"text/css\" >\n",
       "</style><table id=\"T_7f168aa4_ef97_11ea_a4d3_185680a52566\" style='display:inline'><caption>url</caption><thead>    <tr>        <th class=\"index_name level0\" >url</th>        <th class=\"col_heading level0 col0\" >0</th>        <th class=\"col_heading level0 col1\" >1</th>        <th class=\"col_heading level0 col2\" >All</th>    </tr>    <tr>        <th class=\"index_name level0\" >entity</th>        <th class=\"blank\" ></th>        <th class=\"blank\" ></th>        <th class=\"blank\" ></th>    </tr></thead><tbody>\n",
       "                <tr>\n",
       "                        <th id=\"T_7f168aa4_ef97_11ea_a4d3_185680a52566level0_row0\" class=\"row_heading level0 row0\" >no_entity</th>\n",
       "                        <td id=\"T_7f168aa4_ef97_11ea_a4d3_185680a52566row0_col0\" class=\"data row0 col0\" >15797</td>\n",
       "                        <td id=\"T_7f168aa4_ef97_11ea_a4d3_185680a52566row0_col1\" class=\"data row0 col1\" >717</td>\n",
       "                        <td id=\"T_7f168aa4_ef97_11ea_a4d3_185680a52566row0_col2\" class=\"data row0 col2\" >16514</td>\n",
       "            </tr>\n",
       "            <tr>\n",
       "                        <th id=\"T_7f168aa4_ef97_11ea_a4d3_185680a52566level0_row1\" class=\"row_heading level0 row1\" >signature</th>\n",
       "                        <td id=\"T_7f168aa4_ef97_11ea_a4d3_185680a52566row1_col0\" class=\"data row1 col0\" >1408</td>\n",
       "                        <td id=\"T_7f168aa4_ef97_11ea_a4d3_185680a52566row1_col1\" class=\"data row1 col1\" >106</td>\n",
       "                        <td id=\"T_7f168aa4_ef97_11ea_a4d3_185680a52566row1_col2\" class=\"data row1 col2\" >1514</td>\n",
       "            </tr>\n",
       "            <tr>\n",
       "                        <th id=\"T_7f168aa4_ef97_11ea_a4d3_185680a52566level0_row2\" class=\"row_heading level0 row2\" >All</th>\n",
       "                        <td id=\"T_7f168aa4_ef97_11ea_a4d3_185680a52566row2_col0\" class=\"data row2 col0\" >17205</td>\n",
       "                        <td id=\"T_7f168aa4_ef97_11ea_a4d3_185680a52566row2_col1\" class=\"data row2 col1\" >823</td>\n",
       "                        <td id=\"T_7f168aa4_ef97_11ea_a4d3_185680a52566row2_col2\" class=\"data row2 col2\" >18028</td>\n",
       "            </tr>\n",
       "    </tbody></table>   <style  type=\"text/css\" >\n",
       "</style><table id=\"T_7f16b1c8_ef97_11ea_8e2f_185680a52566\" style='display:inline'><caption>phone</caption><thead>    <tr>        <th class=\"index_name level0\" >phone</th>        <th class=\"col_heading level0 col0\" >0</th>        <th class=\"col_heading level0 col1\" >1</th>        <th class=\"col_heading level0 col2\" >All</th>    </tr>    <tr>        <th class=\"index_name level0\" >entity</th>        <th class=\"blank\" ></th>        <th class=\"blank\" ></th>        <th class=\"blank\" ></th>    </tr></thead><tbody>\n",
       "                <tr>\n",
       "                        <th id=\"T_7f16b1c8_ef97_11ea_8e2f_185680a52566level0_row0\" class=\"row_heading level0 row0\" >no_entity</th>\n",
       "                        <td id=\"T_7f16b1c8_ef97_11ea_8e2f_185680a52566row0_col0\" class=\"data row0 col0\" >14916</td>\n",
       "                        <td id=\"T_7f16b1c8_ef97_11ea_8e2f_185680a52566row0_col1\" class=\"data row0 col1\" >1598</td>\n",
       "                        <td id=\"T_7f16b1c8_ef97_11ea_8e2f_185680a52566row0_col2\" class=\"data row0 col2\" >16514</td>\n",
       "            </tr>\n",
       "            <tr>\n",
       "                        <th id=\"T_7f16b1c8_ef97_11ea_8e2f_185680a52566level0_row1\" class=\"row_heading level0 row1\" >signature</th>\n",
       "                        <td id=\"T_7f16b1c8_ef97_11ea_8e2f_185680a52566row1_col0\" class=\"data row1 col0\" >1238</td>\n",
       "                        <td id=\"T_7f16b1c8_ef97_11ea_8e2f_185680a52566row1_col1\" class=\"data row1 col1\" >276</td>\n",
       "                        <td id=\"T_7f16b1c8_ef97_11ea_8e2f_185680a52566row1_col2\" class=\"data row1 col2\" >1514</td>\n",
       "            </tr>\n",
       "            <tr>\n",
       "                        <th id=\"T_7f16b1c8_ef97_11ea_8e2f_185680a52566level0_row2\" class=\"row_heading level0 row2\" >All</th>\n",
       "                        <td id=\"T_7f16b1c8_ef97_11ea_8e2f_185680a52566row2_col0\" class=\"data row2 col0\" >16154</td>\n",
       "                        <td id=\"T_7f16b1c8_ef97_11ea_8e2f_185680a52566row2_col1\" class=\"data row2 col1\" >1874</td>\n",
       "                        <td id=\"T_7f16b1c8_ef97_11ea_8e2f_185680a52566row2_col2\" class=\"data row2 col2\" >18028</td>\n",
       "            </tr>\n",
       "    </tbody></table>   <style  type=\"text/css\" >\n",
       "</style><table id=\"T_7f16b1c9_ef97_11ea_bf01_185680a52566\" style='display:inline'><caption>sigdelimiter</caption><thead>    <tr>        <th class=\"index_name level0\" >sigdelimiter</th>        <th class=\"col_heading level0 col0\" >0</th>        <th class=\"col_heading level0 col1\" >1</th>        <th class=\"col_heading level0 col2\" >All</th>    </tr>    <tr>        <th class=\"index_name level0\" >entity</th>        <th class=\"blank\" ></th>        <th class=\"blank\" ></th>        <th class=\"blank\" ></th>    </tr></thead><tbody>\n",
       "                <tr>\n",
       "                        <th id=\"T_7f16b1c9_ef97_11ea_bf01_185680a52566level0_row0\" class=\"row_heading level0 row0\" >no_entity</th>\n",
       "                        <td id=\"T_7f16b1c9_ef97_11ea_bf01_185680a52566row0_col0\" class=\"data row0 col0\" >16185</td>\n",
       "                        <td id=\"T_7f16b1c9_ef97_11ea_bf01_185680a52566row0_col1\" class=\"data row0 col1\" >329</td>\n",
       "                        <td id=\"T_7f16b1c9_ef97_11ea_bf01_185680a52566row0_col2\" class=\"data row0 col2\" >16514</td>\n",
       "            </tr>\n",
       "            <tr>\n",
       "                        <th id=\"T_7f16b1c9_ef97_11ea_bf01_185680a52566level0_row1\" class=\"row_heading level0 row1\" >signature</th>\n",
       "                        <td id=\"T_7f16b1c9_ef97_11ea_bf01_185680a52566row1_col0\" class=\"data row1 col0\" >1503</td>\n",
       "                        <td id=\"T_7f16b1c9_ef97_11ea_bf01_185680a52566row1_col1\" class=\"data row1 col1\" >11</td>\n",
       "                        <td id=\"T_7f16b1c9_ef97_11ea_bf01_185680a52566row1_col2\" class=\"data row1 col2\" >1514</td>\n",
       "            </tr>\n",
       "            <tr>\n",
       "                        <th id=\"T_7f16b1c9_ef97_11ea_bf01_185680a52566level0_row2\" class=\"row_heading level0 row2\" >All</th>\n",
       "                        <td id=\"T_7f16b1c9_ef97_11ea_bf01_185680a52566row2_col0\" class=\"data row2 col0\" >17688</td>\n",
       "                        <td id=\"T_7f16b1c9_ef97_11ea_bf01_185680a52566row2_col1\" class=\"data row2 col1\" >340</td>\n",
       "                        <td id=\"T_7f16b1c9_ef97_11ea_bf01_185680a52566row2_col2\" class=\"data row2 col2\" >18028</td>\n",
       "            </tr>\n",
       "    </tbody></table>   <style  type=\"text/css\" >\n",
       "</style><table id=\"T_7f16d8be_ef97_11ea_90d7_185680a52566\" style='display:inline'><caption>special</caption><thead>    <tr>        <th class=\"index_name level0\" >special</th>        <th class=\"col_heading level0 col0\" >0</th>        <th class=\"col_heading level0 col1\" >1</th>        <th class=\"col_heading level0 col2\" >All</th>    </tr>    <tr>        <th class=\"index_name level0\" >entity</th>        <th class=\"blank\" ></th>        <th class=\"blank\" ></th>        <th class=\"blank\" ></th>    </tr></thead><tbody>\n",
       "                <tr>\n",
       "                        <th id=\"T_7f16d8be_ef97_11ea_90d7_185680a52566level0_row0\" class=\"row_heading level0 row0\" >no_entity</th>\n",
       "                        <td id=\"T_7f16d8be_ef97_11ea_90d7_185680a52566row0_col0\" class=\"data row0 col0\" >16408</td>\n",
       "                        <td id=\"T_7f16d8be_ef97_11ea_90d7_185680a52566row0_col1\" class=\"data row0 col1\" >106</td>\n",
       "                        <td id=\"T_7f16d8be_ef97_11ea_90d7_185680a52566row0_col2\" class=\"data row0 col2\" >16514</td>\n",
       "            </tr>\n",
       "            <tr>\n",
       "                        <th id=\"T_7f16d8be_ef97_11ea_90d7_185680a52566level0_row1\" class=\"row_heading level0 row1\" >signature</th>\n",
       "                        <td id=\"T_7f16d8be_ef97_11ea_90d7_185680a52566row1_col0\" class=\"data row1 col0\" >1487</td>\n",
       "                        <td id=\"T_7f16d8be_ef97_11ea_90d7_185680a52566row1_col1\" class=\"data row1 col1\" >27</td>\n",
       "                        <td id=\"T_7f16d8be_ef97_11ea_90d7_185680a52566row1_col2\" class=\"data row1 col2\" >1514</td>\n",
       "            </tr>\n",
       "            <tr>\n",
       "                        <th id=\"T_7f16d8be_ef97_11ea_90d7_185680a52566level0_row2\" class=\"row_heading level0 row2\" >All</th>\n",
       "                        <td id=\"T_7f16d8be_ef97_11ea_90d7_185680a52566row2_col0\" class=\"data row2 col0\" >17895</td>\n",
       "                        <td id=\"T_7f16d8be_ef97_11ea_90d7_185680a52566row2_col1\" class=\"data row2 col1\" >133</td>\n",
       "                        <td id=\"T_7f16d8be_ef97_11ea_90d7_185680a52566row2_col2\" class=\"data row2 col2\" >18028</td>\n",
       "            </tr>\n",
       "    </tbody></table>   <style  type=\"text/css\" >\n",
       "</style><table id=\"T_7f1700d8_ef97_11ea_9c59_185680a52566\" style='display:inline'><caption>words</caption><thead>    <tr>        <th class=\"index_name level0\" >words</th>        <th class=\"col_heading level0 col0\" >0</th>        <th class=\"col_heading level0 col1\" >1</th>        <th class=\"col_heading level0 col2\" >All</th>    </tr>    <tr>        <th class=\"index_name level0\" >entity</th>        <th class=\"blank\" ></th>        <th class=\"blank\" ></th>        <th class=\"blank\" ></th>    </tr></thead><tbody>\n",
       "                <tr>\n",
       "                        <th id=\"T_7f1700d8_ef97_11ea_9c59_185680a52566level0_row0\" class=\"row_heading level0 row0\" >no_entity</th>\n",
       "                        <td id=\"T_7f1700d8_ef97_11ea_9c59_185680a52566row0_col0\" class=\"data row0 col0\" >15926</td>\n",
       "                        <td id=\"T_7f1700d8_ef97_11ea_9c59_185680a52566row0_col1\" class=\"data row0 col1\" >588</td>\n",
       "                        <td id=\"T_7f1700d8_ef97_11ea_9c59_185680a52566row0_col2\" class=\"data row0 col2\" >16514</td>\n",
       "            </tr>\n",
       "            <tr>\n",
       "                        <th id=\"T_7f1700d8_ef97_11ea_9c59_185680a52566level0_row1\" class=\"row_heading level0 row1\" >signature</th>\n",
       "                        <td id=\"T_7f1700d8_ef97_11ea_9c59_185680a52566row1_col0\" class=\"data row1 col0\" >1223</td>\n",
       "                        <td id=\"T_7f1700d8_ef97_11ea_9c59_185680a52566row1_col1\" class=\"data row1 col1\" >291</td>\n",
       "                        <td id=\"T_7f1700d8_ef97_11ea_9c59_185680a52566row1_col2\" class=\"data row1 col2\" >1514</td>\n",
       "            </tr>\n",
       "            <tr>\n",
       "                        <th id=\"T_7f1700d8_ef97_11ea_9c59_185680a52566level0_row2\" class=\"row_heading level0 row2\" >All</th>\n",
       "                        <td id=\"T_7f1700d8_ef97_11ea_9c59_185680a52566row2_col0\" class=\"data row2 col0\" >17149</td>\n",
       "                        <td id=\"T_7f1700d8_ef97_11ea_9c59_185680a52566row2_col1\" class=\"data row2 col1\" >879</td>\n",
       "                        <td id=\"T_7f1700d8_ef97_11ea_9c59_185680a52566row2_col2\" class=\"data row2 col2\" >18028</td>\n",
       "            </tr>\n",
       "    </tbody></table>   <style  type=\"text/css\" >\n",
       "</style><table id=\"T_7f1725a4_ef97_11ea_a841_185680a52566\" style='display:inline'><caption>header</caption><thead>    <tr>        <th class=\"index_name level0\" >header</th>        <th class=\"col_heading level0 col0\" >0</th>        <th class=\"col_heading level0 col1\" >1</th>        <th class=\"col_heading level0 col2\" >All</th>    </tr>    <tr>        <th class=\"index_name level0\" >entity</th>        <th class=\"blank\" ></th>        <th class=\"blank\" ></th>        <th class=\"blank\" ></th>    </tr></thead><tbody>\n",
       "                <tr>\n",
       "                        <th id=\"T_7f1725a4_ef97_11ea_a841_185680a52566level0_row0\" class=\"row_heading level0 row0\" >no_entity</th>\n",
       "                        <td id=\"T_7f1725a4_ef97_11ea_a841_185680a52566row0_col0\" class=\"data row0 col0\" >15198</td>\n",
       "                        <td id=\"T_7f1725a4_ef97_11ea_a841_185680a52566row0_col1\" class=\"data row0 col1\" >1316</td>\n",
       "                        <td id=\"T_7f1725a4_ef97_11ea_a841_185680a52566row0_col2\" class=\"data row0 col2\" >16514</td>\n",
       "            </tr>\n",
       "            <tr>\n",
       "                        <th id=\"T_7f1725a4_ef97_11ea_a841_185680a52566level0_row1\" class=\"row_heading level0 row1\" >signature</th>\n",
       "                        <td id=\"T_7f1725a4_ef97_11ea_a841_185680a52566row1_col0\" class=\"data row1 col0\" >1512</td>\n",
       "                        <td id=\"T_7f1725a4_ef97_11ea_a841_185680a52566row1_col1\" class=\"data row1 col1\" >2</td>\n",
       "                        <td id=\"T_7f1725a4_ef97_11ea_a841_185680a52566row1_col2\" class=\"data row1 col2\" >1514</td>\n",
       "            </tr>\n",
       "            <tr>\n",
       "                        <th id=\"T_7f1725a4_ef97_11ea_a841_185680a52566level0_row2\" class=\"row_heading level0 row2\" >All</th>\n",
       "                        <td id=\"T_7f1725a4_ef97_11ea_a841_185680a52566row2_col0\" class=\"data row2 col0\" >16710</td>\n",
       "                        <td id=\"T_7f1725a4_ef97_11ea_a841_185680a52566row2_col1\" class=\"data row2 col1\" >1318</td>\n",
       "                        <td id=\"T_7f1725a4_ef97_11ea_a841_185680a52566row2_col2\" class=\"data row2 col2\" >18028</td>\n",
       "            </tr>\n",
       "    </tbody></table>   <style  type=\"text/css\" >\n",
       "</style><table id=\"T_7f174de6_ef97_11ea_b6b6_185680a52566\" style='display:inline'><caption>name</caption><thead>    <tr>        <th class=\"index_name level0\" >name</th>        <th class=\"col_heading level0 col0\" >0</th>        <th class=\"col_heading level0 col1\" >1</th>        <th class=\"col_heading level0 col2\" >All</th>    </tr>    <tr>        <th class=\"index_name level0\" >entity</th>        <th class=\"blank\" ></th>        <th class=\"blank\" ></th>        <th class=\"blank\" ></th>    </tr></thead><tbody>\n",
       "                <tr>\n",
       "                        <th id=\"T_7f174de6_ef97_11ea_b6b6_185680a52566level0_row0\" class=\"row_heading level0 row0\" >no_entity</th>\n",
       "                        <td id=\"T_7f174de6_ef97_11ea_b6b6_185680a52566row0_col0\" class=\"data row0 col0\" >16277</td>\n",
       "                        <td id=\"T_7f174de6_ef97_11ea_b6b6_185680a52566row0_col1\" class=\"data row0 col1\" >237</td>\n",
       "                        <td id=\"T_7f174de6_ef97_11ea_b6b6_185680a52566row0_col2\" class=\"data row0 col2\" >16514</td>\n",
       "            </tr>\n",
       "            <tr>\n",
       "                        <th id=\"T_7f174de6_ef97_11ea_b6b6_185680a52566level0_row1\" class=\"row_heading level0 row1\" >signature</th>\n",
       "                        <td id=\"T_7f174de6_ef97_11ea_b6b6_185680a52566row1_col0\" class=\"data row1 col0\" >1495</td>\n",
       "                        <td id=\"T_7f174de6_ef97_11ea_b6b6_185680a52566row1_col1\" class=\"data row1 col1\" >19</td>\n",
       "                        <td id=\"T_7f174de6_ef97_11ea_b6b6_185680a52566row1_col2\" class=\"data row1 col2\" >1514</td>\n",
       "            </tr>\n",
       "            <tr>\n",
       "                        <th id=\"T_7f174de6_ef97_11ea_b6b6_185680a52566level0_row2\" class=\"row_heading level0 row2\" >All</th>\n",
       "                        <td id=\"T_7f174de6_ef97_11ea_b6b6_185680a52566row2_col0\" class=\"data row2 col0\" >17772</td>\n",
       "                        <td id=\"T_7f174de6_ef97_11ea_b6b6_185680a52566row2_col1\" class=\"data row2 col1\" >256</td>\n",
       "                        <td id=\"T_7f174de6_ef97_11ea_b6b6_185680a52566row2_col2\" class=\"data row2 col2\" >18028</td>\n",
       "            </tr>\n",
       "    </tbody></table>   <style  type=\"text/css\" >\n",
       "</style><table id=\"T_7f174de7_ef97_11ea_abb9_185680a52566\" style='display:inline'><caption>endquote</caption><thead>    <tr>        <th class=\"index_name level0\" >endquote</th>        <th class=\"col_heading level0 col0\" >0</th>        <th class=\"col_heading level0 col1\" >1</th>        <th class=\"col_heading level0 col2\" >All</th>    </tr>    <tr>        <th class=\"index_name level0\" >entity</th>        <th class=\"blank\" ></th>        <th class=\"blank\" ></th>        <th class=\"blank\" ></th>    </tr></thead><tbody>\n",
       "                <tr>\n",
       "                        <th id=\"T_7f174de7_ef97_11ea_abb9_185680a52566level0_row0\" class=\"row_heading level0 row0\" >no_entity</th>\n",
       "                        <td id=\"T_7f174de7_ef97_11ea_abb9_185680a52566row0_col0\" class=\"data row0 col0\" >16449</td>\n",
       "                        <td id=\"T_7f174de7_ef97_11ea_abb9_185680a52566row0_col1\" class=\"data row0 col1\" >65</td>\n",
       "                        <td id=\"T_7f174de7_ef97_11ea_abb9_185680a52566row0_col2\" class=\"data row0 col2\" >16514</td>\n",
       "            </tr>\n",
       "            <tr>\n",
       "                        <th id=\"T_7f174de7_ef97_11ea_abb9_185680a52566level0_row1\" class=\"row_heading level0 row1\" >signature</th>\n",
       "                        <td id=\"T_7f174de7_ef97_11ea_abb9_185680a52566row1_col0\" class=\"data row1 col0\" >1512</td>\n",
       "                        <td id=\"T_7f174de7_ef97_11ea_abb9_185680a52566row1_col1\" class=\"data row1 col1\" >2</td>\n",
       "                        <td id=\"T_7f174de7_ef97_11ea_abb9_185680a52566row1_col2\" class=\"data row1 col2\" >1514</td>\n",
       "            </tr>\n",
       "            <tr>\n",
       "                        <th id=\"T_7f174de7_ef97_11ea_abb9_185680a52566level0_row2\" class=\"row_heading level0 row2\" >All</th>\n",
       "                        <td id=\"T_7f174de7_ef97_11ea_abb9_185680a52566row2_col0\" class=\"data row2 col0\" >17961</td>\n",
       "                        <td id=\"T_7f174de7_ef97_11ea_abb9_185680a52566row2_col1\" class=\"data row2 col1\" >67</td>\n",
       "                        <td id=\"T_7f174de7_ef97_11ea_abb9_185680a52566row2_col2\" class=\"data row2 col2\" >18028</td>\n",
       "            </tr>\n",
       "    </tbody></table>   <style  type=\"text/css\" >\n",
       "</style><table id=\"T_7f177518_ef97_11ea_b2ea_185680a52566\" style='display:inline'><caption>tabs1</caption><thead>    <tr>        <th class=\"index_name level0\" >tabs1</th>        <th class=\"col_heading level0 col0\" >0</th>        <th class=\"col_heading level0 col1\" >1</th>        <th class=\"col_heading level0 col2\" >All</th>    </tr>    <tr>        <th class=\"index_name level0\" >entity</th>        <th class=\"blank\" ></th>        <th class=\"blank\" ></th>        <th class=\"blank\" ></th>    </tr></thead><tbody>\n",
       "                <tr>\n",
       "                        <th id=\"T_7f177518_ef97_11ea_b2ea_185680a52566level0_row0\" class=\"row_heading level0 row0\" >no_entity</th>\n",
       "                        <td id=\"T_7f177518_ef97_11ea_b2ea_185680a52566row0_col0\" class=\"data row0 col0\" >16105</td>\n",
       "                        <td id=\"T_7f177518_ef97_11ea_b2ea_185680a52566row0_col1\" class=\"data row0 col1\" >409</td>\n",
       "                        <td id=\"T_7f177518_ef97_11ea_b2ea_185680a52566row0_col2\" class=\"data row0 col2\" >16514</td>\n",
       "            </tr>\n",
       "            <tr>\n",
       "                        <th id=\"T_7f177518_ef97_11ea_b2ea_185680a52566level0_row1\" class=\"row_heading level0 row1\" >signature</th>\n",
       "                        <td id=\"T_7f177518_ef97_11ea_b2ea_185680a52566row1_col0\" class=\"data row1 col0\" >1510</td>\n",
       "                        <td id=\"T_7f177518_ef97_11ea_b2ea_185680a52566row1_col1\" class=\"data row1 col1\" >4</td>\n",
       "                        <td id=\"T_7f177518_ef97_11ea_b2ea_185680a52566row1_col2\" class=\"data row1 col2\" >1514</td>\n",
       "            </tr>\n",
       "            <tr>\n",
       "                        <th id=\"T_7f177518_ef97_11ea_b2ea_185680a52566level0_row2\" class=\"row_heading level0 row2\" >All</th>\n",
       "                        <td id=\"T_7f177518_ef97_11ea_b2ea_185680a52566row2_col0\" class=\"data row2 col0\" >17615</td>\n",
       "                        <td id=\"T_7f177518_ef97_11ea_b2ea_185680a52566row2_col1\" class=\"data row2 col1\" >413</td>\n",
       "                        <td id=\"T_7f177518_ef97_11ea_b2ea_185680a52566row2_col2\" class=\"data row2 col2\" >18028</td>\n",
       "            </tr>\n",
       "    </tbody></table>   <style  type=\"text/css\" >\n",
       "</style><table id=\"T_7f179ad2_ef97_11ea_b262_185680a52566\" style='display:inline'><caption>tabs2</caption><thead>    <tr>        <th class=\"index_name level0\" >tabs2</th>        <th class=\"col_heading level0 col0\" >0</th>        <th class=\"col_heading level0 col1\" >1</th>        <th class=\"col_heading level0 col2\" >All</th>    </tr>    <tr>        <th class=\"index_name level0\" >entity</th>        <th class=\"blank\" ></th>        <th class=\"blank\" ></th>        <th class=\"blank\" ></th>    </tr></thead><tbody>\n",
       "                <tr>\n",
       "                        <th id=\"T_7f179ad2_ef97_11ea_b262_185680a52566level0_row0\" class=\"row_heading level0 row0\" >no_entity</th>\n",
       "                        <td id=\"T_7f179ad2_ef97_11ea_b262_185680a52566row0_col0\" class=\"data row0 col0\" >16143</td>\n",
       "                        <td id=\"T_7f179ad2_ef97_11ea_b262_185680a52566row0_col1\" class=\"data row0 col1\" >371</td>\n",
       "                        <td id=\"T_7f179ad2_ef97_11ea_b262_185680a52566row0_col2\" class=\"data row0 col2\" >16514</td>\n",
       "            </tr>\n",
       "            <tr>\n",
       "                        <th id=\"T_7f179ad2_ef97_11ea_b262_185680a52566level0_row1\" class=\"row_heading level0 row1\" >signature</th>\n",
       "                        <td id=\"T_7f179ad2_ef97_11ea_b262_185680a52566row1_col0\" class=\"data row1 col0\" >1512</td>\n",
       "                        <td id=\"T_7f179ad2_ef97_11ea_b262_185680a52566row1_col1\" class=\"data row1 col1\" >2</td>\n",
       "                        <td id=\"T_7f179ad2_ef97_11ea_b262_185680a52566row1_col2\" class=\"data row1 col2\" >1514</td>\n",
       "            </tr>\n",
       "            <tr>\n",
       "                        <th id=\"T_7f179ad2_ef97_11ea_b262_185680a52566level0_row2\" class=\"row_heading level0 row2\" >All</th>\n",
       "                        <td id=\"T_7f179ad2_ef97_11ea_b262_185680a52566row2_col0\" class=\"data row2 col0\" >17655</td>\n",
       "                        <td id=\"T_7f179ad2_ef97_11ea_b262_185680a52566row2_col1\" class=\"data row2 col1\" >373</td>\n",
       "                        <td id=\"T_7f179ad2_ef97_11ea_b262_185680a52566row2_col2\" class=\"data row2 col2\" >18028</td>\n",
       "            </tr>\n",
       "    </tbody></table>   <style  type=\"text/css\" >\n",
       "</style><table id=\"T_7f17c334_ef97_11ea_bebf_185680a52566\" style='display:inline'><caption>tabs3</caption><thead>    <tr>        <th class=\"index_name level0\" >tabs3</th>        <th class=\"col_heading level0 col0\" >0</th>        <th class=\"col_heading level0 col1\" >1</th>        <th class=\"col_heading level0 col2\" >All</th>    </tr>    <tr>        <th class=\"index_name level0\" >entity</th>        <th class=\"blank\" ></th>        <th class=\"blank\" ></th>        <th class=\"blank\" ></th>    </tr></thead><tbody>\n",
       "                <tr>\n",
       "                        <th id=\"T_7f17c334_ef97_11ea_bebf_185680a52566level0_row0\" class=\"row_heading level0 row0\" >no_entity</th>\n",
       "                        <td id=\"T_7f17c334_ef97_11ea_bebf_185680a52566row0_col0\" class=\"data row0 col0\" >16478</td>\n",
       "                        <td id=\"T_7f17c334_ef97_11ea_bebf_185680a52566row0_col1\" class=\"data row0 col1\" >36</td>\n",
       "                        <td id=\"T_7f17c334_ef97_11ea_bebf_185680a52566row0_col2\" class=\"data row0 col2\" >16514</td>\n",
       "            </tr>\n",
       "            <tr>\n",
       "                        <th id=\"T_7f17c334_ef97_11ea_bebf_185680a52566level0_row1\" class=\"row_heading level0 row1\" >signature</th>\n",
       "                        <td id=\"T_7f17c334_ef97_11ea_bebf_185680a52566row1_col0\" class=\"data row1 col0\" >1514</td>\n",
       "                        <td id=\"T_7f17c334_ef97_11ea_bebf_185680a52566row1_col1\" class=\"data row1 col1\" >0</td>\n",
       "                        <td id=\"T_7f17c334_ef97_11ea_bebf_185680a52566row1_col2\" class=\"data row1 col2\" >1514</td>\n",
       "            </tr>\n",
       "            <tr>\n",
       "                        <th id=\"T_7f17c334_ef97_11ea_bebf_185680a52566level0_row2\" class=\"row_heading level0 row2\" >All</th>\n",
       "                        <td id=\"T_7f17c334_ef97_11ea_bebf_185680a52566row2_col0\" class=\"data row2 col0\" >17992</td>\n",
       "                        <td id=\"T_7f17c334_ef97_11ea_bebf_185680a52566row2_col1\" class=\"data row2 col1\" >36</td>\n",
       "                        <td id=\"T_7f17c334_ef97_11ea_bebf_185680a52566row2_col2\" class=\"data row2 col2\" >18028</td>\n",
       "            </tr>\n",
       "    </tbody></table>   <style  type=\"text/css\" >\n",
       "</style><table id=\"T_7f17ea64_ef97_11ea_b10d_185680a52566\" style='display:inline'><caption>punct20</caption><thead>    <tr>        <th class=\"index_name level0\" >punct20</th>        <th class=\"col_heading level0 col0\" >0</th>        <th class=\"col_heading level0 col1\" >1</th>        <th class=\"col_heading level0 col2\" >All</th>    </tr>    <tr>        <th class=\"index_name level0\" >entity</th>        <th class=\"blank\" ></th>        <th class=\"blank\" ></th>        <th class=\"blank\" ></th>    </tr></thead><tbody>\n",
       "                <tr>\n",
       "                        <th id=\"T_7f17ea64_ef97_11ea_b10d_185680a52566level0_row0\" class=\"row_heading level0 row0\" >no_entity</th>\n",
       "                        <td id=\"T_7f17ea64_ef97_11ea_b10d_185680a52566row0_col0\" class=\"data row0 col0\" >15164</td>\n",
       "                        <td id=\"T_7f17ea64_ef97_11ea_b10d_185680a52566row0_col1\" class=\"data row0 col1\" >1350</td>\n",
       "                        <td id=\"T_7f17ea64_ef97_11ea_b10d_185680a52566row0_col2\" class=\"data row0 col2\" >16514</td>\n",
       "            </tr>\n",
       "            <tr>\n",
       "                        <th id=\"T_7f17ea64_ef97_11ea_b10d_185680a52566level0_row1\" class=\"row_heading level0 row1\" >signature</th>\n",
       "                        <td id=\"T_7f17ea64_ef97_11ea_b10d_185680a52566row1_col0\" class=\"data row1 col0\" >1384</td>\n",
       "                        <td id=\"T_7f17ea64_ef97_11ea_b10d_185680a52566row1_col1\" class=\"data row1 col1\" >130</td>\n",
       "                        <td id=\"T_7f17ea64_ef97_11ea_b10d_185680a52566row1_col2\" class=\"data row1 col2\" >1514</td>\n",
       "            </tr>\n",
       "            <tr>\n",
       "                        <th id=\"T_7f17ea64_ef97_11ea_b10d_185680a52566level0_row2\" class=\"row_heading level0 row2\" >All</th>\n",
       "                        <td id=\"T_7f17ea64_ef97_11ea_b10d_185680a52566row2_col0\" class=\"data row2 col0\" >16548</td>\n",
       "                        <td id=\"T_7f17ea64_ef97_11ea_b10d_185680a52566row2_col1\" class=\"data row2 col1\" >1480</td>\n",
       "                        <td id=\"T_7f17ea64_ef97_11ea_b10d_185680a52566row2_col2\" class=\"data row2 col2\" >18028</td>\n",
       "            </tr>\n",
       "    </tbody></table>   <style  type=\"text/css\" >\n",
       "</style><table id=\"T_7f17ea65_ef97_11ea_8a88_185680a52566\" style='display:inline'><caption>punct50</caption><thead>    <tr>        <th class=\"index_name level0\" >punct50</th>        <th class=\"col_heading level0 col0\" >0</th>        <th class=\"col_heading level0 col1\" >1</th>        <th class=\"col_heading level0 col2\" >All</th>    </tr>    <tr>        <th class=\"index_name level0\" >entity</th>        <th class=\"blank\" ></th>        <th class=\"blank\" ></th>        <th class=\"blank\" ></th>    </tr></thead><tbody>\n",
       "                <tr>\n",
       "                        <th id=\"T_7f17ea65_ef97_11ea_8a88_185680a52566level0_row0\" class=\"row_heading level0 row0\" >no_entity</th>\n",
       "                        <td id=\"T_7f17ea65_ef97_11ea_8a88_185680a52566row0_col0\" class=\"data row0 col0\" >15993</td>\n",
       "                        <td id=\"T_7f17ea65_ef97_11ea_8a88_185680a52566row0_col1\" class=\"data row0 col1\" >521</td>\n",
       "                        <td id=\"T_7f17ea65_ef97_11ea_8a88_185680a52566row0_col2\" class=\"data row0 col2\" >16514</td>\n",
       "            </tr>\n",
       "            <tr>\n",
       "                        <th id=\"T_7f17ea65_ef97_11ea_8a88_185680a52566level0_row1\" class=\"row_heading level0 row1\" >signature</th>\n",
       "                        <td id=\"T_7f17ea65_ef97_11ea_8a88_185680a52566row1_col0\" class=\"data row1 col0\" >1446</td>\n",
       "                        <td id=\"T_7f17ea65_ef97_11ea_8a88_185680a52566row1_col1\" class=\"data row1 col1\" >68</td>\n",
       "                        <td id=\"T_7f17ea65_ef97_11ea_8a88_185680a52566row1_col2\" class=\"data row1 col2\" >1514</td>\n",
       "            </tr>\n",
       "            <tr>\n",
       "                        <th id=\"T_7f17ea65_ef97_11ea_8a88_185680a52566level0_row2\" class=\"row_heading level0 row2\" >All</th>\n",
       "                        <td id=\"T_7f17ea65_ef97_11ea_8a88_185680a52566row2_col0\" class=\"data row2 col0\" >17439</td>\n",
       "                        <td id=\"T_7f17ea65_ef97_11ea_8a88_185680a52566row2_col1\" class=\"data row2 col1\" >589</td>\n",
       "                        <td id=\"T_7f17ea65_ef97_11ea_8a88_185680a52566row2_col2\" class=\"data row2 col2\" >18028</td>\n",
       "            </tr>\n",
       "    </tbody></table>   <style  type=\"text/css\" >\n",
       "</style><table id=\"T_7f181158_ef97_11ea_b271_185680a52566\" style='display:inline'><caption>punct90</caption><thead>    <tr>        <th class=\"index_name level0\" >punct90</th>        <th class=\"col_heading level0 col0\" >0</th>        <th class=\"col_heading level0 col1\" >1</th>        <th class=\"col_heading level0 col2\" >All</th>    </tr>    <tr>        <th class=\"index_name level0\" >entity</th>        <th class=\"blank\" ></th>        <th class=\"blank\" ></th>        <th class=\"blank\" ></th>    </tr></thead><tbody>\n",
       "                <tr>\n",
       "                        <th id=\"T_7f181158_ef97_11ea_b271_185680a52566level0_row0\" class=\"row_heading level0 row0\" >no_entity</th>\n",
       "                        <td id=\"T_7f181158_ef97_11ea_b271_185680a52566row0_col0\" class=\"data row0 col0\" >16183</td>\n",
       "                        <td id=\"T_7f181158_ef97_11ea_b271_185680a52566row0_col1\" class=\"data row0 col1\" >331</td>\n",
       "                        <td id=\"T_7f181158_ef97_11ea_b271_185680a52566row0_col2\" class=\"data row0 col2\" >16514</td>\n",
       "            </tr>\n",
       "            <tr>\n",
       "                        <th id=\"T_7f181158_ef97_11ea_b271_185680a52566level0_row1\" class=\"row_heading level0 row1\" >signature</th>\n",
       "                        <td id=\"T_7f181158_ef97_11ea_b271_185680a52566row1_col0\" class=\"data row1 col0\" >1457</td>\n",
       "                        <td id=\"T_7f181158_ef97_11ea_b271_185680a52566row1_col1\" class=\"data row1 col1\" >57</td>\n",
       "                        <td id=\"T_7f181158_ef97_11ea_b271_185680a52566row1_col2\" class=\"data row1 col2\" >1514</td>\n",
       "            </tr>\n",
       "            <tr>\n",
       "                        <th id=\"T_7f181158_ef97_11ea_b271_185680a52566level0_row2\" class=\"row_heading level0 row2\" >All</th>\n",
       "                        <td id=\"T_7f181158_ef97_11ea_b271_185680a52566row2_col0\" class=\"data row2 col0\" >17640</td>\n",
       "                        <td id=\"T_7f181158_ef97_11ea_b271_185680a52566row2_col1\" class=\"data row2 col1\" >388</td>\n",
       "                        <td id=\"T_7f181158_ef97_11ea_b271_185680a52566row2_col2\" class=\"data row2 col2\" >18028</td>\n",
       "            </tr>\n",
       "    </tbody></table>   <style  type=\"text/css\" >\n",
       "</style><table id=\"T_7f183852_ef97_11ea_a4e5_185680a52566\" style='display:inline'><caption>reply</caption><thead>    <tr>        <th class=\"index_name level0\" >reply</th>        <th class=\"col_heading level0 col0\" >0</th>        <th class=\"col_heading level0 col1\" >1</th>        <th class=\"col_heading level0 col2\" >All</th>    </tr>    <tr>        <th class=\"index_name level0\" >entity</th>        <th class=\"blank\" ></th>        <th class=\"blank\" ></th>        <th class=\"blank\" ></th>    </tr></thead><tbody>\n",
       "                <tr>\n",
       "                        <th id=\"T_7f183852_ef97_11ea_a4e5_185680a52566level0_row0\" class=\"row_heading level0 row0\" >no_entity</th>\n",
       "                        <td id=\"T_7f183852_ef97_11ea_a4e5_185680a52566row0_col0\" class=\"data row0 col0\" >15769</td>\n",
       "                        <td id=\"T_7f183852_ef97_11ea_a4e5_185680a52566row0_col1\" class=\"data row0 col1\" >745</td>\n",
       "                        <td id=\"T_7f183852_ef97_11ea_a4e5_185680a52566row0_col2\" class=\"data row0 col2\" >16514</td>\n",
       "            </tr>\n",
       "            <tr>\n",
       "                        <th id=\"T_7f183852_ef97_11ea_a4e5_185680a52566level0_row1\" class=\"row_heading level0 row1\" >signature</th>\n",
       "                        <td id=\"T_7f183852_ef97_11ea_a4e5_185680a52566row1_col0\" class=\"data row1 col0\" >1469</td>\n",
       "                        <td id=\"T_7f183852_ef97_11ea_a4e5_185680a52566row1_col1\" class=\"data row1 col1\" >45</td>\n",
       "                        <td id=\"T_7f183852_ef97_11ea_a4e5_185680a52566row1_col2\" class=\"data row1 col2\" >1514</td>\n",
       "            </tr>\n",
       "            <tr>\n",
       "                        <th id=\"T_7f183852_ef97_11ea_a4e5_185680a52566level0_row2\" class=\"row_heading level0 row2\" >All</th>\n",
       "                        <td id=\"T_7f183852_ef97_11ea_a4e5_185680a52566row2_col0\" class=\"data row2 col0\" >17238</td>\n",
       "                        <td id=\"T_7f183852_ef97_11ea_a4e5_185680a52566row2_col1\" class=\"data row2 col1\" >790</td>\n",
       "                        <td id=\"T_7f183852_ef97_11ea_a4e5_185680a52566row2_col2\" class=\"data row2 col2\" >18028</td>\n",
       "            </tr>\n",
       "    </tbody></table>   <style  type=\"text/css\" >\n",
       "</style><table id=\"T_7f185f62_ef97_11ea_9bfe_185680a52566\" style='display:inline'><caption>startpunct</caption><thead>    <tr>        <th class=\"index_name level0\" >startpunct</th>        <th class=\"col_heading level0 col0\" >0</th>        <th class=\"col_heading level0 col1\" >1</th>        <th class=\"col_heading level0 col2\" >All</th>    </tr>    <tr>        <th class=\"index_name level0\" >entity</th>        <th class=\"blank\" ></th>        <th class=\"blank\" ></th>        <th class=\"blank\" ></th>    </tr></thead><tbody>\n",
       "                <tr>\n",
       "                        <th id=\"T_7f185f62_ef97_11ea_9bfe_185680a52566level0_row0\" class=\"row_heading level0 row0\" >no_entity</th>\n",
       "                        <td id=\"T_7f185f62_ef97_11ea_9bfe_185680a52566row0_col0\" class=\"data row0 col0\" >14940</td>\n",
       "                        <td id=\"T_7f185f62_ef97_11ea_9bfe_185680a52566row0_col1\" class=\"data row0 col1\" >1574</td>\n",
       "                        <td id=\"T_7f185f62_ef97_11ea_9bfe_185680a52566row0_col2\" class=\"data row0 col2\" >16514</td>\n",
       "            </tr>\n",
       "            <tr>\n",
       "                        <th id=\"T_7f185f62_ef97_11ea_9bfe_185680a52566level0_row1\" class=\"row_heading level0 row1\" >signature</th>\n",
       "                        <td id=\"T_7f185f62_ef97_11ea_9bfe_185680a52566row1_col0\" class=\"data row1 col0\" >1395</td>\n",
       "                        <td id=\"T_7f185f62_ef97_11ea_9bfe_185680a52566row1_col1\" class=\"data row1 col1\" >119</td>\n",
       "                        <td id=\"T_7f185f62_ef97_11ea_9bfe_185680a52566row1_col2\" class=\"data row1 col2\" >1514</td>\n",
       "            </tr>\n",
       "            <tr>\n",
       "                        <th id=\"T_7f185f62_ef97_11ea_9bfe_185680a52566level0_row2\" class=\"row_heading level0 row2\" >All</th>\n",
       "                        <td id=\"T_7f185f62_ef97_11ea_9bfe_185680a52566row2_col0\" class=\"data row2 col0\" >16335</td>\n",
       "                        <td id=\"T_7f185f62_ef97_11ea_9bfe_185680a52566row2_col1\" class=\"data row2 col1\" >1693</td>\n",
       "                        <td id=\"T_7f185f62_ef97_11ea_9bfe_185680a52566row2_col2\" class=\"data row2 col2\" >18028</td>\n",
       "            </tr>\n",
       "    </tbody></table>   <style  type=\"text/css\" >\n",
       "</style><table id=\"T_7f18852c_ef97_11ea_b0f0_185680a52566\" style='display:inline'><caption>replypunct</caption><thead>    <tr>        <th class=\"index_name level0\" >replypunct</th>        <th class=\"col_heading level0 col0\" >0</th>        <th class=\"col_heading level0 col1\" >1</th>        <th class=\"col_heading level0 col2\" >All</th>    </tr>    <tr>        <th class=\"index_name level0\" >entity</th>        <th class=\"blank\" ></th>        <th class=\"blank\" ></th>        <th class=\"blank\" ></th>    </tr></thead><tbody>\n",
       "                <tr>\n",
       "                        <th id=\"T_7f18852c_ef97_11ea_b0f0_185680a52566level0_row0\" class=\"row_heading level0 row0\" >no_entity</th>\n",
       "                        <td id=\"T_7f18852c_ef97_11ea_b0f0_185680a52566row0_col0\" class=\"data row0 col0\" >16232</td>\n",
       "                        <td id=\"T_7f18852c_ef97_11ea_b0f0_185680a52566row0_col1\" class=\"data row0 col1\" >282</td>\n",
       "                        <td id=\"T_7f18852c_ef97_11ea_b0f0_185680a52566row0_col2\" class=\"data row0 col2\" >16514</td>\n",
       "            </tr>\n",
       "            <tr>\n",
       "                        <th id=\"T_7f18852c_ef97_11ea_b0f0_185680a52566level0_row1\" class=\"row_heading level0 row1\" >signature</th>\n",
       "                        <td id=\"T_7f18852c_ef97_11ea_b0f0_185680a52566row1_col0\" class=\"data row1 col0\" >1514</td>\n",
       "                        <td id=\"T_7f18852c_ef97_11ea_b0f0_185680a52566row1_col1\" class=\"data row1 col1\" >0</td>\n",
       "                        <td id=\"T_7f18852c_ef97_11ea_b0f0_185680a52566row1_col2\" class=\"data row1 col2\" >1514</td>\n",
       "            </tr>\n",
       "            <tr>\n",
       "                        <th id=\"T_7f18852c_ef97_11ea_b0f0_185680a52566level0_row2\" class=\"row_heading level0 row2\" >All</th>\n",
       "                        <td id=\"T_7f18852c_ef97_11ea_b0f0_185680a52566row2_col0\" class=\"data row2 col0\" >17746</td>\n",
       "                        <td id=\"T_7f18852c_ef97_11ea_b0f0_185680a52566row2_col1\" class=\"data row2 col1\" >282</td>\n",
       "                        <td id=\"T_7f18852c_ef97_11ea_b0f0_185680a52566row2_col2\" class=\"data row2 col2\" >18028</td>\n",
       "            </tr>\n",
       "    </tbody></table>   <style  type=\"text/css\" >\n",
       "</style><table id=\"T_7f18852d_ef97_11ea_b445_185680a52566\" style='display:inline'><caption>wrote</caption><thead>    <tr>        <th class=\"index_name level0\" >wrote</th>        <th class=\"col_heading level0 col0\" >0</th>        <th class=\"col_heading level0 col1\" >1</th>        <th class=\"col_heading level0 col2\" >All</th>    </tr>    <tr>        <th class=\"index_name level0\" >entity</th>        <th class=\"blank\" ></th>        <th class=\"blank\" ></th>        <th class=\"blank\" ></th>    </tr></thead><tbody>\n",
       "                <tr>\n",
       "                        <th id=\"T_7f18852d_ef97_11ea_b445_185680a52566level0_row0\" class=\"row_heading level0 row0\" >no_entity</th>\n",
       "                        <td id=\"T_7f18852d_ef97_11ea_b445_185680a52566row0_col0\" class=\"data row0 col0\" >16513</td>\n",
       "                        <td id=\"T_7f18852d_ef97_11ea_b445_185680a52566row0_col1\" class=\"data row0 col1\" >1</td>\n",
       "                        <td id=\"T_7f18852d_ef97_11ea_b445_185680a52566row0_col2\" class=\"data row0 col2\" >16514</td>\n",
       "            </tr>\n",
       "            <tr>\n",
       "                        <th id=\"T_7f18852d_ef97_11ea_b445_185680a52566level0_row1\" class=\"row_heading level0 row1\" >signature</th>\n",
       "                        <td id=\"T_7f18852d_ef97_11ea_b445_185680a52566row1_col0\" class=\"data row1 col0\" >1514</td>\n",
       "                        <td id=\"T_7f18852d_ef97_11ea_b445_185680a52566row1_col1\" class=\"data row1 col1\" >0</td>\n",
       "                        <td id=\"T_7f18852d_ef97_11ea_b445_185680a52566row1_col2\" class=\"data row1 col2\" >1514</td>\n",
       "            </tr>\n",
       "            <tr>\n",
       "                        <th id=\"T_7f18852d_ef97_11ea_b445_185680a52566level0_row2\" class=\"row_heading level0 row2\" >All</th>\n",
       "                        <td id=\"T_7f18852d_ef97_11ea_b445_185680a52566row2_col0\" class=\"data row2 col0\" >18027</td>\n",
       "                        <td id=\"T_7f18852d_ef97_11ea_b445_185680a52566row2_col1\" class=\"data row2 col1\" >1</td>\n",
       "                        <td id=\"T_7f18852d_ef97_11ea_b445_185680a52566row2_col2\" class=\"data row2 col2\" >18028</td>\n",
       "            </tr>\n",
       "    </tbody></table>   <style  type=\"text/css\" >\n",
       "</style><table id=\"T_7f18ac40_ef97_11ea_8a23_185680a52566\" style='display:inline'><caption>alphanum90</caption><thead>    <tr>        <th class=\"index_name level0\" >alphanum90</th>        <th class=\"col_heading level0 col0\" >0</th>        <th class=\"col_heading level0 col1\" >1</th>        <th class=\"col_heading level0 col2\" >All</th>    </tr>    <tr>        <th class=\"index_name level0\" >entity</th>        <th class=\"blank\" ></th>        <th class=\"blank\" ></th>        <th class=\"blank\" ></th>    </tr></thead><tbody>\n",
       "                <tr>\n",
       "                        <th id=\"T_7f18ac40_ef97_11ea_8a23_185680a52566level0_row0\" class=\"row_heading level0 row0\" >no_entity</th>\n",
       "                        <td id=\"T_7f18ac40_ef97_11ea_8a23_185680a52566row0_col0\" class=\"data row0 col0\" >432</td>\n",
       "                        <td id=\"T_7f18ac40_ef97_11ea_8a23_185680a52566row0_col1\" class=\"data row0 col1\" >16082</td>\n",
       "                        <td id=\"T_7f18ac40_ef97_11ea_8a23_185680a52566row0_col2\" class=\"data row0 col2\" >16514</td>\n",
       "            </tr>\n",
       "            <tr>\n",
       "                        <th id=\"T_7f18ac40_ef97_11ea_8a23_185680a52566level0_row1\" class=\"row_heading level0 row1\" >signature</th>\n",
       "                        <td id=\"T_7f18ac40_ef97_11ea_8a23_185680a52566row1_col0\" class=\"data row1 col0\" >413</td>\n",
       "                        <td id=\"T_7f18ac40_ef97_11ea_8a23_185680a52566row1_col1\" class=\"data row1 col1\" >1101</td>\n",
       "                        <td id=\"T_7f18ac40_ef97_11ea_8a23_185680a52566row1_col2\" class=\"data row1 col2\" >1514</td>\n",
       "            </tr>\n",
       "            <tr>\n",
       "                        <th id=\"T_7f18ac40_ef97_11ea_8a23_185680a52566level0_row2\" class=\"row_heading level0 row2\" >All</th>\n",
       "                        <td id=\"T_7f18ac40_ef97_11ea_8a23_185680a52566row2_col0\" class=\"data row2 col0\" >845</td>\n",
       "                        <td id=\"T_7f18ac40_ef97_11ea_8a23_185680a52566row2_col1\" class=\"data row2 col1\" >17183</td>\n",
       "                        <td id=\"T_7f18ac40_ef97_11ea_8a23_185680a52566row2_col2\" class=\"data row2 col2\" >18028</td>\n",
       "            </tr>\n",
       "    </tbody></table>   <style  type=\"text/css\" >\n",
       "</style><table id=\"T_7f18d4c6_ef97_11ea_af23_185680a52566\" style='display:inline'><caption>alphanum50</caption><thead>    <tr>        <th class=\"index_name level0\" >alphanum50</th>        <th class=\"col_heading level0 col0\" >0</th>        <th class=\"col_heading level0 col1\" >1</th>        <th class=\"col_heading level0 col2\" >All</th>    </tr>    <tr>        <th class=\"index_name level0\" >entity</th>        <th class=\"blank\" ></th>        <th class=\"blank\" ></th>        <th class=\"blank\" ></th>    </tr></thead><tbody>\n",
       "                <tr>\n",
       "                        <th id=\"T_7f18d4c6_ef97_11ea_af23_185680a52566level0_row0\" class=\"row_heading level0 row0\" >no_entity</th>\n",
       "                        <td id=\"T_7f18d4c6_ef97_11ea_af23_185680a52566row0_col0\" class=\"data row0 col0\" >11361</td>\n",
       "                        <td id=\"T_7f18d4c6_ef97_11ea_af23_185680a52566row0_col1\" class=\"data row0 col1\" >5153</td>\n",
       "                        <td id=\"T_7f18d4c6_ef97_11ea_af23_185680a52566row0_col2\" class=\"data row0 col2\" >16514</td>\n",
       "            </tr>\n",
       "            <tr>\n",
       "                        <th id=\"T_7f18d4c6_ef97_11ea_af23_185680a52566level0_row1\" class=\"row_heading level0 row1\" >signature</th>\n",
       "                        <td id=\"T_7f18d4c6_ef97_11ea_af23_185680a52566row1_col0\" class=\"data row1 col0\" >1241</td>\n",
       "                        <td id=\"T_7f18d4c6_ef97_11ea_af23_185680a52566row1_col1\" class=\"data row1 col1\" >273</td>\n",
       "                        <td id=\"T_7f18d4c6_ef97_11ea_af23_185680a52566row1_col2\" class=\"data row1 col2\" >1514</td>\n",
       "            </tr>\n",
       "            <tr>\n",
       "                        <th id=\"T_7f18d4c6_ef97_11ea_af23_185680a52566level0_row2\" class=\"row_heading level0 row2\" >All</th>\n",
       "                        <td id=\"T_7f18d4c6_ef97_11ea_af23_185680a52566row2_col0\" class=\"data row2 col0\" >12602</td>\n",
       "                        <td id=\"T_7f18d4c6_ef97_11ea_af23_185680a52566row2_col1\" class=\"data row2 col1\" >5426</td>\n",
       "                        <td id=\"T_7f18d4c6_ef97_11ea_af23_185680a52566row2_col2\" class=\"data row2 col2\" >18028</td>\n",
       "            </tr>\n",
       "    </tbody></table>   <style  type=\"text/css\" >\n",
       "</style><table id=\"T_7f18fb9e_ef97_11ea_92e7_185680a52566\" style='display:inline'><caption>alphanum10</caption><thead>    <tr>        <th class=\"index_name level0\" >alphanum10</th>        <th class=\"col_heading level0 col0\" >0</th>        <th class=\"col_heading level0 col1\" >1</th>        <th class=\"col_heading level0 col2\" >All</th>    </tr>    <tr>        <th class=\"index_name level0\" >entity</th>        <th class=\"blank\" ></th>        <th class=\"blank\" ></th>        <th class=\"blank\" ></th>    </tr></thead><tbody>\n",
       "                <tr>\n",
       "                        <th id=\"T_7f18fb9e_ef97_11ea_92e7_185680a52566level0_row0\" class=\"row_heading level0 row0\" >no_entity</th>\n",
       "                        <td id=\"T_7f18fb9e_ef97_11ea_92e7_185680a52566row0_col0\" class=\"data row0 col0\" >11869</td>\n",
       "                        <td id=\"T_7f18fb9e_ef97_11ea_92e7_185680a52566row0_col1\" class=\"data row0 col1\" >4645</td>\n",
       "                        <td id=\"T_7f18fb9e_ef97_11ea_92e7_185680a52566row0_col2\" class=\"data row0 col2\" >16514</td>\n",
       "            </tr>\n",
       "            <tr>\n",
       "                        <th id=\"T_7f18fb9e_ef97_11ea_92e7_185680a52566level0_row1\" class=\"row_heading level0 row1\" >signature</th>\n",
       "                        <td id=\"T_7f18fb9e_ef97_11ea_92e7_185680a52566row1_col0\" class=\"data row1 col0\" >1249</td>\n",
       "                        <td id=\"T_7f18fb9e_ef97_11ea_92e7_185680a52566row1_col1\" class=\"data row1 col1\" >265</td>\n",
       "                        <td id=\"T_7f18fb9e_ef97_11ea_92e7_185680a52566row1_col2\" class=\"data row1 col2\" >1514</td>\n",
       "            </tr>\n",
       "            <tr>\n",
       "                        <th id=\"T_7f18fb9e_ef97_11ea_92e7_185680a52566level0_row2\" class=\"row_heading level0 row2\" >All</th>\n",
       "                        <td id=\"T_7f18fb9e_ef97_11ea_92e7_185680a52566row2_col0\" class=\"data row2 col0\" >13118</td>\n",
       "                        <td id=\"T_7f18fb9e_ef97_11ea_92e7_185680a52566row2_col1\" class=\"data row2 col1\" >4910</td>\n",
       "                        <td id=\"T_7f18fb9e_ef97_11ea_92e7_185680a52566row2_col2\" class=\"data row2 col2\" >18028</td>\n",
       "            </tr>\n",
       "    </tbody></table>   <style  type=\"text/css\" >\n",
       "</style><table id=\"T_7f18fb9f_ef97_11ea_a9f7_185680a52566\" style='display:inline'><caption>num90</caption><thead>    <tr>        <th class=\"index_name level0\" >num90</th>        <th class=\"col_heading level0 col0\" >0</th>        <th class=\"col_heading level0 col1\" >1</th>        <th class=\"col_heading level0 col2\" >All</th>    </tr>    <tr>        <th class=\"index_name level0\" >entity</th>        <th class=\"blank\" ></th>        <th class=\"blank\" ></th>        <th class=\"blank\" ></th>    </tr></thead><tbody>\n",
       "                <tr>\n",
       "                        <th id=\"T_7f18fb9f_ef97_11ea_a9f7_185680a52566level0_row0\" class=\"row_heading level0 row0\" >no_entity</th>\n",
       "                        <td id=\"T_7f18fb9f_ef97_11ea_a9f7_185680a52566row0_col0\" class=\"data row0 col0\" >16508</td>\n",
       "                        <td id=\"T_7f18fb9f_ef97_11ea_a9f7_185680a52566row0_col1\" class=\"data row0 col1\" >6</td>\n",
       "                        <td id=\"T_7f18fb9f_ef97_11ea_a9f7_185680a52566row0_col2\" class=\"data row0 col2\" >16514</td>\n",
       "            </tr>\n",
       "            <tr>\n",
       "                        <th id=\"T_7f18fb9f_ef97_11ea_a9f7_185680a52566level0_row1\" class=\"row_heading level0 row1\" >signature</th>\n",
       "                        <td id=\"T_7f18fb9f_ef97_11ea_a9f7_185680a52566row1_col0\" class=\"data row1 col0\" >1514</td>\n",
       "                        <td id=\"T_7f18fb9f_ef97_11ea_a9f7_185680a52566row1_col1\" class=\"data row1 col1\" >0</td>\n",
       "                        <td id=\"T_7f18fb9f_ef97_11ea_a9f7_185680a52566row1_col2\" class=\"data row1 col2\" >1514</td>\n",
       "            </tr>\n",
       "            <tr>\n",
       "                        <th id=\"T_7f18fb9f_ef97_11ea_a9f7_185680a52566level0_row2\" class=\"row_heading level0 row2\" >All</th>\n",
       "                        <td id=\"T_7f18fb9f_ef97_11ea_a9f7_185680a52566row2_col0\" class=\"data row2 col0\" >18022</td>\n",
       "                        <td id=\"T_7f18fb9f_ef97_11ea_a9f7_185680a52566row2_col1\" class=\"data row2 col1\" >6</td>\n",
       "                        <td id=\"T_7f18fb9f_ef97_11ea_a9f7_185680a52566row2_col2\" class=\"data row2 col2\" >18028</td>\n",
       "            </tr>\n",
       "    </tbody></table>   <style  type=\"text/css\" >\n",
       "</style><table id=\"T_7f1922c0_ef97_11ea_9ab0_185680a52566\" style='display:inline'><caption>num50</caption><thead>    <tr>        <th class=\"index_name level0\" >num50</th>        <th class=\"col_heading level0 col0\" >0</th>        <th class=\"col_heading level0 col1\" >1</th>        <th class=\"col_heading level0 col2\" >All</th>    </tr>    <tr>        <th class=\"index_name level0\" >entity</th>        <th class=\"blank\" ></th>        <th class=\"blank\" ></th>        <th class=\"blank\" ></th>    </tr></thead><tbody>\n",
       "                <tr>\n",
       "                        <th id=\"T_7f1922c0_ef97_11ea_9ab0_185680a52566level0_row0\" class=\"row_heading level0 row0\" >no_entity</th>\n",
       "                        <td id=\"T_7f1922c0_ef97_11ea_9ab0_185680a52566row0_col0\" class=\"data row0 col0\" >16293</td>\n",
       "                        <td id=\"T_7f1922c0_ef97_11ea_9ab0_185680a52566row0_col1\" class=\"data row0 col1\" >221</td>\n",
       "                        <td id=\"T_7f1922c0_ef97_11ea_9ab0_185680a52566row0_col2\" class=\"data row0 col2\" >16514</td>\n",
       "            </tr>\n",
       "            <tr>\n",
       "                        <th id=\"T_7f1922c0_ef97_11ea_9ab0_185680a52566level0_row1\" class=\"row_heading level0 row1\" >signature</th>\n",
       "                        <td id=\"T_7f1922c0_ef97_11ea_9ab0_185680a52566row1_col0\" class=\"data row1 col0\" >1380</td>\n",
       "                        <td id=\"T_7f1922c0_ef97_11ea_9ab0_185680a52566row1_col1\" class=\"data row1 col1\" >134</td>\n",
       "                        <td id=\"T_7f1922c0_ef97_11ea_9ab0_185680a52566row1_col2\" class=\"data row1 col2\" >1514</td>\n",
       "            </tr>\n",
       "            <tr>\n",
       "                        <th id=\"T_7f1922c0_ef97_11ea_9ab0_185680a52566level0_row2\" class=\"row_heading level0 row2\" >All</th>\n",
       "                        <td id=\"T_7f1922c0_ef97_11ea_9ab0_185680a52566row2_col0\" class=\"data row2 col0\" >17673</td>\n",
       "                        <td id=\"T_7f1922c0_ef97_11ea_9ab0_185680a52566row2_col1\" class=\"data row2 col1\" >355</td>\n",
       "                        <td id=\"T_7f1922c0_ef97_11ea_9ab0_185680a52566row2_col2\" class=\"data row2 col2\" >18028</td>\n",
       "            </tr>\n",
       "    </tbody></table>   <style  type=\"text/css\" >\n",
       "</style><table id=\"T_7f1949be_ef97_11ea_8afa_185680a52566\" style='display:inline'><caption>num10</caption><thead>    <tr>        <th class=\"index_name level0\" >num10</th>        <th class=\"col_heading level0 col0\" >0</th>        <th class=\"col_heading level0 col1\" >1</th>        <th class=\"col_heading level0 col2\" >All</th>    </tr>    <tr>        <th class=\"index_name level0\" >entity</th>        <th class=\"blank\" ></th>        <th class=\"blank\" ></th>        <th class=\"blank\" ></th>    </tr></thead><tbody>\n",
       "                <tr>\n",
       "                        <th id=\"T_7f1949be_ef97_11ea_8afa_185680a52566level0_row0\" class=\"row_heading level0 row0\" >no_entity</th>\n",
       "                        <td id=\"T_7f1949be_ef97_11ea_8afa_185680a52566row0_col0\" class=\"data row0 col0\" >15051</td>\n",
       "                        <td id=\"T_7f1949be_ef97_11ea_8afa_185680a52566row0_col1\" class=\"data row0 col1\" >1463</td>\n",
       "                        <td id=\"T_7f1949be_ef97_11ea_8afa_185680a52566row0_col2\" class=\"data row0 col2\" >16514</td>\n",
       "            </tr>\n",
       "            <tr>\n",
       "                        <th id=\"T_7f1949be_ef97_11ea_8afa_185680a52566level0_row1\" class=\"row_heading level0 row1\" >signature</th>\n",
       "                        <td id=\"T_7f1949be_ef97_11ea_8afa_185680a52566row1_col0\" class=\"data row1 col0\" >1233</td>\n",
       "                        <td id=\"T_7f1949be_ef97_11ea_8afa_185680a52566row1_col1\" class=\"data row1 col1\" >281</td>\n",
       "                        <td id=\"T_7f1949be_ef97_11ea_8afa_185680a52566row1_col2\" class=\"data row1 col2\" >1514</td>\n",
       "            </tr>\n",
       "            <tr>\n",
       "                        <th id=\"T_7f1949be_ef97_11ea_8afa_185680a52566level0_row2\" class=\"row_heading level0 row2\" >All</th>\n",
       "                        <td id=\"T_7f1949be_ef97_11ea_8afa_185680a52566row2_col0\" class=\"data row2 col0\" >16284</td>\n",
       "                        <td id=\"T_7f1949be_ef97_11ea_8afa_185680a52566row2_col1\" class=\"data row2 col1\" >1744</td>\n",
       "                        <td id=\"T_7f1949be_ef97_11ea_8afa_185680a52566row2_col2\" class=\"data row2 col2\" >18028</td>\n",
       "            </tr>\n",
       "    </tbody></table>   <style  type=\"text/css\" >\n",
       "</style><table id=\"T_7f1970d0_ef97_11ea_b864_185680a52566\" style='display:inline'><caption>title</caption><thead>    <tr>        <th class=\"index_name level0\" >title</th>        <th class=\"col_heading level0 col0\" >0</th>        <th class=\"col_heading level0 col1\" >1</th>        <th class=\"col_heading level0 col2\" >All</th>    </tr>    <tr>        <th class=\"index_name level0\" >entity</th>        <th class=\"blank\" ></th>        <th class=\"blank\" ></th>        <th class=\"blank\" ></th>    </tr></thead><tbody>\n",
       "                <tr>\n",
       "                        <th id=\"T_7f1970d0_ef97_11ea_b864_185680a52566level0_row0\" class=\"row_heading level0 row0\" >no_entity</th>\n",
       "                        <td id=\"T_7f1970d0_ef97_11ea_b864_185680a52566row0_col0\" class=\"data row0 col0\" >15288</td>\n",
       "                        <td id=\"T_7f1970d0_ef97_11ea_b864_185680a52566row0_col1\" class=\"data row0 col1\" >1226</td>\n",
       "                        <td id=\"T_7f1970d0_ef97_11ea_b864_185680a52566row0_col2\" class=\"data row0 col2\" >16514</td>\n",
       "            </tr>\n",
       "            <tr>\n",
       "                        <th id=\"T_7f1970d0_ef97_11ea_b864_185680a52566level0_row1\" class=\"row_heading level0 row1\" >signature</th>\n",
       "                        <td id=\"T_7f1970d0_ef97_11ea_b864_185680a52566row1_col0\" class=\"data row1 col0\" >796</td>\n",
       "                        <td id=\"T_7f1970d0_ef97_11ea_b864_185680a52566row1_col1\" class=\"data row1 col1\" >718</td>\n",
       "                        <td id=\"T_7f1970d0_ef97_11ea_b864_185680a52566row1_col2\" class=\"data row1 col2\" >1514</td>\n",
       "            </tr>\n",
       "            <tr>\n",
       "                        <th id=\"T_7f1970d0_ef97_11ea_b864_185680a52566level0_row2\" class=\"row_heading level0 row2\" >All</th>\n",
       "                        <td id=\"T_7f1970d0_ef97_11ea_b864_185680a52566row2_col0\" class=\"data row2 col0\" >16084</td>\n",
       "                        <td id=\"T_7f1970d0_ef97_11ea_b864_185680a52566row2_col1\" class=\"data row2 col1\" >1944</td>\n",
       "                        <td id=\"T_7f1970d0_ef97_11ea_b864_185680a52566row2_col2\" class=\"data row2 col2\" >18028</td>\n",
       "            </tr>\n",
       "    </tbody></table>   <style  type=\"text/css\" >\n",
       "</style><table id=\"T_7f1996d4_ef97_11ea_993c_185680a52566\" style='display:inline'><caption>last</caption><thead>    <tr>        <th class=\"index_name level0\" >last</th>        <th class=\"col_heading level0 col0\" >0</th>        <th class=\"col_heading level0 col1\" >1</th>        <th class=\"col_heading level0 col2\" >All</th>    </tr>    <tr>        <th class=\"index_name level0\" >entity</th>        <th class=\"blank\" ></th>        <th class=\"blank\" ></th>        <th class=\"blank\" ></th>    </tr></thead><tbody>\n",
       "                <tr>\n",
       "                        <th id=\"T_7f1996d4_ef97_11ea_993c_185680a52566level0_row0\" class=\"row_heading level0 row0\" >no_entity</th>\n",
       "                        <td id=\"T_7f1996d4_ef97_11ea_993c_185680a52566row0_col0\" class=\"data row0 col0\" >16284</td>\n",
       "                        <td id=\"T_7f1996d4_ef97_11ea_993c_185680a52566row0_col1\" class=\"data row0 col1\" >230</td>\n",
       "                        <td id=\"T_7f1996d4_ef97_11ea_993c_185680a52566row0_col2\" class=\"data row0 col2\" >16514</td>\n",
       "            </tr>\n",
       "            <tr>\n",
       "                        <th id=\"T_7f1996d4_ef97_11ea_993c_185680a52566level0_row1\" class=\"row_heading level0 row1\" >signature</th>\n",
       "                        <td id=\"T_7f1996d4_ef97_11ea_993c_185680a52566row1_col0\" class=\"data row1 col0\" >1228</td>\n",
       "                        <td id=\"T_7f1996d4_ef97_11ea_993c_185680a52566row1_col1\" class=\"data row1 col1\" >286</td>\n",
       "                        <td id=\"T_7f1996d4_ef97_11ea_993c_185680a52566row1_col2\" class=\"data row1 col2\" >1514</td>\n",
       "            </tr>\n",
       "            <tr>\n",
       "                        <th id=\"T_7f1996d4_ef97_11ea_993c_185680a52566level0_row2\" class=\"row_heading level0 row2\" >All</th>\n",
       "                        <td id=\"T_7f1996d4_ef97_11ea_993c_185680a52566row2_col0\" class=\"data row2 col0\" >17512</td>\n",
       "                        <td id=\"T_7f1996d4_ef97_11ea_993c_185680a52566row2_col1\" class=\"data row2 col1\" >516</td>\n",
       "                        <td id=\"T_7f1996d4_ef97_11ea_993c_185680a52566row2_col2\" class=\"data row2 col2\" >18028</td>\n",
       "            </tr>\n",
       "    </tbody></table>   <style  type=\"text/css\" >\n",
       "</style><table id=\"T_7f1996d5_ef97_11ea_96b0_185680a52566\" style='display:inline'><caption>prevlast</caption><thead>    <tr>        <th class=\"index_name level0\" >prevlast</th>        <th class=\"col_heading level0 col0\" >0</th>        <th class=\"col_heading level0 col1\" >1</th>        <th class=\"col_heading level0 col2\" >All</th>    </tr>    <tr>        <th class=\"index_name level0\" >entity</th>        <th class=\"blank\" ></th>        <th class=\"blank\" ></th>        <th class=\"blank\" ></th>    </tr></thead><tbody>\n",
       "                <tr>\n",
       "                        <th id=\"T_7f1996d5_ef97_11ea_96b0_185680a52566level0_row0\" class=\"row_heading level0 row0\" >no_entity</th>\n",
       "                        <td id=\"T_7f1996d5_ef97_11ea_96b0_185680a52566row0_col0\" class=\"data row0 col0\" >16214</td>\n",
       "                        <td id=\"T_7f1996d5_ef97_11ea_96b0_185680a52566row0_col1\" class=\"data row0 col1\" >300</td>\n",
       "                        <td id=\"T_7f1996d5_ef97_11ea_96b0_185680a52566row0_col2\" class=\"data row0 col2\" >16514</td>\n",
       "            </tr>\n",
       "            <tr>\n",
       "                        <th id=\"T_7f1996d5_ef97_11ea_96b0_185680a52566level0_row1\" class=\"row_heading level0 row1\" >signature</th>\n",
       "                        <td id=\"T_7f1996d5_ef97_11ea_96b0_185680a52566row1_col0\" class=\"data row1 col0\" >1320</td>\n",
       "                        <td id=\"T_7f1996d5_ef97_11ea_96b0_185680a52566row1_col1\" class=\"data row1 col1\" >194</td>\n",
       "                        <td id=\"T_7f1996d5_ef97_11ea_96b0_185680a52566row1_col2\" class=\"data row1 col2\" >1514</td>\n",
       "            </tr>\n",
       "            <tr>\n",
       "                        <th id=\"T_7f1996d5_ef97_11ea_96b0_185680a52566level0_row2\" class=\"row_heading level0 row2\" >All</th>\n",
       "                        <td id=\"T_7f1996d5_ef97_11ea_96b0_185680a52566row2_col0\" class=\"data row2 col0\" >17534</td>\n",
       "                        <td id=\"T_7f1996d5_ef97_11ea_96b0_185680a52566row2_col1\" class=\"data row2 col1\" >494</td>\n",
       "                        <td id=\"T_7f1996d5_ef97_11ea_96b0_185680a52566row2_col2\" class=\"data row2 col2\" >18028</td>\n",
       "            </tr>\n",
       "    </tbody></table>   <style  type=\"text/css\" >\n",
       "</style><table id=\"T_7f19befa_ef97_11ea_bd3a_185680a52566\" style='display:inline'><caption>last5</caption><thead>    <tr>        <th class=\"index_name level0\" >last5</th>        <th class=\"col_heading level0 col0\" >0</th>        <th class=\"col_heading level0 col1\" >1</th>        <th class=\"col_heading level0 col2\" >All</th>    </tr>    <tr>        <th class=\"index_name level0\" >entity</th>        <th class=\"blank\" ></th>        <th class=\"blank\" ></th>        <th class=\"blank\" ></th>    </tr></thead><tbody>\n",
       "                <tr>\n",
       "                        <th id=\"T_7f19befa_ef97_11ea_bd3a_185680a52566level0_row0\" class=\"row_heading level0 row0\" >no_entity</th>\n",
       "                        <td id=\"T_7f19befa_ef97_11ea_bd3a_185680a52566row0_col0\" class=\"data row0 col0\" >14928</td>\n",
       "                        <td id=\"T_7f19befa_ef97_11ea_bd3a_185680a52566row0_col1\" class=\"data row0 col1\" >1586</td>\n",
       "                        <td id=\"T_7f19befa_ef97_11ea_bd3a_185680a52566row0_col2\" class=\"data row0 col2\" >16514</td>\n",
       "            </tr>\n",
       "            <tr>\n",
       "                        <th id=\"T_7f19befa_ef97_11ea_bd3a_185680a52566level0_row1\" class=\"row_heading level0 row1\" >signature</th>\n",
       "                        <td id=\"T_7f19befa_ef97_11ea_bd3a_185680a52566row1_col0\" class=\"data row1 col0\" >699</td>\n",
       "                        <td id=\"T_7f19befa_ef97_11ea_bd3a_185680a52566row1_col1\" class=\"data row1 col1\" >815</td>\n",
       "                        <td id=\"T_7f19befa_ef97_11ea_bd3a_185680a52566row1_col2\" class=\"data row1 col2\" >1514</td>\n",
       "            </tr>\n",
       "            <tr>\n",
       "                        <th id=\"T_7f19befa_ef97_11ea_bd3a_185680a52566level0_row2\" class=\"row_heading level0 row2\" >All</th>\n",
       "                        <td id=\"T_7f19befa_ef97_11ea_bd3a_185680a52566row2_col0\" class=\"data row2 col0\" >15627</td>\n",
       "                        <td id=\"T_7f19befa_ef97_11ea_bd3a_185680a52566row2_col1\" class=\"data row2 col1\" >2401</td>\n",
       "                        <td id=\"T_7f19befa_ef97_11ea_bd3a_185680a52566row2_col2\" class=\"data row2 col2\" >18028</td>\n",
       "            </tr>\n",
       "    </tbody></table>   <style  type=\"text/css\" >\n",
       "</style><table id=\"T_7f19e61a_ef97_11ea_82e5_185680a52566\" style='display:inline'><caption>last11</caption><thead>    <tr>        <th class=\"index_name level0\" >last11</th>        <th class=\"col_heading level0 col0\" >0</th>        <th class=\"col_heading level0 col1\" >1</th>        <th class=\"col_heading level0 col2\" >All</th>    </tr>    <tr>        <th class=\"index_name level0\" >entity</th>        <th class=\"blank\" ></th>        <th class=\"blank\" ></th>        <th class=\"blank\" ></th>    </tr></thead><tbody>\n",
       "                <tr>\n",
       "                        <th id=\"T_7f19e61a_ef97_11ea_82e5_185680a52566level0_row0\" class=\"row_heading level0 row0\" >no_entity</th>\n",
       "                        <td id=\"T_7f19e61a_ef97_11ea_82e5_185680a52566row0_col0\" class=\"data row0 col0\" >12764</td>\n",
       "                        <td id=\"T_7f19e61a_ef97_11ea_82e5_185680a52566row0_col1\" class=\"data row0 col1\" >3750</td>\n",
       "                        <td id=\"T_7f19e61a_ef97_11ea_82e5_185680a52566row0_col2\" class=\"data row0 col2\" >16514</td>\n",
       "            </tr>\n",
       "            <tr>\n",
       "                        <th id=\"T_7f19e61a_ef97_11ea_82e5_185680a52566level0_row1\" class=\"row_heading level0 row1\" >signature</th>\n",
       "                        <td id=\"T_7f19e61a_ef97_11ea_82e5_185680a52566row1_col0\" class=\"data row1 col0\" >457</td>\n",
       "                        <td id=\"T_7f19e61a_ef97_11ea_82e5_185680a52566row1_col1\" class=\"data row1 col1\" >1057</td>\n",
       "                        <td id=\"T_7f19e61a_ef97_11ea_82e5_185680a52566row1_col2\" class=\"data row1 col2\" >1514</td>\n",
       "            </tr>\n",
       "            <tr>\n",
       "                        <th id=\"T_7f19e61a_ef97_11ea_82e5_185680a52566level0_row2\" class=\"row_heading level0 row2\" >All</th>\n",
       "                        <td id=\"T_7f19e61a_ef97_11ea_82e5_185680a52566row2_col0\" class=\"data row2 col0\" >13221</td>\n",
       "                        <td id=\"T_7f19e61a_ef97_11ea_82e5_185680a52566row2_col1\" class=\"data row2 col1\" >4807</td>\n",
       "                        <td id=\"T_7f19e61a_ef97_11ea_82e5_185680a52566row2_col2\" class=\"data row2 col2\" >18028</td>\n",
       "            </tr>\n",
       "    </tbody></table>   <style  type=\"text/css\" >\n",
       "</style><table id=\"T_7f1a0d10_ef97_11ea_aecd_185680a52566\" style='display:inline'><caption>less_avg_len</caption><thead>    <tr>        <th class=\"index_name level0\" >less_avg_len</th>        <th class=\"col_heading level0 col0\" >0</th>        <th class=\"col_heading level0 col1\" >1</th>        <th class=\"col_heading level0 col2\" >All</th>    </tr>    <tr>        <th class=\"index_name level0\" >entity</th>        <th class=\"blank\" ></th>        <th class=\"blank\" ></th>        <th class=\"blank\" ></th>    </tr></thead><tbody>\n",
       "                <tr>\n",
       "                        <th id=\"T_7f1a0d10_ef97_11ea_aecd_185680a52566level0_row0\" class=\"row_heading level0 row0\" >no_entity</th>\n",
       "                        <td id=\"T_7f1a0d10_ef97_11ea_aecd_185680a52566row0_col0\" class=\"data row0 col0\" >8298</td>\n",
       "                        <td id=\"T_7f1a0d10_ef97_11ea_aecd_185680a52566row0_col1\" class=\"data row0 col1\" >8216</td>\n",
       "                        <td id=\"T_7f1a0d10_ef97_11ea_aecd_185680a52566row0_col2\" class=\"data row0 col2\" >16514</td>\n",
       "            </tr>\n",
       "            <tr>\n",
       "                        <th id=\"T_7f1a0d10_ef97_11ea_aecd_185680a52566level0_row1\" class=\"row_heading level0 row1\" >signature</th>\n",
       "                        <td id=\"T_7f1a0d10_ef97_11ea_aecd_185680a52566row1_col0\" class=\"data row1 col0\" >278</td>\n",
       "                        <td id=\"T_7f1a0d10_ef97_11ea_aecd_185680a52566row1_col1\" class=\"data row1 col1\" >1236</td>\n",
       "                        <td id=\"T_7f1a0d10_ef97_11ea_aecd_185680a52566row1_col2\" class=\"data row1 col2\" >1514</td>\n",
       "            </tr>\n",
       "            <tr>\n",
       "                        <th id=\"T_7f1a0d10_ef97_11ea_aecd_185680a52566level0_row2\" class=\"row_heading level0 row2\" >All</th>\n",
       "                        <td id=\"T_7f1a0d10_ef97_11ea_aecd_185680a52566row2_col0\" class=\"data row2 col0\" >8576</td>\n",
       "                        <td id=\"T_7f1a0d10_ef97_11ea_aecd_185680a52566row2_col1\" class=\"data row2 col1\" >9452</td>\n",
       "                        <td id=\"T_7f1a0d10_ef97_11ea_aecd_185680a52566row2_col2\" class=\"data row2 col2\" >18028</td>\n",
       "            </tr>\n",
       "    </tbody></table>   <style  type=\"text/css\" >\n",
       "</style><table id=\"T_7f1a0d11_ef97_11ea_8e45_185680a52566\" style='display:inline'><caption>more_avg_len</caption><thead>    <tr>        <th class=\"index_name level0\" >more_avg_len</th>        <th class=\"col_heading level0 col0\" >0</th>        <th class=\"col_heading level0 col1\" >1</th>        <th class=\"col_heading level0 col2\" >All</th>    </tr>    <tr>        <th class=\"index_name level0\" >entity</th>        <th class=\"blank\" ></th>        <th class=\"blank\" ></th>        <th class=\"blank\" ></th>    </tr></thead><tbody>\n",
       "                <tr>\n",
       "                        <th id=\"T_7f1a0d11_ef97_11ea_8e45_185680a52566level0_row0\" class=\"row_heading level0 row0\" >no_entity</th>\n",
       "                        <td id=\"T_7f1a0d11_ef97_11ea_8e45_185680a52566row0_col0\" class=\"data row0 col0\" >8216</td>\n",
       "                        <td id=\"T_7f1a0d11_ef97_11ea_8e45_185680a52566row0_col1\" class=\"data row0 col1\" >8298</td>\n",
       "                        <td id=\"T_7f1a0d11_ef97_11ea_8e45_185680a52566row0_col2\" class=\"data row0 col2\" >16514</td>\n",
       "            </tr>\n",
       "            <tr>\n",
       "                        <th id=\"T_7f1a0d11_ef97_11ea_8e45_185680a52566level0_row1\" class=\"row_heading level0 row1\" >signature</th>\n",
       "                        <td id=\"T_7f1a0d11_ef97_11ea_8e45_185680a52566row1_col0\" class=\"data row1 col0\" >1236</td>\n",
       "                        <td id=\"T_7f1a0d11_ef97_11ea_8e45_185680a52566row1_col1\" class=\"data row1 col1\" >278</td>\n",
       "                        <td id=\"T_7f1a0d11_ef97_11ea_8e45_185680a52566row1_col2\" class=\"data row1 col2\" >1514</td>\n",
       "            </tr>\n",
       "            <tr>\n",
       "                        <th id=\"T_7f1a0d11_ef97_11ea_8e45_185680a52566level0_row2\" class=\"row_heading level0 row2\" >All</th>\n",
       "                        <td id=\"T_7f1a0d11_ef97_11ea_8e45_185680a52566row2_col0\" class=\"data row2 col0\" >9452</td>\n",
       "                        <td id=\"T_7f1a0d11_ef97_11ea_8e45_185680a52566row2_col1\" class=\"data row2 col1\" >8576</td>\n",
       "                        <td id=\"T_7f1a0d11_ef97_11ea_8e45_185680a52566row2_col2\" class=\"data row2 col2\" >18028</td>\n",
       "            </tr>\n",
       "    </tbody></table>   <style  type=\"text/css\" >\n",
       "</style><table id=\"T_7f1a3430_ef97_11ea_ac33_185680a52566\" style='display:inline'><caption>less_avg_len75</caption><thead>    <tr>        <th class=\"index_name level0\" >less_avg_len75</th>        <th class=\"col_heading level0 col0\" >0</th>        <th class=\"col_heading level0 col1\" >1</th>        <th class=\"col_heading level0 col2\" >All</th>    </tr>    <tr>        <th class=\"index_name level0\" >entity</th>        <th class=\"blank\" ></th>        <th class=\"blank\" ></th>        <th class=\"blank\" ></th>    </tr></thead><tbody>\n",
       "                <tr>\n",
       "                        <th id=\"T_7f1a3430_ef97_11ea_ac33_185680a52566level0_row0\" class=\"row_heading level0 row0\" >no_entity</th>\n",
       "                        <td id=\"T_7f1a3430_ef97_11ea_ac33_185680a52566row0_col0\" class=\"data row0 col0\" >9386</td>\n",
       "                        <td id=\"T_7f1a3430_ef97_11ea_ac33_185680a52566row0_col1\" class=\"data row0 col1\" >7128</td>\n",
       "                        <td id=\"T_7f1a3430_ef97_11ea_ac33_185680a52566row0_col2\" class=\"data row0 col2\" >16514</td>\n",
       "            </tr>\n",
       "            <tr>\n",
       "                        <th id=\"T_7f1a3430_ef97_11ea_ac33_185680a52566level0_row1\" class=\"row_heading level0 row1\" >signature</th>\n",
       "                        <td id=\"T_7f1a3430_ef97_11ea_ac33_185680a52566row1_col0\" class=\"data row1 col0\" >401</td>\n",
       "                        <td id=\"T_7f1a3430_ef97_11ea_ac33_185680a52566row1_col1\" class=\"data row1 col1\" >1113</td>\n",
       "                        <td id=\"T_7f1a3430_ef97_11ea_ac33_185680a52566row1_col2\" class=\"data row1 col2\" >1514</td>\n",
       "            </tr>\n",
       "            <tr>\n",
       "                        <th id=\"T_7f1a3430_ef97_11ea_ac33_185680a52566level0_row2\" class=\"row_heading level0 row2\" >All</th>\n",
       "                        <td id=\"T_7f1a3430_ef97_11ea_ac33_185680a52566row2_col0\" class=\"data row2 col0\" >9787</td>\n",
       "                        <td id=\"T_7f1a3430_ef97_11ea_ac33_185680a52566row2_col1\" class=\"data row2 col1\" >8241</td>\n",
       "                        <td id=\"T_7f1a3430_ef97_11ea_ac33_185680a52566row2_col2\" class=\"data row2 col2\" >18028</td>\n",
       "            </tr>\n",
       "    </tbody></table>   <style  type=\"text/css\" >\n",
       "</style><table id=\"T_7f1a5b28_ef97_11ea_891a_185680a52566\" style='display:inline'><caption>less_avg_len50</caption><thead>    <tr>        <th class=\"index_name level0\" >less_avg_len50</th>        <th class=\"col_heading level0 col0\" >0</th>        <th class=\"col_heading level0 col1\" >1</th>        <th class=\"col_heading level0 col2\" >All</th>    </tr>    <tr>        <th class=\"index_name level0\" >entity</th>        <th class=\"blank\" ></th>        <th class=\"blank\" ></th>        <th class=\"blank\" ></th>    </tr></thead><tbody>\n",
       "                <tr>\n",
       "                        <th id=\"T_7f1a5b28_ef97_11ea_891a_185680a52566level0_row0\" class=\"row_heading level0 row0\" >no_entity</th>\n",
       "                        <td id=\"T_7f1a5b28_ef97_11ea_891a_185680a52566row0_col0\" class=\"data row0 col0\" >10421</td>\n",
       "                        <td id=\"T_7f1a5b28_ef97_11ea_891a_185680a52566row0_col1\" class=\"data row0 col1\" >6093</td>\n",
       "                        <td id=\"T_7f1a5b28_ef97_11ea_891a_185680a52566row0_col2\" class=\"data row0 col2\" >16514</td>\n",
       "            </tr>\n",
       "            <tr>\n",
       "                        <th id=\"T_7f1a5b28_ef97_11ea_891a_185680a52566level0_row1\" class=\"row_heading level0 row1\" >signature</th>\n",
       "                        <td id=\"T_7f1a5b28_ef97_11ea_891a_185680a52566row1_col0\" class=\"data row1 col0\" >620</td>\n",
       "                        <td id=\"T_7f1a5b28_ef97_11ea_891a_185680a52566row1_col1\" class=\"data row1 col1\" >894</td>\n",
       "                        <td id=\"T_7f1a5b28_ef97_11ea_891a_185680a52566row1_col2\" class=\"data row1 col2\" >1514</td>\n",
       "            </tr>\n",
       "            <tr>\n",
       "                        <th id=\"T_7f1a5b28_ef97_11ea_891a_185680a52566level0_row2\" class=\"row_heading level0 row2\" >All</th>\n",
       "                        <td id=\"T_7f1a5b28_ef97_11ea_891a_185680a52566row2_col0\" class=\"data row2 col0\" >11041</td>\n",
       "                        <td id=\"T_7f1a5b28_ef97_11ea_891a_185680a52566row2_col1\" class=\"data row2 col1\" >6987</td>\n",
       "                        <td id=\"T_7f1a5b28_ef97_11ea_891a_185680a52566row2_col2\" class=\"data row2 col2\" >18028</td>\n",
       "            </tr>\n",
       "    </tbody></table>   "
      ],
      "text/plain": [
       "<IPython.core.display.HTML object>"
      ]
     },
     "metadata": {},
     "output_type": "display_data"
    }
   ],
   "source": [
    "display_side_by_side(cross_tables, cross_tbl_labels)"
   ]
  },
  {
   "cell_type": "code",
   "execution_count": 324,
   "metadata": {},
   "outputs": [],
   "source": [
    "def pvalue_to_star(pval):\n",
    "    if pval > 0.05: return \"ns\"\n",
    "    if pval <= 0.001: return \"***\"  \n",
    "    if pval <= 0.01: return \"**\"\n",
    "    if pval <= 0.05: return \"*\""
   ]
  },
  {
   "cell_type": "code",
   "execution_count": 325,
   "metadata": {},
   "outputs": [],
   "source": [
    "from scipy.stats import fisher_exact, chi2_contingency"
   ]
  },
  {
   "cell_type": "code",
   "execution_count": 326,
   "metadata": {},
   "outputs": [
    {
     "name": "stdout",
     "output_type": "stream",
     "text": [
      "=== Chi Square Test ===\n"
     ]
    },
    {
     "data": {
      "text/html": [
       "<div>\n",
       "<style scoped>\n",
       "    .dataframe tbody tr th:only-of-type {\n",
       "        vertical-align: middle;\n",
       "    }\n",
       "\n",
       "    .dataframe tbody tr th {\n",
       "        vertical-align: top;\n",
       "    }\n",
       "\n",
       "    .dataframe thead th {\n",
       "        text-align: right;\n",
       "    }\n",
       "</style>\n",
       "<table border=\"1\" class=\"dataframe\">\n",
       "  <thead>\n",
       "    <tr style=\"text-align: right;\">\n",
       "      <th></th>\n",
       "      <th>feature</th>\n",
       "      <th>p_value</th>\n",
       "      <th>significance</th>\n",
       "    </tr>\n",
       "  </thead>\n",
       "  <tbody>\n",
       "    <tr>\n",
       "      <th>0</th>\n",
       "      <td>blank</td>\n",
       "      <td>0.05036</td>\n",
       "      <td>ns</td>\n",
       "    </tr>\n",
       "    <tr>\n",
       "      <th>1</th>\n",
       "      <td>email</td>\n",
       "      <td>0.82121</td>\n",
       "      <td>ns</td>\n",
       "    </tr>\n",
       "    <tr>\n",
       "      <th>2</th>\n",
       "      <td>url</td>\n",
       "      <td>0.61177</td>\n",
       "      <td>ns</td>\n",
       "    </tr>\n",
       "    <tr>\n",
       "      <th>3</th>\n",
       "      <td>phone</td>\n",
       "      <td>0.12340</td>\n",
       "      <td>ns</td>\n",
       "    </tr>\n",
       "    <tr>\n",
       "      <th>4</th>\n",
       "      <td>sigdelimiter</td>\n",
       "      <td>0.87388</td>\n",
       "      <td>ns</td>\n",
       "    </tr>\n",
       "    <tr>\n",
       "      <th>5</th>\n",
       "      <td>special</td>\n",
       "      <td>0.92785</td>\n",
       "      <td>ns</td>\n",
       "    </tr>\n",
       "    <tr>\n",
       "      <th>6</th>\n",
       "      <td>words</td>\n",
       "      <td>0.00110</td>\n",
       "      <td>**</td>\n",
       "    </tr>\n",
       "    <tr>\n",
       "      <th>7</th>\n",
       "      <td>header</td>\n",
       "      <td>0.01415</td>\n",
       "      <td>*</td>\n",
       "    </tr>\n",
       "    <tr>\n",
       "      <th>8</th>\n",
       "      <td>name</td>\n",
       "      <td>0.61903</td>\n",
       "      <td>ns</td>\n",
       "    </tr>\n",
       "    <tr>\n",
       "      <th>9</th>\n",
       "      <td>endquote</td>\n",
       "      <td>0.30417</td>\n",
       "      <td>ns</td>\n",
       "    </tr>\n",
       "    <tr>\n",
       "      <th>10</th>\n",
       "      <td>tabs1</td>\n",
       "      <td>0.45801</td>\n",
       "      <td>ns</td>\n",
       "    </tr>\n",
       "    <tr>\n",
       "      <th>11</th>\n",
       "      <td>tabs2</td>\n",
       "      <td>0.46518</td>\n",
       "      <td>ns</td>\n",
       "    </tr>\n",
       "    <tr>\n",
       "      <th>12</th>\n",
       "      <td>tabs3</td>\n",
       "      <td>0.09614</td>\n",
       "      <td>ns</td>\n",
       "    </tr>\n",
       "    <tr>\n",
       "      <th>13</th>\n",
       "      <td>punct20</td>\n",
       "      <td>0.88233</td>\n",
       "      <td>ns</td>\n",
       "    </tr>\n",
       "    <tr>\n",
       "      <th>14</th>\n",
       "      <td>punct50</td>\n",
       "      <td>0.90019</td>\n",
       "      <td>ns</td>\n",
       "    </tr>\n",
       "    <tr>\n",
       "      <th>15</th>\n",
       "      <td>punct90</td>\n",
       "      <td>0.74796</td>\n",
       "      <td>ns</td>\n",
       "    </tr>\n",
       "    <tr>\n",
       "      <th>16</th>\n",
       "      <td>reply</td>\n",
       "      <td>0.84051</td>\n",
       "      <td>ns</td>\n",
       "    </tr>\n",
       "    <tr>\n",
       "      <th>17</th>\n",
       "      <td>startpunct</td>\n",
       "      <td>0.86647</td>\n",
       "      <td>ns</td>\n",
       "    </tr>\n",
       "    <tr>\n",
       "      <th>18</th>\n",
       "      <td>replypunct</td>\n",
       "      <td>0.58556</td>\n",
       "      <td>ns</td>\n",
       "    </tr>\n",
       "    <tr>\n",
       "      <th>19</th>\n",
       "      <td>wrote</td>\n",
       "      <td>0.00000</td>\n",
       "      <td>***</td>\n",
       "    </tr>\n",
       "    <tr>\n",
       "      <th>20</th>\n",
       "      <td>alphanum90</td>\n",
       "      <td>0.00000</td>\n",
       "      <td>***</td>\n",
       "    </tr>\n",
       "    <tr>\n",
       "      <th>21</th>\n",
       "      <td>alphanum50</td>\n",
       "      <td>0.04575</td>\n",
       "      <td>*</td>\n",
       "    </tr>\n",
       "    <tr>\n",
       "      <th>22</th>\n",
       "      <td>alphanum10</td>\n",
       "      <td>0.10466</td>\n",
       "      <td>ns</td>\n",
       "    </tr>\n",
       "    <tr>\n",
       "      <th>23</th>\n",
       "      <td>num90</td>\n",
       "      <td>0.00000</td>\n",
       "      <td>***</td>\n",
       "    </tr>\n",
       "    <tr>\n",
       "      <th>24</th>\n",
       "      <td>num50</td>\n",
       "      <td>0.03631</td>\n",
       "      <td>*</td>\n",
       "    </tr>\n",
       "    <tr>\n",
       "      <th>25</th>\n",
       "      <td>num10</td>\n",
       "      <td>0.07368</td>\n",
       "      <td>ns</td>\n",
       "    </tr>\n",
       "    <tr>\n",
       "      <th>26</th>\n",
       "      <td>title</td>\n",
       "      <td>0.00000</td>\n",
       "      <td>***</td>\n",
       "    </tr>\n",
       "    <tr>\n",
       "      <th>27</th>\n",
       "      <td>last</td>\n",
       "      <td>0.00011</td>\n",
       "      <td>***</td>\n",
       "    </tr>\n",
       "    <tr>\n",
       "      <th>28</th>\n",
       "      <td>prevlast</td>\n",
       "      <td>0.00667</td>\n",
       "      <td>**</td>\n",
       "    </tr>\n",
       "    <tr>\n",
       "      <th>29</th>\n",
       "      <td>last5</td>\n",
       "      <td>0.00000</td>\n",
       "      <td>***</td>\n",
       "    </tr>\n",
       "    <tr>\n",
       "      <th>30</th>\n",
       "      <td>last11</td>\n",
       "      <td>0.00000</td>\n",
       "      <td>***</td>\n",
       "    </tr>\n",
       "    <tr>\n",
       "      <th>31</th>\n",
       "      <td>less_avg_len</td>\n",
       "      <td>0.00000</td>\n",
       "      <td>***</td>\n",
       "    </tr>\n",
       "    <tr>\n",
       "      <th>32</th>\n",
       "      <td>more_avg_len</td>\n",
       "      <td>0.00000</td>\n",
       "      <td>***</td>\n",
       "    </tr>\n",
       "    <tr>\n",
       "      <th>33</th>\n",
       "      <td>less_avg_len75</td>\n",
       "      <td>0.00003</td>\n",
       "      <td>***</td>\n",
       "    </tr>\n",
       "    <tr>\n",
       "      <th>34</th>\n",
       "      <td>less_avg_len50</td>\n",
       "      <td>0.00276</td>\n",
       "      <td>**</td>\n",
       "    </tr>\n",
       "  </tbody>\n",
       "</table>\n",
       "</div>"
      ],
      "text/plain": [
       "           feature  p_value significance\n",
       "0            blank  0.05036           ns\n",
       "1            email  0.82121           ns\n",
       "2              url  0.61177           ns\n",
       "3            phone  0.12340           ns\n",
       "4     sigdelimiter  0.87388           ns\n",
       "5          special  0.92785           ns\n",
       "6            words  0.00110           **\n",
       "7           header  0.01415            *\n",
       "8             name  0.61903           ns\n",
       "9         endquote  0.30417           ns\n",
       "10           tabs1  0.45801           ns\n",
       "11           tabs2  0.46518           ns\n",
       "12           tabs3  0.09614           ns\n",
       "13         punct20  0.88233           ns\n",
       "14         punct50  0.90019           ns\n",
       "15         punct90  0.74796           ns\n",
       "16           reply  0.84051           ns\n",
       "17      startpunct  0.86647           ns\n",
       "18      replypunct  0.58556           ns\n",
       "19           wrote  0.00000          ***\n",
       "20      alphanum90  0.00000          ***\n",
       "21      alphanum50  0.04575            *\n",
       "22      alphanum10  0.10466           ns\n",
       "23           num90  0.00000          ***\n",
       "24           num50  0.03631            *\n",
       "25           num10  0.07368           ns\n",
       "26           title  0.00000          ***\n",
       "27            last  0.00011          ***\n",
       "28        prevlast  0.00667           **\n",
       "29           last5  0.00000          ***\n",
       "30          last11  0.00000          ***\n",
       "31    less_avg_len  0.00000          ***\n",
       "32    more_avg_len  0.00000          ***\n",
       "33  less_avg_len75  0.00003          ***\n",
       "34  less_avg_len50  0.00276           **"
      ]
     },
     "execution_count": 326,
     "metadata": {},
     "output_type": "execute_result"
    }
   ],
   "source": [
    "chi_tests = list()\n",
    "print(\"=== Chi Square Test ===\")\n",
    "for i, table in enumerate(cross_tables):    \n",
    "    chi2, p, dof, expected = chi2_contingency(table)\n",
    "    chi_tests.append({\n",
    "        \"feature\": cross_tbl_labels[i],\n",
    "        \"p_value\": p,\n",
    "        \"significance\": pvalue_to_star(p)\n",
    "    })\n",
    "chi_tests_df = pd.DataFrame(chi_tests)\n",
    "chi_tests_df.round(5)"
   ]
  },
  {
   "cell_type": "code",
   "execution_count": 327,
   "metadata": {},
   "outputs": [
    {
     "name": "stdout",
     "output_type": "stream",
     "text": [
      "=== Fisher's Exact Test (only for no_entity vs signature) ===\n"
     ]
    },
    {
     "data": {
      "text/html": [
       "<div>\n",
       "<style scoped>\n",
       "    .dataframe tbody tr th:only-of-type {\n",
       "        vertical-align: middle;\n",
       "    }\n",
       "\n",
       "    .dataframe tbody tr th {\n",
       "        vertical-align: top;\n",
       "    }\n",
       "\n",
       "    .dataframe thead th {\n",
       "        text-align: right;\n",
       "    }\n",
       "</style>\n",
       "<table border=\"1\" class=\"dataframe\">\n",
       "  <thead>\n",
       "    <tr style=\"text-align: right;\">\n",
       "      <th></th>\n",
       "      <th>feature</th>\n",
       "      <th>p_value</th>\n",
       "      <th>significance</th>\n",
       "    </tr>\n",
       "  </thead>\n",
       "  <tbody>\n",
       "    <tr>\n",
       "      <th>0</th>\n",
       "      <td>blank</td>\n",
       "      <td>0.04619</td>\n",
       "      <td>*</td>\n",
       "    </tr>\n",
       "    <tr>\n",
       "      <th>1</th>\n",
       "      <td>email</td>\n",
       "      <td>1.00000</td>\n",
       "      <td>ns</td>\n",
       "    </tr>\n",
       "    <tr>\n",
       "      <th>2</th>\n",
       "      <td>url</td>\n",
       "      <td>0.53714</td>\n",
       "      <td>ns</td>\n",
       "    </tr>\n",
       "    <tr>\n",
       "      <th>3</th>\n",
       "      <td>phone</td>\n",
       "      <td>0.09624</td>\n",
       "      <td>ns</td>\n",
       "    </tr>\n",
       "    <tr>\n",
       "      <th>4</th>\n",
       "      <td>sigdelimiter</td>\n",
       "      <td>1.00000</td>\n",
       "      <td>ns</td>\n",
       "    </tr>\n",
       "    <tr>\n",
       "      <th>5</th>\n",
       "      <td>special</td>\n",
       "      <td>1.00000</td>\n",
       "      <td>ns</td>\n",
       "    </tr>\n",
       "    <tr>\n",
       "      <th>6</th>\n",
       "      <td>words</td>\n",
       "      <td>0.00043</td>\n",
       "      <td>***</td>\n",
       "    </tr>\n",
       "    <tr>\n",
       "      <th>7</th>\n",
       "      <td>header</td>\n",
       "      <td>0.01400</td>\n",
       "      <td>*</td>\n",
       "    </tr>\n",
       "    <tr>\n",
       "      <th>8</th>\n",
       "      <td>name</td>\n",
       "      <td>1.00000</td>\n",
       "      <td>ns</td>\n",
       "    </tr>\n",
       "    <tr>\n",
       "      <th>9</th>\n",
       "      <td>endquote</td>\n",
       "      <td>1.00000</td>\n",
       "      <td>ns</td>\n",
       "    </tr>\n",
       "    <tr>\n",
       "      <th>10</th>\n",
       "      <td>tabs1</td>\n",
       "      <td>0.49746</td>\n",
       "      <td>ns</td>\n",
       "    </tr>\n",
       "    <tr>\n",
       "      <th>11</th>\n",
       "      <td>tabs2</td>\n",
       "      <td>0.49746</td>\n",
       "      <td>ns</td>\n",
       "    </tr>\n",
       "    <tr>\n",
       "      <th>12</th>\n",
       "      <td>tabs3</td>\n",
       "      <td>1.00000</td>\n",
       "      <td>ns</td>\n",
       "    </tr>\n",
       "    <tr>\n",
       "      <th>13</th>\n",
       "      <td>punct20</td>\n",
       "      <td>1.00000</td>\n",
       "      <td>ns</td>\n",
       "    </tr>\n",
       "    <tr>\n",
       "      <th>14</th>\n",
       "      <td>punct50</td>\n",
       "      <td>1.00000</td>\n",
       "      <td>ns</td>\n",
       "    </tr>\n",
       "    <tr>\n",
       "      <th>15</th>\n",
       "      <td>punct90</td>\n",
       "      <td>0.68272</td>\n",
       "      <td>ns</td>\n",
       "    </tr>\n",
       "    <tr>\n",
       "      <th>16</th>\n",
       "      <td>reply</td>\n",
       "      <td>0.68267</td>\n",
       "      <td>ns</td>\n",
       "    </tr>\n",
       "    <tr>\n",
       "      <th>17</th>\n",
       "      <td>startpunct</td>\n",
       "      <td>0.79519</td>\n",
       "      <td>ns</td>\n",
       "    </tr>\n",
       "    <tr>\n",
       "      <th>18</th>\n",
       "      <td>replypunct</td>\n",
       "      <td>0.49749</td>\n",
       "      <td>ns</td>\n",
       "    </tr>\n",
       "    <tr>\n",
       "      <th>19</th>\n",
       "      <td>wrote</td>\n",
       "      <td>1.00000</td>\n",
       "      <td>ns</td>\n",
       "    </tr>\n",
       "    <tr>\n",
       "      <th>20</th>\n",
       "      <td>alphanum90</td>\n",
       "      <td>0.00000</td>\n",
       "      <td>***</td>\n",
       "    </tr>\n",
       "    <tr>\n",
       "      <th>21</th>\n",
       "      <td>alphanum50</td>\n",
       "      <td>0.04749</td>\n",
       "      <td>*</td>\n",
       "    </tr>\n",
       "    <tr>\n",
       "      <th>22</th>\n",
       "      <td>alphanum10</td>\n",
       "      <td>0.08924</td>\n",
       "      <td>ns</td>\n",
       "    </tr>\n",
       "    <tr>\n",
       "      <th>23</th>\n",
       "      <td>num90</td>\n",
       "      <td>1.00000</td>\n",
       "      <td>ns</td>\n",
       "    </tr>\n",
       "    <tr>\n",
       "      <th>24</th>\n",
       "      <td>num50</td>\n",
       "      <td>0.03486</td>\n",
       "      <td>*</td>\n",
       "    </tr>\n",
       "    <tr>\n",
       "      <th>25</th>\n",
       "      <td>num10</td>\n",
       "      <td>0.05666</td>\n",
       "      <td>ns</td>\n",
       "    </tr>\n",
       "    <tr>\n",
       "      <th>26</th>\n",
       "      <td>title</td>\n",
       "      <td>0.00000</td>\n",
       "      <td>***</td>\n",
       "    </tr>\n",
       "    <tr>\n",
       "      <th>27</th>\n",
       "      <td>last</td>\n",
       "      <td>0.00004</td>\n",
       "      <td>***</td>\n",
       "    </tr>\n",
       "    <tr>\n",
       "      <th>28</th>\n",
       "      <td>prevlast</td>\n",
       "      <td>0.00253</td>\n",
       "      <td>**</td>\n",
       "    </tr>\n",
       "    <tr>\n",
       "      <th>29</th>\n",
       "      <td>last5</td>\n",
       "      <td>0.00000</td>\n",
       "      <td>***</td>\n",
       "    </tr>\n",
       "    <tr>\n",
       "      <th>30</th>\n",
       "      <td>last11</td>\n",
       "      <td>0.00000</td>\n",
       "      <td>***</td>\n",
       "    </tr>\n",
       "    <tr>\n",
       "      <th>31</th>\n",
       "      <td>less_avg_len</td>\n",
       "      <td>0.00000</td>\n",
       "      <td>***</td>\n",
       "    </tr>\n",
       "    <tr>\n",
       "      <th>32</th>\n",
       "      <td>more_avg_len</td>\n",
       "      <td>0.00000</td>\n",
       "      <td>***</td>\n",
       "    </tr>\n",
       "    <tr>\n",
       "      <th>33</th>\n",
       "      <td>less_avg_len75</td>\n",
       "      <td>0.00002</td>\n",
       "      <td>***</td>\n",
       "    </tr>\n",
       "    <tr>\n",
       "      <th>34</th>\n",
       "      <td>less_avg_len50</td>\n",
       "      <td>0.00168</td>\n",
       "      <td>**</td>\n",
       "    </tr>\n",
       "  </tbody>\n",
       "</table>\n",
       "</div>"
      ],
      "text/plain": [
       "           feature  p_value significance\n",
       "0            blank  0.04619            *\n",
       "1            email  1.00000           ns\n",
       "2              url  0.53714           ns\n",
       "3            phone  0.09624           ns\n",
       "4     sigdelimiter  1.00000           ns\n",
       "5          special  1.00000           ns\n",
       "6            words  0.00043          ***\n",
       "7           header  0.01400            *\n",
       "8             name  1.00000           ns\n",
       "9         endquote  1.00000           ns\n",
       "10           tabs1  0.49746           ns\n",
       "11           tabs2  0.49746           ns\n",
       "12           tabs3  1.00000           ns\n",
       "13         punct20  1.00000           ns\n",
       "14         punct50  1.00000           ns\n",
       "15         punct90  0.68272           ns\n",
       "16           reply  0.68267           ns\n",
       "17      startpunct  0.79519           ns\n",
       "18      replypunct  0.49749           ns\n",
       "19           wrote  1.00000           ns\n",
       "20      alphanum90  0.00000          ***\n",
       "21      alphanum50  0.04749            *\n",
       "22      alphanum10  0.08924           ns\n",
       "23           num90  1.00000           ns\n",
       "24           num50  0.03486            *\n",
       "25           num10  0.05666           ns\n",
       "26           title  0.00000          ***\n",
       "27            last  0.00004          ***\n",
       "28        prevlast  0.00253           **\n",
       "29           last5  0.00000          ***\n",
       "30          last11  0.00000          ***\n",
       "31    less_avg_len  0.00000          ***\n",
       "32    more_avg_len  0.00000          ***\n",
       "33  less_avg_len75  0.00002          ***\n",
       "34  less_avg_len50  0.00168           **"
      ]
     },
     "execution_count": 327,
     "metadata": {},
     "output_type": "execute_result"
    }
   ],
   "source": [
    "fisher_tests = list()\n",
    "print(\"=== Fisher's Exact Test (only for no_entity vs signature) ===\")\n",
    "for i, table in enumerate(cross_tables):\n",
    "    odds_ratio, p = fisher_exact(table.loc[(\"no_entity\", \"signature\"),[0,1]])\n",
    "    fisher_tests.append({\n",
    "        \"feature\": cross_tbl_labels[i],\n",
    "        \"p_value\": p,\n",
    "        \"significance\": pvalue_to_star(p)\n",
    "    })\n",
    "fisher_tests_df = pd.DataFrame(fisher_tests)\n",
    "fisher_tests_df.round(5)"
   ]
  },
  {
   "cell_type": "code",
   "execution_count": 328,
   "metadata": {},
   "outputs": [
    {
     "data": {
      "text/html": [
       "<div>\n",
       "<style scoped>\n",
       "    .dataframe tbody tr th:only-of-type {\n",
       "        vertical-align: middle;\n",
       "    }\n",
       "\n",
       "    .dataframe tbody tr th {\n",
       "        vertical-align: top;\n",
       "    }\n",
       "\n",
       "    .dataframe thead th {\n",
       "        text-align: right;\n",
       "    }\n",
       "</style>\n",
       "<table border=\"1\" class=\"dataframe\">\n",
       "  <thead>\n",
       "    <tr style=\"text-align: right;\">\n",
       "      <th></th>\n",
       "      <th>feature</th>\n",
       "      <th>p_value</th>\n",
       "      <th>significance</th>\n",
       "    </tr>\n",
       "  </thead>\n",
       "  <tbody>\n",
       "    <tr>\n",
       "      <th>6</th>\n",
       "      <td>words</td>\n",
       "      <td>1.102434e-03</td>\n",
       "      <td>**</td>\n",
       "    </tr>\n",
       "    <tr>\n",
       "      <th>7</th>\n",
       "      <td>header</td>\n",
       "      <td>1.414623e-02</td>\n",
       "      <td>*</td>\n",
       "    </tr>\n",
       "    <tr>\n",
       "      <th>19</th>\n",
       "      <td>wrote</td>\n",
       "      <td>4.152461e-23</td>\n",
       "      <td>***</td>\n",
       "    </tr>\n",
       "    <tr>\n",
       "      <th>20</th>\n",
       "      <td>alphanum90</td>\n",
       "      <td>2.707761e-06</td>\n",
       "      <td>***</td>\n",
       "    </tr>\n",
       "    <tr>\n",
       "      <th>21</th>\n",
       "      <td>alphanum50</td>\n",
       "      <td>4.574774e-02</td>\n",
       "      <td>*</td>\n",
       "    </tr>\n",
       "    <tr>\n",
       "      <th>23</th>\n",
       "      <td>num90</td>\n",
       "      <td>1.582857e-06</td>\n",
       "      <td>***</td>\n",
       "    </tr>\n",
       "    <tr>\n",
       "      <th>24</th>\n",
       "      <td>num50</td>\n",
       "      <td>3.631470e-02</td>\n",
       "      <td>*</td>\n",
       "    </tr>\n",
       "    <tr>\n",
       "      <th>26</th>\n",
       "      <td>title</td>\n",
       "      <td>6.341794e-10</td>\n",
       "      <td>***</td>\n",
       "    </tr>\n",
       "    <tr>\n",
       "      <th>27</th>\n",
       "      <td>last</td>\n",
       "      <td>1.110193e-04</td>\n",
       "      <td>***</td>\n",
       "    </tr>\n",
       "    <tr>\n",
       "      <th>28</th>\n",
       "      <td>prevlast</td>\n",
       "      <td>6.669118e-03</td>\n",
       "      <td>**</td>\n",
       "    </tr>\n",
       "    <tr>\n",
       "      <th>29</th>\n",
       "      <td>last5</td>\n",
       "      <td>5.077810e-11</td>\n",
       "      <td>***</td>\n",
       "    </tr>\n",
       "    <tr>\n",
       "      <th>30</th>\n",
       "      <td>last11</td>\n",
       "      <td>6.184507e-11</td>\n",
       "      <td>***</td>\n",
       "    </tr>\n",
       "    <tr>\n",
       "      <th>31</th>\n",
       "      <td>less_avg_len</td>\n",
       "      <td>4.203432e-06</td>\n",
       "      <td>***</td>\n",
       "    </tr>\n",
       "    <tr>\n",
       "      <th>32</th>\n",
       "      <td>more_avg_len</td>\n",
       "      <td>4.203432e-06</td>\n",
       "      <td>***</td>\n",
       "    </tr>\n",
       "    <tr>\n",
       "      <th>33</th>\n",
       "      <td>less_avg_len75</td>\n",
       "      <td>2.558014e-05</td>\n",
       "      <td>***</td>\n",
       "    </tr>\n",
       "    <tr>\n",
       "      <th>34</th>\n",
       "      <td>less_avg_len50</td>\n",
       "      <td>2.757815e-03</td>\n",
       "      <td>**</td>\n",
       "    </tr>\n",
       "  </tbody>\n",
       "</table>\n",
       "</div>"
      ],
      "text/plain": [
       "           feature       p_value significance\n",
       "6            words  1.102434e-03           **\n",
       "7           header  1.414623e-02            *\n",
       "19           wrote  4.152461e-23          ***\n",
       "20      alphanum90  2.707761e-06          ***\n",
       "21      alphanum50  4.574774e-02            *\n",
       "23           num90  1.582857e-06          ***\n",
       "24           num50  3.631470e-02            *\n",
       "26           title  6.341794e-10          ***\n",
       "27            last  1.110193e-04          ***\n",
       "28        prevlast  6.669118e-03           **\n",
       "29           last5  5.077810e-11          ***\n",
       "30          last11  6.184507e-11          ***\n",
       "31    less_avg_len  4.203432e-06          ***\n",
       "32    more_avg_len  4.203432e-06          ***\n",
       "33  less_avg_len75  2.558014e-05          ***\n",
       "34  less_avg_len50  2.757815e-03           **"
      ]
     },
     "execution_count": 328,
     "metadata": {},
     "output_type": "execute_result"
    }
   ],
   "source": [
    "chi_tests_df[chi_tests_df.p_value < 0.05]"
   ]
  },
  {
   "cell_type": "code",
   "execution_count": 307,
   "metadata": {},
   "outputs": [
    {
     "data": {
      "text/html": [
       "<div>\n",
       "<style scoped>\n",
       "    .dataframe tbody tr th:only-of-type {\n",
       "        vertical-align: middle;\n",
       "    }\n",
       "\n",
       "    .dataframe tbody tr th {\n",
       "        vertical-align: top;\n",
       "    }\n",
       "\n",
       "    .dataframe thead th {\n",
       "        text-align: right;\n",
       "    }\n",
       "</style>\n",
       "<table border=\"1\" class=\"dataframe\">\n",
       "  <thead>\n",
       "    <tr style=\"text-align: right;\">\n",
       "      <th></th>\n",
       "      <th>feature</th>\n",
       "      <th>p_value</th>\n",
       "      <th>significance</th>\n",
       "    </tr>\n",
       "  </thead>\n",
       "  <tbody>\n",
       "    <tr>\n",
       "      <th>0</th>\n",
       "      <td>blank</td>\n",
       "      <td>6.935964e-28</td>\n",
       "      <td>***</td>\n",
       "    </tr>\n",
       "    <tr>\n",
       "      <th>1</th>\n",
       "      <td>email</td>\n",
       "      <td>4.276682e-04</td>\n",
       "      <td>***</td>\n",
       "    </tr>\n",
       "    <tr>\n",
       "      <th>2</th>\n",
       "      <td>url</td>\n",
       "      <td>8.088651e-06</td>\n",
       "      <td>***</td>\n",
       "    </tr>\n",
       "    <tr>\n",
       "      <th>3</th>\n",
       "      <td>phone</td>\n",
       "      <td>6.613022e-22</td>\n",
       "      <td>***</td>\n",
       "    </tr>\n",
       "    <tr>\n",
       "      <th>4</th>\n",
       "      <td>sigdelimiter</td>\n",
       "      <td>1.568001e-04</td>\n",
       "      <td>***</td>\n",
       "    </tr>\n",
       "    <tr>\n",
       "      <th>5</th>\n",
       "      <td>special</td>\n",
       "      <td>2.177086e-05</td>\n",
       "      <td>***</td>\n",
       "    </tr>\n",
       "    <tr>\n",
       "      <th>6</th>\n",
       "      <td>words</td>\n",
       "      <td>2.186257e-103</td>\n",
       "      <td>***</td>\n",
       "    </tr>\n",
       "    <tr>\n",
       "      <th>7</th>\n",
       "      <td>header</td>\n",
       "      <td>8.121973e-49</td>\n",
       "      <td>***</td>\n",
       "    </tr>\n",
       "    <tr>\n",
       "      <th>10</th>\n",
       "      <td>tabs1</td>\n",
       "      <td>1.935908e-11</td>\n",
       "      <td>***</td>\n",
       "    </tr>\n",
       "    <tr>\n",
       "      <th>11</th>\n",
       "      <td>tabs2</td>\n",
       "      <td>4.853626e-12</td>\n",
       "      <td>***</td>\n",
       "    </tr>\n",
       "    <tr>\n",
       "      <th>14</th>\n",
       "      <td>punct50</td>\n",
       "      <td>7.980678e-03</td>\n",
       "      <td>**</td>\n",
       "    </tr>\n",
       "    <tr>\n",
       "      <th>15</th>\n",
       "      <td>punct90</td>\n",
       "      <td>3.823695e-05</td>\n",
       "      <td>***</td>\n",
       "    </tr>\n",
       "    <tr>\n",
       "      <th>16</th>\n",
       "      <td>reply</td>\n",
       "      <td>3.863557e-03</td>\n",
       "      <td>**</td>\n",
       "    </tr>\n",
       "    <tr>\n",
       "      <th>17</th>\n",
       "      <td>startpunct</td>\n",
       "      <td>3.410358e-02</td>\n",
       "      <td>*</td>\n",
       "    </tr>\n",
       "    <tr>\n",
       "      <th>18</th>\n",
       "      <td>replypunct</td>\n",
       "      <td>2.771580e-11</td>\n",
       "      <td>***</td>\n",
       "    </tr>\n",
       "    <tr>\n",
       "      <th>20</th>\n",
       "      <td>alphanum90</td>\n",
       "      <td>1.781299e-229</td>\n",
       "      <td>***</td>\n",
       "    </tr>\n",
       "    <tr>\n",
       "      <th>21</th>\n",
       "      <td>alphanum50</td>\n",
       "      <td>7.881968e-29</td>\n",
       "      <td>***</td>\n",
       "    </tr>\n",
       "    <tr>\n",
       "      <th>22</th>\n",
       "      <td>alphanum10</td>\n",
       "      <td>2.408138e-20</td>\n",
       "      <td>***</td>\n",
       "    </tr>\n",
       "    <tr>\n",
       "      <th>24</th>\n",
       "      <td>num50</td>\n",
       "      <td>3.635418e-54</td>\n",
       "      <td>***</td>\n",
       "    </tr>\n",
       "    <tr>\n",
       "      <th>25</th>\n",
       "      <td>num10</td>\n",
       "      <td>8.414574e-29</td>\n",
       "      <td>***</td>\n",
       "    </tr>\n",
       "    <tr>\n",
       "      <th>26</th>\n",
       "      <td>title</td>\n",
       "      <td>0.000000e+00</td>\n",
       "      <td>***</td>\n",
       "    </tr>\n",
       "    <tr>\n",
       "      <th>27</th>\n",
       "      <td>last</td>\n",
       "      <td>1.477342e-174</td>\n",
       "      <td>***</td>\n",
       "    </tr>\n",
       "    <tr>\n",
       "      <th>28</th>\n",
       "      <td>prevlast</td>\n",
       "      <td>2.373820e-82</td>\n",
       "      <td>***</td>\n",
       "    </tr>\n",
       "    <tr>\n",
       "      <th>29</th>\n",
       "      <td>last5</td>\n",
       "      <td>0.000000e+00</td>\n",
       "      <td>***</td>\n",
       "    </tr>\n",
       "    <tr>\n",
       "      <th>30</th>\n",
       "      <td>last11</td>\n",
       "      <td>1.240560e-297</td>\n",
       "      <td>***</td>\n",
       "    </tr>\n",
       "    <tr>\n",
       "      <th>31</th>\n",
       "      <td>less_avg_len</td>\n",
       "      <td>3.950603e-135</td>\n",
       "      <td>***</td>\n",
       "    </tr>\n",
       "    <tr>\n",
       "      <th>32</th>\n",
       "      <td>more_avg_len</td>\n",
       "      <td>3.950603e-135</td>\n",
       "      <td>***</td>\n",
       "    </tr>\n",
       "    <tr>\n",
       "      <th>33</th>\n",
       "      <td>less_avg_len75</td>\n",
       "      <td>4.631502e-116</td>\n",
       "      <td>***</td>\n",
       "    </tr>\n",
       "    <tr>\n",
       "      <th>34</th>\n",
       "      <td>less_avg_len50</td>\n",
       "      <td>2.785194e-62</td>\n",
       "      <td>***</td>\n",
       "    </tr>\n",
       "  </tbody>\n",
       "</table>\n",
       "</div>"
      ],
      "text/plain": [
       "           feature        p_value significance\n",
       "0            blank   6.935964e-28          ***\n",
       "1            email   4.276682e-04          ***\n",
       "2              url   8.088651e-06          ***\n",
       "3            phone   6.613022e-22          ***\n",
       "4     sigdelimiter   1.568001e-04          ***\n",
       "5          special   2.177086e-05          ***\n",
       "6            words  2.186257e-103          ***\n",
       "7           header   8.121973e-49          ***\n",
       "10           tabs1   1.935908e-11          ***\n",
       "11           tabs2   4.853626e-12          ***\n",
       "14         punct50   7.980678e-03           **\n",
       "15         punct90   3.823695e-05          ***\n",
       "16           reply   3.863557e-03           **\n",
       "17      startpunct   3.410358e-02            *\n",
       "18      replypunct   2.771580e-11          ***\n",
       "20      alphanum90  1.781299e-229          ***\n",
       "21      alphanum50   7.881968e-29          ***\n",
       "22      alphanum10   2.408138e-20          ***\n",
       "24           num50   3.635418e-54          ***\n",
       "25           num10   8.414574e-29          ***\n",
       "26           title   0.000000e+00          ***\n",
       "27            last  1.477342e-174          ***\n",
       "28        prevlast   2.373820e-82          ***\n",
       "29           last5   0.000000e+00          ***\n",
       "30          last11  1.240560e-297          ***\n",
       "31    less_avg_len  3.950603e-135          ***\n",
       "32    more_avg_len  3.950603e-135          ***\n",
       "33  less_avg_len75  4.631502e-116          ***\n",
       "34  less_avg_len50   2.785194e-62          ***"
      ]
     },
     "execution_count": 307,
     "metadata": {},
     "output_type": "execute_result"
    }
   ],
   "source": [
    "fisher_tests_df[fisher_tests_df.p_value < 0.05]"
   ]
  },
  {
   "cell_type": "code",
   "execution_count": 308,
   "metadata": {},
   "outputs": [
    {
     "data": {
      "text/html": [
       "<style  type=\"text/css\" >\n",
       "</style><table id=\"T_85b8de34_ef97_11ea_a82c_185680a52566\" style='display:inline'><caption>blank</caption><thead>    <tr>        <th class=\"index_name level0\" >blank</th>        <th class=\"col_heading level0 col0\" >0</th>        <th class=\"col_heading level0 col1\" >1</th>    </tr>    <tr>        <th class=\"index_name level0\" >entity</th>        <th class=\"blank\" ></th>        <th class=\"blank\" ></th>    </tr></thead><tbody>\n",
       "                <tr>\n",
       "                        <th id=\"T_85b8de34_ef97_11ea_a82c_185680a52566level0_row0\" class=\"row_heading level0 row0\" >no_entity</th>\n",
       "                        <td id=\"T_85b8de34_ef97_11ea_a82c_185680a52566row0_col0\" class=\"data row0 col0\" >74.49</td>\n",
       "                        <td id=\"T_85b8de34_ef97_11ea_a82c_185680a52566row0_col1\" class=\"data row0 col1\" >25.51</td>\n",
       "            </tr>\n",
       "            <tr>\n",
       "                        <th id=\"T_85b8de34_ef97_11ea_a82c_185680a52566level0_row1\" class=\"row_heading level0 row1\" >signature</th>\n",
       "                        <td id=\"T_85b8de34_ef97_11ea_a82c_185680a52566row1_col0\" class=\"data row1 col0\" >86.46</td>\n",
       "                        <td id=\"T_85b8de34_ef97_11ea_a82c_185680a52566row1_col1\" class=\"data row1 col1\" >13.54</td>\n",
       "            </tr>\n",
       "    </tbody></table>   <style  type=\"text/css\" >\n",
       "</style><table id=\"T_85b90542_ef97_11ea_9451_185680a52566\" style='display:inline'><caption>email</caption><thead>    <tr>        <th class=\"index_name level0\" >email</th>        <th class=\"col_heading level0 col0\" >0</th>        <th class=\"col_heading level0 col1\" >1</th>    </tr>    <tr>        <th class=\"index_name level0\" >entity</th>        <th class=\"blank\" ></th>        <th class=\"blank\" ></th>    </tr></thead><tbody>\n",
       "                <tr>\n",
       "                        <th id=\"T_85b90542_ef97_11ea_9451_185680a52566level0_row0\" class=\"row_heading level0 row0\" >no_entity</th>\n",
       "                        <td id=\"T_85b90542_ef97_11ea_9451_185680a52566row0_col0\" class=\"data row0 col0\" >97.72</td>\n",
       "                        <td id=\"T_85b90542_ef97_11ea_9451_185680a52566row0_col1\" class=\"data row0 col1\" >2.28</td>\n",
       "            </tr>\n",
       "            <tr>\n",
       "                        <th id=\"T_85b90542_ef97_11ea_9451_185680a52566level0_row1\" class=\"row_heading level0 row1\" >signature</th>\n",
       "                        <td id=\"T_85b90542_ef97_11ea_9451_185680a52566row1_col0\" class=\"data row1 col0\" >96.17</td>\n",
       "                        <td id=\"T_85b90542_ef97_11ea_9451_185680a52566row1_col1\" class=\"data row1 col1\" >3.83</td>\n",
       "            </tr>\n",
       "    </tbody></table>   <style  type=\"text/css\" >\n",
       "</style><table id=\"T_85b90543_ef97_11ea_8d7b_185680a52566\" style='display:inline'><caption>url</caption><thead>    <tr>        <th class=\"index_name level0\" >url</th>        <th class=\"col_heading level0 col0\" >0</th>        <th class=\"col_heading level0 col1\" >1</th>    </tr>    <tr>        <th class=\"index_name level0\" >entity</th>        <th class=\"blank\" ></th>        <th class=\"blank\" ></th>    </tr></thead><tbody>\n",
       "                <tr>\n",
       "                        <th id=\"T_85b90543_ef97_11ea_8d7b_185680a52566level0_row0\" class=\"row_heading level0 row0\" >no_entity</th>\n",
       "                        <td id=\"T_85b90543_ef97_11ea_8d7b_185680a52566row0_col0\" class=\"data row0 col0\" >95.66</td>\n",
       "                        <td id=\"T_85b90543_ef97_11ea_8d7b_185680a52566row0_col1\" class=\"data row0 col1\" >4.34</td>\n",
       "            </tr>\n",
       "            <tr>\n",
       "                        <th id=\"T_85b90543_ef97_11ea_8d7b_185680a52566level0_row1\" class=\"row_heading level0 row1\" >signature</th>\n",
       "                        <td id=\"T_85b90543_ef97_11ea_8d7b_185680a52566row1_col0\" class=\"data row1 col0\" >93</td>\n",
       "                        <td id=\"T_85b90543_ef97_11ea_8d7b_185680a52566row1_col1\" class=\"data row1 col1\" >7</td>\n",
       "            </tr>\n",
       "    </tbody></table>   <style  type=\"text/css\" >\n",
       "</style><table id=\"T_85b92c54_ef97_11ea_812d_185680a52566\" style='display:inline'><caption>phone</caption><thead>    <tr>        <th class=\"index_name level0\" >phone</th>        <th class=\"col_heading level0 col0\" >0</th>        <th class=\"col_heading level0 col1\" >1</th>    </tr>    <tr>        <th class=\"index_name level0\" >entity</th>        <th class=\"blank\" ></th>        <th class=\"blank\" ></th>    </tr></thead><tbody>\n",
       "                <tr>\n",
       "                        <th id=\"T_85b92c54_ef97_11ea_812d_185680a52566level0_row0\" class=\"row_heading level0 row0\" >no_entity</th>\n",
       "                        <td id=\"T_85b92c54_ef97_11ea_812d_185680a52566row0_col0\" class=\"data row0 col0\" >90.32</td>\n",
       "                        <td id=\"T_85b92c54_ef97_11ea_812d_185680a52566row0_col1\" class=\"data row0 col1\" >9.68</td>\n",
       "            </tr>\n",
       "            <tr>\n",
       "                        <th id=\"T_85b92c54_ef97_11ea_812d_185680a52566level0_row1\" class=\"row_heading level0 row1\" >signature</th>\n",
       "                        <td id=\"T_85b92c54_ef97_11ea_812d_185680a52566row1_col0\" class=\"data row1 col0\" >81.77</td>\n",
       "                        <td id=\"T_85b92c54_ef97_11ea_812d_185680a52566row1_col1\" class=\"data row1 col1\" >18.23</td>\n",
       "            </tr>\n",
       "    </tbody></table>   <style  type=\"text/css\" >\n",
       "</style><table id=\"T_85b95364_ef97_11ea_bd9c_185680a52566\" style='display:inline'><caption>sigdelimiter</caption><thead>    <tr>        <th class=\"index_name level0\" >sigdelimiter</th>        <th class=\"col_heading level0 col0\" >0</th>        <th class=\"col_heading level0 col1\" >1</th>    </tr>    <tr>        <th class=\"index_name level0\" >entity</th>        <th class=\"blank\" ></th>        <th class=\"blank\" ></th>    </tr></thead><tbody>\n",
       "                <tr>\n",
       "                        <th id=\"T_85b95364_ef97_11ea_bd9c_185680a52566level0_row0\" class=\"row_heading level0 row0\" >no_entity</th>\n",
       "                        <td id=\"T_85b95364_ef97_11ea_bd9c_185680a52566row0_col0\" class=\"data row0 col0\" >98.01</td>\n",
       "                        <td id=\"T_85b95364_ef97_11ea_bd9c_185680a52566row0_col1\" class=\"data row0 col1\" >1.99</td>\n",
       "            </tr>\n",
       "            <tr>\n",
       "                        <th id=\"T_85b95364_ef97_11ea_bd9c_185680a52566level0_row1\" class=\"row_heading level0 row1\" >signature</th>\n",
       "                        <td id=\"T_85b95364_ef97_11ea_bd9c_185680a52566row1_col0\" class=\"data row1 col0\" >99.27</td>\n",
       "                        <td id=\"T_85b95364_ef97_11ea_bd9c_185680a52566row1_col1\" class=\"data row1 col1\" >0.73</td>\n",
       "            </tr>\n",
       "    </tbody></table>   <style  type=\"text/css\" >\n",
       "</style><table id=\"T_85b95365_ef97_11ea_936c_185680a52566\" style='display:inline'><caption>special</caption><thead>    <tr>        <th class=\"index_name level0\" >special</th>        <th class=\"col_heading level0 col0\" >0</th>        <th class=\"col_heading level0 col1\" >1</th>    </tr>    <tr>        <th class=\"index_name level0\" >entity</th>        <th class=\"blank\" ></th>        <th class=\"blank\" ></th>    </tr></thead><tbody>\n",
       "                <tr>\n",
       "                        <th id=\"T_85b95365_ef97_11ea_936c_185680a52566level0_row0\" class=\"row_heading level0 row0\" >no_entity</th>\n",
       "                        <td id=\"T_85b95365_ef97_11ea_936c_185680a52566row0_col0\" class=\"data row0 col0\" >99.36</td>\n",
       "                        <td id=\"T_85b95365_ef97_11ea_936c_185680a52566row0_col1\" class=\"data row0 col1\" >0.64</td>\n",
       "            </tr>\n",
       "            <tr>\n",
       "                        <th id=\"T_85b95365_ef97_11ea_936c_185680a52566level0_row1\" class=\"row_heading level0 row1\" >signature</th>\n",
       "                        <td id=\"T_85b95365_ef97_11ea_936c_185680a52566row1_col0\" class=\"data row1 col0\" >98.22</td>\n",
       "                        <td id=\"T_85b95365_ef97_11ea_936c_185680a52566row1_col1\" class=\"data row1 col1\" >1.78</td>\n",
       "            </tr>\n",
       "    </tbody></table>   <style  type=\"text/css\" >\n",
       "</style><table id=\"T_85b97a74_ef97_11ea_b9b5_185680a52566\" style='display:inline'><caption>words</caption><thead>    <tr>        <th class=\"index_name level0\" >words</th>        <th class=\"col_heading level0 col0\" >0</th>        <th class=\"col_heading level0 col1\" >1</th>    </tr>    <tr>        <th class=\"index_name level0\" >entity</th>        <th class=\"blank\" ></th>        <th class=\"blank\" ></th>    </tr></thead><tbody>\n",
       "                <tr>\n",
       "                        <th id=\"T_85b97a74_ef97_11ea_b9b5_185680a52566level0_row0\" class=\"row_heading level0 row0\" >no_entity</th>\n",
       "                        <td id=\"T_85b97a74_ef97_11ea_b9b5_185680a52566row0_col0\" class=\"data row0 col0\" >96.44</td>\n",
       "                        <td id=\"T_85b97a74_ef97_11ea_b9b5_185680a52566row0_col1\" class=\"data row0 col1\" >3.56</td>\n",
       "            </tr>\n",
       "            <tr>\n",
       "                        <th id=\"T_85b97a74_ef97_11ea_b9b5_185680a52566level0_row1\" class=\"row_heading level0 row1\" >signature</th>\n",
       "                        <td id=\"T_85b97a74_ef97_11ea_b9b5_185680a52566row1_col0\" class=\"data row1 col0\" >80.78</td>\n",
       "                        <td id=\"T_85b97a74_ef97_11ea_b9b5_185680a52566row1_col1\" class=\"data row1 col1\" >19.22</td>\n",
       "            </tr>\n",
       "    </tbody></table>   <style  type=\"text/css\" >\n",
       "</style><table id=\"T_85b97a75_ef97_11ea_bf2a_185680a52566\" style='display:inline'><caption>header</caption><thead>    <tr>        <th class=\"index_name level0\" >header</th>        <th class=\"col_heading level0 col0\" >0</th>        <th class=\"col_heading level0 col1\" >1</th>    </tr>    <tr>        <th class=\"index_name level0\" >entity</th>        <th class=\"blank\" ></th>        <th class=\"blank\" ></th>    </tr></thead><tbody>\n",
       "                <tr>\n",
       "                        <th id=\"T_85b97a75_ef97_11ea_bf2a_185680a52566level0_row0\" class=\"row_heading level0 row0\" >no_entity</th>\n",
       "                        <td id=\"T_85b97a75_ef97_11ea_bf2a_185680a52566row0_col0\" class=\"data row0 col0\" >92.03</td>\n",
       "                        <td id=\"T_85b97a75_ef97_11ea_bf2a_185680a52566row0_col1\" class=\"data row0 col1\" >7.97</td>\n",
       "            </tr>\n",
       "            <tr>\n",
       "                        <th id=\"T_85b97a75_ef97_11ea_bf2a_185680a52566level0_row1\" class=\"row_heading level0 row1\" >signature</th>\n",
       "                        <td id=\"T_85b97a75_ef97_11ea_bf2a_185680a52566row1_col0\" class=\"data row1 col0\" >99.87</td>\n",
       "                        <td id=\"T_85b97a75_ef97_11ea_bf2a_185680a52566row1_col1\" class=\"data row1 col1\" >0.13</td>\n",
       "            </tr>\n",
       "    </tbody></table>   <style  type=\"text/css\" >\n",
       "</style><table id=\"T_85b9a180_ef97_11ea_b2a6_185680a52566\" style='display:inline'><caption>name</caption><thead>    <tr>        <th class=\"index_name level0\" >name</th>        <th class=\"col_heading level0 col0\" >0</th>        <th class=\"col_heading level0 col1\" >1</th>    </tr>    <tr>        <th class=\"index_name level0\" >entity</th>        <th class=\"blank\" ></th>        <th class=\"blank\" ></th>    </tr></thead><tbody>\n",
       "                <tr>\n",
       "                        <th id=\"T_85b9a180_ef97_11ea_b2a6_185680a52566level0_row0\" class=\"row_heading level0 row0\" >no_entity</th>\n",
       "                        <td id=\"T_85b9a180_ef97_11ea_b2a6_185680a52566row0_col0\" class=\"data row0 col0\" >98.56</td>\n",
       "                        <td id=\"T_85b9a180_ef97_11ea_b2a6_185680a52566row0_col1\" class=\"data row0 col1\" >1.44</td>\n",
       "            </tr>\n",
       "            <tr>\n",
       "                        <th id=\"T_85b9a180_ef97_11ea_b2a6_185680a52566level0_row1\" class=\"row_heading level0 row1\" >signature</th>\n",
       "                        <td id=\"T_85b9a180_ef97_11ea_b2a6_185680a52566row1_col0\" class=\"data row1 col0\" >98.75</td>\n",
       "                        <td id=\"T_85b9a180_ef97_11ea_b2a6_185680a52566row1_col1\" class=\"data row1 col1\" >1.25</td>\n",
       "            </tr>\n",
       "    </tbody></table>   <style  type=\"text/css\" >\n",
       "</style><table id=\"T_85b9a181_ef97_11ea_86f6_185680a52566\" style='display:inline'><caption>endquote</caption><thead>    <tr>        <th class=\"index_name level0\" >endquote</th>        <th class=\"col_heading level0 col0\" >0</th>        <th class=\"col_heading level0 col1\" >1</th>    </tr>    <tr>        <th class=\"index_name level0\" >entity</th>        <th class=\"blank\" ></th>        <th class=\"blank\" ></th>    </tr></thead><tbody>\n",
       "                <tr>\n",
       "                        <th id=\"T_85b9a181_ef97_11ea_86f6_185680a52566level0_row0\" class=\"row_heading level0 row0\" >no_entity</th>\n",
       "                        <td id=\"T_85b9a181_ef97_11ea_86f6_185680a52566row0_col0\" class=\"data row0 col0\" >99.61</td>\n",
       "                        <td id=\"T_85b9a181_ef97_11ea_86f6_185680a52566row0_col1\" class=\"data row0 col1\" >0.39</td>\n",
       "            </tr>\n",
       "            <tr>\n",
       "                        <th id=\"T_85b9a181_ef97_11ea_86f6_185680a52566level0_row1\" class=\"row_heading level0 row1\" >signature</th>\n",
       "                        <td id=\"T_85b9a181_ef97_11ea_86f6_185680a52566row1_col0\" class=\"data row1 col0\" >99.87</td>\n",
       "                        <td id=\"T_85b9a181_ef97_11ea_86f6_185680a52566row1_col1\" class=\"data row1 col1\" >0.13</td>\n",
       "            </tr>\n",
       "    </tbody></table>   <style  type=\"text/css\" >\n",
       "</style><table id=\"T_85b9c892_ef97_11ea_87b9_185680a52566\" style='display:inline'><caption>tabs1</caption><thead>    <tr>        <th class=\"index_name level0\" >tabs1</th>        <th class=\"col_heading level0 col0\" >0</th>        <th class=\"col_heading level0 col1\" >1</th>    </tr>    <tr>        <th class=\"index_name level0\" >entity</th>        <th class=\"blank\" ></th>        <th class=\"blank\" ></th>    </tr></thead><tbody>\n",
       "                <tr>\n",
       "                        <th id=\"T_85b9c892_ef97_11ea_87b9_185680a52566level0_row0\" class=\"row_heading level0 row0\" >no_entity</th>\n",
       "                        <td id=\"T_85b9c892_ef97_11ea_87b9_185680a52566row0_col0\" class=\"data row0 col0\" >97.52</td>\n",
       "                        <td id=\"T_85b9c892_ef97_11ea_87b9_185680a52566row0_col1\" class=\"data row0 col1\" >2.48</td>\n",
       "            </tr>\n",
       "            <tr>\n",
       "                        <th id=\"T_85b9c892_ef97_11ea_87b9_185680a52566level0_row1\" class=\"row_heading level0 row1\" >signature</th>\n",
       "                        <td id=\"T_85b9c892_ef97_11ea_87b9_185680a52566row1_col0\" class=\"data row1 col0\" >99.74</td>\n",
       "                        <td id=\"T_85b9c892_ef97_11ea_87b9_185680a52566row1_col1\" class=\"data row1 col1\" >0.26</td>\n",
       "            </tr>\n",
       "    </tbody></table>   <style  type=\"text/css\" >\n",
       "</style><table id=\"T_85b9c893_ef97_11ea_b0e8_185680a52566\" style='display:inline'><caption>tabs2</caption><thead>    <tr>        <th class=\"index_name level0\" >tabs2</th>        <th class=\"col_heading level0 col0\" >0</th>        <th class=\"col_heading level0 col1\" >1</th>    </tr>    <tr>        <th class=\"index_name level0\" >entity</th>        <th class=\"blank\" ></th>        <th class=\"blank\" ></th>    </tr></thead><tbody>\n",
       "                <tr>\n",
       "                        <th id=\"T_85b9c893_ef97_11ea_b0e8_185680a52566level0_row0\" class=\"row_heading level0 row0\" >no_entity</th>\n",
       "                        <td id=\"T_85b9c893_ef97_11ea_b0e8_185680a52566row0_col0\" class=\"data row0 col0\" >97.75</td>\n",
       "                        <td id=\"T_85b9c893_ef97_11ea_b0e8_185680a52566row0_col1\" class=\"data row0 col1\" >2.25</td>\n",
       "            </tr>\n",
       "            <tr>\n",
       "                        <th id=\"T_85b9c893_ef97_11ea_b0e8_185680a52566level0_row1\" class=\"row_heading level0 row1\" >signature</th>\n",
       "                        <td id=\"T_85b9c893_ef97_11ea_b0e8_185680a52566row1_col0\" class=\"data row1 col0\" >99.87</td>\n",
       "                        <td id=\"T_85b9c893_ef97_11ea_b0e8_185680a52566row1_col1\" class=\"data row1 col1\" >0.13</td>\n",
       "            </tr>\n",
       "    </tbody></table>   <style  type=\"text/css\" >\n",
       "</style><table id=\"T_85b9efa2_ef97_11ea_8060_185680a52566\" style='display:inline'><caption>tabs3</caption><thead>    <tr>        <th class=\"index_name level0\" >tabs3</th>        <th class=\"col_heading level0 col0\" >0</th>        <th class=\"col_heading level0 col1\" >1</th>    </tr>    <tr>        <th class=\"index_name level0\" >entity</th>        <th class=\"blank\" ></th>        <th class=\"blank\" ></th>    </tr></thead><tbody>\n",
       "                <tr>\n",
       "                        <th id=\"T_85b9efa2_ef97_11ea_8060_185680a52566level0_row0\" class=\"row_heading level0 row0\" >no_entity</th>\n",
       "                        <td id=\"T_85b9efa2_ef97_11ea_8060_185680a52566row0_col0\" class=\"data row0 col0\" >99.78</td>\n",
       "                        <td id=\"T_85b9efa2_ef97_11ea_8060_185680a52566row0_col1\" class=\"data row0 col1\" >0.22</td>\n",
       "            </tr>\n",
       "            <tr>\n",
       "                        <th id=\"T_85b9efa2_ef97_11ea_8060_185680a52566level0_row1\" class=\"row_heading level0 row1\" >signature</th>\n",
       "                        <td id=\"T_85b9efa2_ef97_11ea_8060_185680a52566row1_col0\" class=\"data row1 col0\" >100</td>\n",
       "                        <td id=\"T_85b9efa2_ef97_11ea_8060_185680a52566row1_col1\" class=\"data row1 col1\" >0</td>\n",
       "            </tr>\n",
       "    </tbody></table>   <style  type=\"text/css\" >\n",
       "</style><table id=\"T_85ba16b0_ef97_11ea_b702_185680a52566\" style='display:inline'><caption>punct20</caption><thead>    <tr>        <th class=\"index_name level0\" >punct20</th>        <th class=\"col_heading level0 col0\" >0</th>        <th class=\"col_heading level0 col1\" >1</th>    </tr>    <tr>        <th class=\"index_name level0\" >entity</th>        <th class=\"blank\" ></th>        <th class=\"blank\" ></th>    </tr></thead><tbody>\n",
       "                <tr>\n",
       "                        <th id=\"T_85ba16b0_ef97_11ea_b702_185680a52566level0_row0\" class=\"row_heading level0 row0\" >no_entity</th>\n",
       "                        <td id=\"T_85ba16b0_ef97_11ea_b702_185680a52566row0_col0\" class=\"data row0 col0\" >91.83</td>\n",
       "                        <td id=\"T_85ba16b0_ef97_11ea_b702_185680a52566row0_col1\" class=\"data row0 col1\" >8.17</td>\n",
       "            </tr>\n",
       "            <tr>\n",
       "                        <th id=\"T_85ba16b0_ef97_11ea_b702_185680a52566level0_row1\" class=\"row_heading level0 row1\" >signature</th>\n",
       "                        <td id=\"T_85ba16b0_ef97_11ea_b702_185680a52566row1_col0\" class=\"data row1 col0\" >91.41</td>\n",
       "                        <td id=\"T_85ba16b0_ef97_11ea_b702_185680a52566row1_col1\" class=\"data row1 col1\" >8.59</td>\n",
       "            </tr>\n",
       "    </tbody></table>   <style  type=\"text/css\" >\n",
       "</style><table id=\"T_85ba16b1_ef97_11ea_85c0_185680a52566\" style='display:inline'><caption>punct50</caption><thead>    <tr>        <th class=\"index_name level0\" >punct50</th>        <th class=\"col_heading level0 col0\" >0</th>        <th class=\"col_heading level0 col1\" >1</th>    </tr>    <tr>        <th class=\"index_name level0\" >entity</th>        <th class=\"blank\" ></th>        <th class=\"blank\" ></th>    </tr></thead><tbody>\n",
       "                <tr>\n",
       "                        <th id=\"T_85ba16b1_ef97_11ea_85c0_185680a52566level0_row0\" class=\"row_heading level0 row0\" >no_entity</th>\n",
       "                        <td id=\"T_85ba16b1_ef97_11ea_85c0_185680a52566row0_col0\" class=\"data row0 col0\" >96.85</td>\n",
       "                        <td id=\"T_85ba16b1_ef97_11ea_85c0_185680a52566row0_col1\" class=\"data row0 col1\" >3.15</td>\n",
       "            </tr>\n",
       "            <tr>\n",
       "                        <th id=\"T_85ba16b1_ef97_11ea_85c0_185680a52566level0_row1\" class=\"row_heading level0 row1\" >signature</th>\n",
       "                        <td id=\"T_85ba16b1_ef97_11ea_85c0_185680a52566row1_col0\" class=\"data row1 col0\" >95.51</td>\n",
       "                        <td id=\"T_85ba16b1_ef97_11ea_85c0_185680a52566row1_col1\" class=\"data row1 col1\" >4.49</td>\n",
       "            </tr>\n",
       "    </tbody></table>   <style  type=\"text/css\" >\n",
       "</style><table id=\"T_85ba3dc2_ef97_11ea_a246_185680a52566\" style='display:inline'><caption>punct90</caption><thead>    <tr>        <th class=\"index_name level0\" >punct90</th>        <th class=\"col_heading level0 col0\" >0</th>        <th class=\"col_heading level0 col1\" >1</th>    </tr>    <tr>        <th class=\"index_name level0\" >entity</th>        <th class=\"blank\" ></th>        <th class=\"blank\" ></th>    </tr></thead><tbody>\n",
       "                <tr>\n",
       "                        <th id=\"T_85ba3dc2_ef97_11ea_a246_185680a52566level0_row0\" class=\"row_heading level0 row0\" >no_entity</th>\n",
       "                        <td id=\"T_85ba3dc2_ef97_11ea_a246_185680a52566row0_col0\" class=\"data row0 col0\" >98</td>\n",
       "                        <td id=\"T_85ba3dc2_ef97_11ea_a246_185680a52566row0_col1\" class=\"data row0 col1\" >2</td>\n",
       "            </tr>\n",
       "            <tr>\n",
       "                        <th id=\"T_85ba3dc2_ef97_11ea_a246_185680a52566level0_row1\" class=\"row_heading level0 row1\" >signature</th>\n",
       "                        <td id=\"T_85ba3dc2_ef97_11ea_a246_185680a52566row1_col0\" class=\"data row1 col0\" >96.24</td>\n",
       "                        <td id=\"T_85ba3dc2_ef97_11ea_a246_185680a52566row1_col1\" class=\"data row1 col1\" >3.76</td>\n",
       "            </tr>\n",
       "    </tbody></table>   <style  type=\"text/css\" >\n",
       "</style><table id=\"T_85ba3dc3_ef97_11ea_9667_185680a52566\" style='display:inline'><caption>reply</caption><thead>    <tr>        <th class=\"index_name level0\" >reply</th>        <th class=\"col_heading level0 col0\" >0</th>        <th class=\"col_heading level0 col1\" >1</th>    </tr>    <tr>        <th class=\"index_name level0\" >entity</th>        <th class=\"blank\" ></th>        <th class=\"blank\" ></th>    </tr></thead><tbody>\n",
       "                <tr>\n",
       "                        <th id=\"T_85ba3dc3_ef97_11ea_9667_185680a52566level0_row0\" class=\"row_heading level0 row0\" >no_entity</th>\n",
       "                        <td id=\"T_85ba3dc3_ef97_11ea_9667_185680a52566row0_col0\" class=\"data row0 col0\" >95.49</td>\n",
       "                        <td id=\"T_85ba3dc3_ef97_11ea_9667_185680a52566row0_col1\" class=\"data row0 col1\" >4.51</td>\n",
       "            </tr>\n",
       "            <tr>\n",
       "                        <th id=\"T_85ba3dc3_ef97_11ea_9667_185680a52566level0_row1\" class=\"row_heading level0 row1\" >signature</th>\n",
       "                        <td id=\"T_85ba3dc3_ef97_11ea_9667_185680a52566row1_col0\" class=\"data row1 col0\" >97.03</td>\n",
       "                        <td id=\"T_85ba3dc3_ef97_11ea_9667_185680a52566row1_col1\" class=\"data row1 col1\" >2.97</td>\n",
       "            </tr>\n",
       "    </tbody></table>   <style  type=\"text/css\" >\n",
       "</style><table id=\"T_85ba64d2_ef97_11ea_b5b7_185680a52566\" style='display:inline'><caption>startpunct</caption><thead>    <tr>        <th class=\"index_name level0\" >startpunct</th>        <th class=\"col_heading level0 col0\" >0</th>        <th class=\"col_heading level0 col1\" >1</th>    </tr>    <tr>        <th class=\"index_name level0\" >entity</th>        <th class=\"blank\" ></th>        <th class=\"blank\" ></th>    </tr></thead><tbody>\n",
       "                <tr>\n",
       "                        <th id=\"T_85ba64d2_ef97_11ea_b5b7_185680a52566level0_row0\" class=\"row_heading level0 row0\" >no_entity</th>\n",
       "                        <td id=\"T_85ba64d2_ef97_11ea_b5b7_185680a52566row0_col0\" class=\"data row0 col0\" >90.47</td>\n",
       "                        <td id=\"T_85ba64d2_ef97_11ea_b5b7_185680a52566row0_col1\" class=\"data row0 col1\" >9.53</td>\n",
       "            </tr>\n",
       "            <tr>\n",
       "                        <th id=\"T_85ba64d2_ef97_11ea_b5b7_185680a52566level0_row1\" class=\"row_heading level0 row1\" >signature</th>\n",
       "                        <td id=\"T_85ba64d2_ef97_11ea_b5b7_185680a52566row1_col0\" class=\"data row1 col0\" >92.14</td>\n",
       "                        <td id=\"T_85ba64d2_ef97_11ea_b5b7_185680a52566row1_col1\" class=\"data row1 col1\" >7.86</td>\n",
       "            </tr>\n",
       "    </tbody></table>   <style  type=\"text/css\" >\n",
       "</style><table id=\"T_85ba64d3_ef97_11ea_b704_185680a52566\" style='display:inline'><caption>replypunct</caption><thead>    <tr>        <th class=\"index_name level0\" >replypunct</th>        <th class=\"col_heading level0 col0\" >0</th>        <th class=\"col_heading level0 col1\" >1</th>    </tr>    <tr>        <th class=\"index_name level0\" >entity</th>        <th class=\"blank\" ></th>        <th class=\"blank\" ></th>    </tr></thead><tbody>\n",
       "                <tr>\n",
       "                        <th id=\"T_85ba64d3_ef97_11ea_b704_185680a52566level0_row0\" class=\"row_heading level0 row0\" >no_entity</th>\n",
       "                        <td id=\"T_85ba64d3_ef97_11ea_b704_185680a52566row0_col0\" class=\"data row0 col0\" >98.29</td>\n",
       "                        <td id=\"T_85ba64d3_ef97_11ea_b704_185680a52566row0_col1\" class=\"data row0 col1\" >1.71</td>\n",
       "            </tr>\n",
       "            <tr>\n",
       "                        <th id=\"T_85ba64d3_ef97_11ea_b704_185680a52566level0_row1\" class=\"row_heading level0 row1\" >signature</th>\n",
       "                        <td id=\"T_85ba64d3_ef97_11ea_b704_185680a52566row1_col0\" class=\"data row1 col0\" >100</td>\n",
       "                        <td id=\"T_85ba64d3_ef97_11ea_b704_185680a52566row1_col1\" class=\"data row1 col1\" >0</td>\n",
       "            </tr>\n",
       "    </tbody></table>   <style  type=\"text/css\" >\n",
       "</style><table id=\"T_85ba8be2_ef97_11ea_ba5f_185680a52566\" style='display:inline'><caption>wrote</caption><thead>    <tr>        <th class=\"index_name level0\" >wrote</th>        <th class=\"col_heading level0 col0\" >0</th>        <th class=\"col_heading level0 col1\" >1</th>    </tr>    <tr>        <th class=\"index_name level0\" >entity</th>        <th class=\"blank\" ></th>        <th class=\"blank\" ></th>    </tr></thead><tbody>\n",
       "                <tr>\n",
       "                        <th id=\"T_85ba8be2_ef97_11ea_ba5f_185680a52566level0_row0\" class=\"row_heading level0 row0\" >no_entity</th>\n",
       "                        <td id=\"T_85ba8be2_ef97_11ea_ba5f_185680a52566row0_col0\" class=\"data row0 col0\" >99.99</td>\n",
       "                        <td id=\"T_85ba8be2_ef97_11ea_ba5f_185680a52566row0_col1\" class=\"data row0 col1\" >0.01</td>\n",
       "            </tr>\n",
       "            <tr>\n",
       "                        <th id=\"T_85ba8be2_ef97_11ea_ba5f_185680a52566level0_row1\" class=\"row_heading level0 row1\" >signature</th>\n",
       "                        <td id=\"T_85ba8be2_ef97_11ea_ba5f_185680a52566row1_col0\" class=\"data row1 col0\" >100</td>\n",
       "                        <td id=\"T_85ba8be2_ef97_11ea_ba5f_185680a52566row1_col1\" class=\"data row1 col1\" >0</td>\n",
       "            </tr>\n",
       "    </tbody></table>   <style  type=\"text/css\" >\n",
       "</style><table id=\"T_85ba8be3_ef97_11ea_b2ee_185680a52566\" style='display:inline'><caption>alphanum90</caption><thead>    <tr>        <th class=\"index_name level0\" >alphanum90</th>        <th class=\"col_heading level0 col0\" >0</th>        <th class=\"col_heading level0 col1\" >1</th>    </tr>    <tr>        <th class=\"index_name level0\" >entity</th>        <th class=\"blank\" ></th>        <th class=\"blank\" ></th>    </tr></thead><tbody>\n",
       "                <tr>\n",
       "                        <th id=\"T_85ba8be3_ef97_11ea_b2ee_185680a52566level0_row0\" class=\"row_heading level0 row0\" >no_entity</th>\n",
       "                        <td id=\"T_85ba8be3_ef97_11ea_b2ee_185680a52566row0_col0\" class=\"data row0 col0\" >2.62</td>\n",
       "                        <td id=\"T_85ba8be3_ef97_11ea_b2ee_185680a52566row0_col1\" class=\"data row0 col1\" >97.38</td>\n",
       "            </tr>\n",
       "            <tr>\n",
       "                        <th id=\"T_85ba8be3_ef97_11ea_b2ee_185680a52566level0_row1\" class=\"row_heading level0 row1\" >signature</th>\n",
       "                        <td id=\"T_85ba8be3_ef97_11ea_b2ee_185680a52566row1_col0\" class=\"data row1 col0\" >27.28</td>\n",
       "                        <td id=\"T_85ba8be3_ef97_11ea_b2ee_185680a52566row1_col1\" class=\"data row1 col1\" >72.72</td>\n",
       "            </tr>\n",
       "    </tbody></table>   <style  type=\"text/css\" >\n",
       "</style><table id=\"T_85bab2f0_ef97_11ea_a2de_185680a52566\" style='display:inline'><caption>alphanum50</caption><thead>    <tr>        <th class=\"index_name level0\" >alphanum50</th>        <th class=\"col_heading level0 col0\" >0</th>        <th class=\"col_heading level0 col1\" >1</th>    </tr>    <tr>        <th class=\"index_name level0\" >entity</th>        <th class=\"blank\" ></th>        <th class=\"blank\" ></th>    </tr></thead><tbody>\n",
       "                <tr>\n",
       "                        <th id=\"T_85bab2f0_ef97_11ea_a2de_185680a52566level0_row0\" class=\"row_heading level0 row0\" >no_entity</th>\n",
       "                        <td id=\"T_85bab2f0_ef97_11ea_a2de_185680a52566row0_col0\" class=\"data row0 col0\" >68.8</td>\n",
       "                        <td id=\"T_85bab2f0_ef97_11ea_a2de_185680a52566row0_col1\" class=\"data row0 col1\" >31.2</td>\n",
       "            </tr>\n",
       "            <tr>\n",
       "                        <th id=\"T_85bab2f0_ef97_11ea_a2de_185680a52566level0_row1\" class=\"row_heading level0 row1\" >signature</th>\n",
       "                        <td id=\"T_85bab2f0_ef97_11ea_a2de_185680a52566row1_col0\" class=\"data row1 col0\" >81.97</td>\n",
       "                        <td id=\"T_85bab2f0_ef97_11ea_a2de_185680a52566row1_col1\" class=\"data row1 col1\" >18.03</td>\n",
       "            </tr>\n",
       "    </tbody></table>   <style  type=\"text/css\" >\n",
       "</style><table id=\"T_85bada00_ef97_11ea_af4d_185680a52566\" style='display:inline'><caption>alphanum10</caption><thead>    <tr>        <th class=\"index_name level0\" >alphanum10</th>        <th class=\"col_heading level0 col0\" >0</th>        <th class=\"col_heading level0 col1\" >1</th>    </tr>    <tr>        <th class=\"index_name level0\" >entity</th>        <th class=\"blank\" ></th>        <th class=\"blank\" ></th>    </tr></thead><tbody>\n",
       "                <tr>\n",
       "                        <th id=\"T_85bada00_ef97_11ea_af4d_185680a52566level0_row0\" class=\"row_heading level0 row0\" >no_entity</th>\n",
       "                        <td id=\"T_85bada00_ef97_11ea_af4d_185680a52566row0_col0\" class=\"data row0 col0\" >71.87</td>\n",
       "                        <td id=\"T_85bada00_ef97_11ea_af4d_185680a52566row0_col1\" class=\"data row0 col1\" >28.13</td>\n",
       "            </tr>\n",
       "            <tr>\n",
       "                        <th id=\"T_85bada00_ef97_11ea_af4d_185680a52566level0_row1\" class=\"row_heading level0 row1\" >signature</th>\n",
       "                        <td id=\"T_85bada00_ef97_11ea_af4d_185680a52566row1_col0\" class=\"data row1 col0\" >82.5</td>\n",
       "                        <td id=\"T_85bada00_ef97_11ea_af4d_185680a52566row1_col1\" class=\"data row1 col1\" >17.5</td>\n",
       "            </tr>\n",
       "    </tbody></table>   <style  type=\"text/css\" >\n",
       "</style><table id=\"T_85bada01_ef97_11ea_b999_185680a52566\" style='display:inline'><caption>num90</caption><thead>    <tr>        <th class=\"index_name level0\" >num90</th>        <th class=\"col_heading level0 col0\" >0</th>        <th class=\"col_heading level0 col1\" >1</th>    </tr>    <tr>        <th class=\"index_name level0\" >entity</th>        <th class=\"blank\" ></th>        <th class=\"blank\" ></th>    </tr></thead><tbody>\n",
       "                <tr>\n",
       "                        <th id=\"T_85bada01_ef97_11ea_b999_185680a52566level0_row0\" class=\"row_heading level0 row0\" >no_entity</th>\n",
       "                        <td id=\"T_85bada01_ef97_11ea_b999_185680a52566row0_col0\" class=\"data row0 col0\" >99.96</td>\n",
       "                        <td id=\"T_85bada01_ef97_11ea_b999_185680a52566row0_col1\" class=\"data row0 col1\" >0.04</td>\n",
       "            </tr>\n",
       "            <tr>\n",
       "                        <th id=\"T_85bada01_ef97_11ea_b999_185680a52566level0_row1\" class=\"row_heading level0 row1\" >signature</th>\n",
       "                        <td id=\"T_85bada01_ef97_11ea_b999_185680a52566row1_col0\" class=\"data row1 col0\" >100</td>\n",
       "                        <td id=\"T_85bada01_ef97_11ea_b999_185680a52566row1_col1\" class=\"data row1 col1\" >0</td>\n",
       "            </tr>\n",
       "    </tbody></table>   <style  type=\"text/css\" >\n",
       "</style><table id=\"T_85bb0112_ef97_11ea_b125_185680a52566\" style='display:inline'><caption>num50</caption><thead>    <tr>        <th class=\"index_name level0\" >num50</th>        <th class=\"col_heading level0 col0\" >0</th>        <th class=\"col_heading level0 col1\" >1</th>    </tr>    <tr>        <th class=\"index_name level0\" >entity</th>        <th class=\"blank\" ></th>        <th class=\"blank\" ></th>    </tr></thead><tbody>\n",
       "                <tr>\n",
       "                        <th id=\"T_85bb0112_ef97_11ea_b125_185680a52566level0_row0\" class=\"row_heading level0 row0\" >no_entity</th>\n",
       "                        <td id=\"T_85bb0112_ef97_11ea_b125_185680a52566row0_col0\" class=\"data row0 col0\" >98.66</td>\n",
       "                        <td id=\"T_85bb0112_ef97_11ea_b125_185680a52566row0_col1\" class=\"data row0 col1\" >1.34</td>\n",
       "            </tr>\n",
       "            <tr>\n",
       "                        <th id=\"T_85bb0112_ef97_11ea_b125_185680a52566level0_row1\" class=\"row_heading level0 row1\" >signature</th>\n",
       "                        <td id=\"T_85bb0112_ef97_11ea_b125_185680a52566row1_col0\" class=\"data row1 col0\" >91.15</td>\n",
       "                        <td id=\"T_85bb0112_ef97_11ea_b125_185680a52566row1_col1\" class=\"data row1 col1\" >8.85</td>\n",
       "            </tr>\n",
       "    </tbody></table>   <style  type=\"text/css\" >\n",
       "</style><table id=\"T_85bb0113_ef97_11ea_b306_185680a52566\" style='display:inline'><caption>num10</caption><thead>    <tr>        <th class=\"index_name level0\" >num10</th>        <th class=\"col_heading level0 col0\" >0</th>        <th class=\"col_heading level0 col1\" >1</th>    </tr>    <tr>        <th class=\"index_name level0\" >entity</th>        <th class=\"blank\" ></th>        <th class=\"blank\" ></th>    </tr></thead><tbody>\n",
       "                <tr>\n",
       "                        <th id=\"T_85bb0113_ef97_11ea_b306_185680a52566level0_row0\" class=\"row_heading level0 row0\" >no_entity</th>\n",
       "                        <td id=\"T_85bb0113_ef97_11ea_b306_185680a52566row0_col0\" class=\"data row0 col0\" >91.14</td>\n",
       "                        <td id=\"T_85bb0113_ef97_11ea_b306_185680a52566row0_col1\" class=\"data row0 col1\" >8.86</td>\n",
       "            </tr>\n",
       "            <tr>\n",
       "                        <th id=\"T_85bb0113_ef97_11ea_b306_185680a52566level0_row1\" class=\"row_heading level0 row1\" >signature</th>\n",
       "                        <td id=\"T_85bb0113_ef97_11ea_b306_185680a52566row1_col0\" class=\"data row1 col0\" >81.44</td>\n",
       "                        <td id=\"T_85bb0113_ef97_11ea_b306_185680a52566row1_col1\" class=\"data row1 col1\" >18.56</td>\n",
       "            </tr>\n",
       "    </tbody></table>   <style  type=\"text/css\" >\n",
       "</style><table id=\"T_85bb281e_ef97_11ea_8eb5_185680a52566\" style='display:inline'><caption>title</caption><thead>    <tr>        <th class=\"index_name level0\" >title</th>        <th class=\"col_heading level0 col0\" >0</th>        <th class=\"col_heading level0 col1\" >1</th>    </tr>    <tr>        <th class=\"index_name level0\" >entity</th>        <th class=\"blank\" ></th>        <th class=\"blank\" ></th>    </tr></thead><tbody>\n",
       "                <tr>\n",
       "                        <th id=\"T_85bb281e_ef97_11ea_8eb5_185680a52566level0_row0\" class=\"row_heading level0 row0\" >no_entity</th>\n",
       "                        <td id=\"T_85bb281e_ef97_11ea_8eb5_185680a52566row0_col0\" class=\"data row0 col0\" >92.58</td>\n",
       "                        <td id=\"T_85bb281e_ef97_11ea_8eb5_185680a52566row0_col1\" class=\"data row0 col1\" >7.42</td>\n",
       "            </tr>\n",
       "            <tr>\n",
       "                        <th id=\"T_85bb281e_ef97_11ea_8eb5_185680a52566level0_row1\" class=\"row_heading level0 row1\" >signature</th>\n",
       "                        <td id=\"T_85bb281e_ef97_11ea_8eb5_185680a52566row1_col0\" class=\"data row1 col0\" >52.58</td>\n",
       "                        <td id=\"T_85bb281e_ef97_11ea_8eb5_185680a52566row1_col1\" class=\"data row1 col1\" >47.42</td>\n",
       "            </tr>\n",
       "    </tbody></table>   <style  type=\"text/css\" >\n",
       "</style><table id=\"T_85bb281f_ef97_11ea_ac6e_185680a52566\" style='display:inline'><caption>last</caption><thead>    <tr>        <th class=\"index_name level0\" >last</th>        <th class=\"col_heading level0 col0\" >0</th>        <th class=\"col_heading level0 col1\" >1</th>    </tr>    <tr>        <th class=\"index_name level0\" >entity</th>        <th class=\"blank\" ></th>        <th class=\"blank\" ></th>    </tr></thead><tbody>\n",
       "                <tr>\n",
       "                        <th id=\"T_85bb281f_ef97_11ea_ac6e_185680a52566level0_row0\" class=\"row_heading level0 row0\" >no_entity</th>\n",
       "                        <td id=\"T_85bb281f_ef97_11ea_ac6e_185680a52566row0_col0\" class=\"data row0 col0\" >98.61</td>\n",
       "                        <td id=\"T_85bb281f_ef97_11ea_ac6e_185680a52566row0_col1\" class=\"data row0 col1\" >1.39</td>\n",
       "            </tr>\n",
       "            <tr>\n",
       "                        <th id=\"T_85bb281f_ef97_11ea_ac6e_185680a52566level0_row1\" class=\"row_heading level0 row1\" >signature</th>\n",
       "                        <td id=\"T_85bb281f_ef97_11ea_ac6e_185680a52566row1_col0\" class=\"data row1 col0\" >81.11</td>\n",
       "                        <td id=\"T_85bb281f_ef97_11ea_ac6e_185680a52566row1_col1\" class=\"data row1 col1\" >18.89</td>\n",
       "            </tr>\n",
       "    </tbody></table>   <style  type=\"text/css\" >\n",
       "</style><table id=\"T_85bb4f30_ef97_11ea_b6d8_185680a52566\" style='display:inline'><caption>prevlast</caption><thead>    <tr>        <th class=\"index_name level0\" >prevlast</th>        <th class=\"col_heading level0 col0\" >0</th>        <th class=\"col_heading level0 col1\" >1</th>    </tr>    <tr>        <th class=\"index_name level0\" >entity</th>        <th class=\"blank\" ></th>        <th class=\"blank\" ></th>    </tr></thead><tbody>\n",
       "                <tr>\n",
       "                        <th id=\"T_85bb4f30_ef97_11ea_b6d8_185680a52566level0_row0\" class=\"row_heading level0 row0\" >no_entity</th>\n",
       "                        <td id=\"T_85bb4f30_ef97_11ea_b6d8_185680a52566row0_col0\" class=\"data row0 col0\" >98.18</td>\n",
       "                        <td id=\"T_85bb4f30_ef97_11ea_b6d8_185680a52566row0_col1\" class=\"data row0 col1\" >1.82</td>\n",
       "            </tr>\n",
       "            <tr>\n",
       "                        <th id=\"T_85bb4f30_ef97_11ea_b6d8_185680a52566level0_row1\" class=\"row_heading level0 row1\" >signature</th>\n",
       "                        <td id=\"T_85bb4f30_ef97_11ea_b6d8_185680a52566row1_col0\" class=\"data row1 col0\" >87.19</td>\n",
       "                        <td id=\"T_85bb4f30_ef97_11ea_b6d8_185680a52566row1_col1\" class=\"data row1 col1\" >12.81</td>\n",
       "            </tr>\n",
       "    </tbody></table>   <style  type=\"text/css\" >\n",
       "</style><table id=\"T_85bb4f31_ef97_11ea_9e18_185680a52566\" style='display:inline'><caption>last5</caption><thead>    <tr>        <th class=\"index_name level0\" >last5</th>        <th class=\"col_heading level0 col0\" >0</th>        <th class=\"col_heading level0 col1\" >1</th>    </tr>    <tr>        <th class=\"index_name level0\" >entity</th>        <th class=\"blank\" ></th>        <th class=\"blank\" ></th>    </tr></thead><tbody>\n",
       "                <tr>\n",
       "                        <th id=\"T_85bb4f31_ef97_11ea_9e18_185680a52566level0_row0\" class=\"row_heading level0 row0\" >no_entity</th>\n",
       "                        <td id=\"T_85bb4f31_ef97_11ea_9e18_185680a52566row0_col0\" class=\"data row0 col0\" >90.4</td>\n",
       "                        <td id=\"T_85bb4f31_ef97_11ea_9e18_185680a52566row0_col1\" class=\"data row0 col1\" >9.6</td>\n",
       "            </tr>\n",
       "            <tr>\n",
       "                        <th id=\"T_85bb4f31_ef97_11ea_9e18_185680a52566level0_row1\" class=\"row_heading level0 row1\" >signature</th>\n",
       "                        <td id=\"T_85bb4f31_ef97_11ea_9e18_185680a52566row1_col0\" class=\"data row1 col0\" >46.17</td>\n",
       "                        <td id=\"T_85bb4f31_ef97_11ea_9e18_185680a52566row1_col1\" class=\"data row1 col1\" >53.83</td>\n",
       "            </tr>\n",
       "    </tbody></table>   <style  type=\"text/css\" >\n",
       "</style><table id=\"T_85bb7640_ef97_11ea_a736_185680a52566\" style='display:inline'><caption>last11</caption><thead>    <tr>        <th class=\"index_name level0\" >last11</th>        <th class=\"col_heading level0 col0\" >0</th>        <th class=\"col_heading level0 col1\" >1</th>    </tr>    <tr>        <th class=\"index_name level0\" >entity</th>        <th class=\"blank\" ></th>        <th class=\"blank\" ></th>    </tr></thead><tbody>\n",
       "                <tr>\n",
       "                        <th id=\"T_85bb7640_ef97_11ea_a736_185680a52566level0_row0\" class=\"row_heading level0 row0\" >no_entity</th>\n",
       "                        <td id=\"T_85bb7640_ef97_11ea_a736_185680a52566row0_col0\" class=\"data row0 col0\" >77.29</td>\n",
       "                        <td id=\"T_85bb7640_ef97_11ea_a736_185680a52566row0_col1\" class=\"data row0 col1\" >22.71</td>\n",
       "            </tr>\n",
       "            <tr>\n",
       "                        <th id=\"T_85bb7640_ef97_11ea_a736_185680a52566level0_row1\" class=\"row_heading level0 row1\" >signature</th>\n",
       "                        <td id=\"T_85bb7640_ef97_11ea_a736_185680a52566row1_col0\" class=\"data row1 col0\" >30.18</td>\n",
       "                        <td id=\"T_85bb7640_ef97_11ea_a736_185680a52566row1_col1\" class=\"data row1 col1\" >69.82</td>\n",
       "            </tr>\n",
       "    </tbody></table>   <style  type=\"text/css\" >\n",
       "</style><table id=\"T_85bb7641_ef97_11ea_b159_185680a52566\" style='display:inline'><caption>less_avg_len</caption><thead>    <tr>        <th class=\"index_name level0\" >less_avg_len</th>        <th class=\"col_heading level0 col0\" >0</th>        <th class=\"col_heading level0 col1\" >1</th>    </tr>    <tr>        <th class=\"index_name level0\" >entity</th>        <th class=\"blank\" ></th>        <th class=\"blank\" ></th>    </tr></thead><tbody>\n",
       "                <tr>\n",
       "                        <th id=\"T_85bb7641_ef97_11ea_b159_185680a52566level0_row0\" class=\"row_heading level0 row0\" >no_entity</th>\n",
       "                        <td id=\"T_85bb7641_ef97_11ea_b159_185680a52566row0_col0\" class=\"data row0 col0\" >50.25</td>\n",
       "                        <td id=\"T_85bb7641_ef97_11ea_b159_185680a52566row0_col1\" class=\"data row0 col1\" >49.75</td>\n",
       "            </tr>\n",
       "            <tr>\n",
       "                        <th id=\"T_85bb7641_ef97_11ea_b159_185680a52566level0_row1\" class=\"row_heading level0 row1\" >signature</th>\n",
       "                        <td id=\"T_85bb7641_ef97_11ea_b159_185680a52566row1_col0\" class=\"data row1 col0\" >18.36</td>\n",
       "                        <td id=\"T_85bb7641_ef97_11ea_b159_185680a52566row1_col1\" class=\"data row1 col1\" >81.64</td>\n",
       "            </tr>\n",
       "    </tbody></table>   <style  type=\"text/css\" >\n",
       "</style><table id=\"T_85bb9d52_ef97_11ea_b676_185680a52566\" style='display:inline'><caption>more_avg_len</caption><thead>    <tr>        <th class=\"index_name level0\" >more_avg_len</th>        <th class=\"col_heading level0 col0\" >0</th>        <th class=\"col_heading level0 col1\" >1</th>    </tr>    <tr>        <th class=\"index_name level0\" >entity</th>        <th class=\"blank\" ></th>        <th class=\"blank\" ></th>    </tr></thead><tbody>\n",
       "                <tr>\n",
       "                        <th id=\"T_85bb9d52_ef97_11ea_b676_185680a52566level0_row0\" class=\"row_heading level0 row0\" >no_entity</th>\n",
       "                        <td id=\"T_85bb9d52_ef97_11ea_b676_185680a52566row0_col0\" class=\"data row0 col0\" >49.75</td>\n",
       "                        <td id=\"T_85bb9d52_ef97_11ea_b676_185680a52566row0_col1\" class=\"data row0 col1\" >50.25</td>\n",
       "            </tr>\n",
       "            <tr>\n",
       "                        <th id=\"T_85bb9d52_ef97_11ea_b676_185680a52566level0_row1\" class=\"row_heading level0 row1\" >signature</th>\n",
       "                        <td id=\"T_85bb9d52_ef97_11ea_b676_185680a52566row1_col0\" class=\"data row1 col0\" >81.64</td>\n",
       "                        <td id=\"T_85bb9d52_ef97_11ea_b676_185680a52566row1_col1\" class=\"data row1 col1\" >18.36</td>\n",
       "            </tr>\n",
       "    </tbody></table>   <style  type=\"text/css\" >\n",
       "</style><table id=\"T_85bbc462_ef97_11ea_b795_185680a52566\" style='display:inline'><caption>less_avg_len75</caption><thead>    <tr>        <th class=\"index_name level0\" >less_avg_len75</th>        <th class=\"col_heading level0 col0\" >0</th>        <th class=\"col_heading level0 col1\" >1</th>    </tr>    <tr>        <th class=\"index_name level0\" >entity</th>        <th class=\"blank\" ></th>        <th class=\"blank\" ></th>    </tr></thead><tbody>\n",
       "                <tr>\n",
       "                        <th id=\"T_85bbc462_ef97_11ea_b795_185680a52566level0_row0\" class=\"row_heading level0 row0\" >no_entity</th>\n",
       "                        <td id=\"T_85bbc462_ef97_11ea_b795_185680a52566row0_col0\" class=\"data row0 col0\" >56.84</td>\n",
       "                        <td id=\"T_85bbc462_ef97_11ea_b795_185680a52566row0_col1\" class=\"data row0 col1\" >43.16</td>\n",
       "            </tr>\n",
       "            <tr>\n",
       "                        <th id=\"T_85bbc462_ef97_11ea_b795_185680a52566level0_row1\" class=\"row_heading level0 row1\" >signature</th>\n",
       "                        <td id=\"T_85bbc462_ef97_11ea_b795_185680a52566row1_col0\" class=\"data row1 col0\" >26.49</td>\n",
       "                        <td id=\"T_85bbc462_ef97_11ea_b795_185680a52566row1_col1\" class=\"data row1 col1\" >73.51</td>\n",
       "            </tr>\n",
       "    </tbody></table>   <style  type=\"text/css\" >\n",
       "</style><table id=\"T_85bbc463_ef97_11ea_8b48_185680a52566\" style='display:inline'><caption>less_avg_len50</caption><thead>    <tr>        <th class=\"index_name level0\" >less_avg_len50</th>        <th class=\"col_heading level0 col0\" >0</th>        <th class=\"col_heading level0 col1\" >1</th>    </tr>    <tr>        <th class=\"index_name level0\" >entity</th>        <th class=\"blank\" ></th>        <th class=\"blank\" ></th>    </tr></thead><tbody>\n",
       "                <tr>\n",
       "                        <th id=\"T_85bbc463_ef97_11ea_8b48_185680a52566level0_row0\" class=\"row_heading level0 row0\" >no_entity</th>\n",
       "                        <td id=\"T_85bbc463_ef97_11ea_8b48_185680a52566row0_col0\" class=\"data row0 col0\" >63.1</td>\n",
       "                        <td id=\"T_85bbc463_ef97_11ea_8b48_185680a52566row0_col1\" class=\"data row0 col1\" >36.9</td>\n",
       "            </tr>\n",
       "            <tr>\n",
       "                        <th id=\"T_85bbc463_ef97_11ea_8b48_185680a52566level0_row1\" class=\"row_heading level0 row1\" >signature</th>\n",
       "                        <td id=\"T_85bbc463_ef97_11ea_8b48_185680a52566row1_col0\" class=\"data row1 col0\" >40.95</td>\n",
       "                        <td id=\"T_85bbc463_ef97_11ea_8b48_185680a52566row1_col1\" class=\"data row1 col1\" >59.05</td>\n",
       "            </tr>\n",
       "    </tbody></table>   "
      ],
      "text/plain": [
       "<IPython.core.display.HTML object>"
      ]
     },
     "metadata": {},
     "output_type": "display_data"
    }
   ],
   "source": [
    "cross_tables = list()\n",
    "cross_tbl_labels = list()\n",
    "for column in master.columns:\n",
    "    if is_binary(master[column]) and column != \"entity\":\n",
    "        cross_tables.append(pd.crosstab(master.entity, master[column]).apply(lambda r: round((r/r.sum())*100, 2), axis=1))\n",
    "        cross_tbl_labels.append(column)\n",
    "display_side_by_side(cross_tables, cross_tbl_labels)"
   ]
  },
  {
   "cell_type": "code",
   "execution_count": 309,
   "metadata": {},
   "outputs": [
    {
     "data": {
      "text/html": [
       "<div>\n",
       "<style scoped>\n",
       "    .dataframe tbody tr th:only-of-type {\n",
       "        vertical-align: middle;\n",
       "    }\n",
       "\n",
       "    .dataframe tbody tr th {\n",
       "        vertical-align: top;\n",
       "    }\n",
       "\n",
       "    .dataframe thead th {\n",
       "        text-align: right;\n",
       "    }\n",
       "</style>\n",
       "<table border=\"1\" class=\"dataframe\">\n",
       "  <thead>\n",
       "    <tr style=\"text-align: right;\">\n",
       "      <th></th>\n",
       "      <th>line</th>\n",
       "      <th>email</th>\n",
       "    </tr>\n",
       "  </thead>\n",
       "  <tbody>\n",
       "    <tr>\n",
       "      <th>286</th>\n",
       "      <td>To: John Arnold/HOU/ECT@ECT</td>\n",
       "      <td>0</td>\n",
       "    </tr>\n",
       "    <tr>\n",
       "      <th>371</th>\n",
       "      <td>To:   Steve LaFontaine/GlobalCo@GlobalCo</td>\n",
       "      <td>0</td>\n",
       "    </tr>\n",
       "    <tr>\n",
       "      <th>795</th>\n",
       "      <td>If you encounter any errors please contact the...</td>\n",
       "      <td>0</td>\n",
       "    </tr>\n",
       "    <tr>\n",
       "      <th>819</th>\n",
       "      <td>To: Eric Bass/HOU/ECT@ECT</td>\n",
       "      <td>0</td>\n",
       "    </tr>\n",
       "    <tr>\n",
       "      <th>840</th>\n",
       "      <td>To: Celeste Roberts/HOU/ECT@ECT</td>\n",
       "      <td>0</td>\n",
       "    </tr>\n",
       "    <tr>\n",
       "      <th>...</th>\n",
       "      <td>...</td>\n",
       "      <td>...</td>\n",
       "    </tr>\n",
       "    <tr>\n",
       "      <th>17969</th>\n",
       "      <td>Miguel Maltes@ENRON_DEVELOPMENT</td>\n",
       "      <td>0</td>\n",
       "    </tr>\n",
       "    <tr>\n",
       "      <th>17971</th>\n",
       "      <td>To: Javier Chavarria/ENRON_DEVELOPMENT@ENRON_D...</td>\n",
       "      <td>0</td>\n",
       "    </tr>\n",
       "    <tr>\n",
       "      <th>17972</th>\n",
       "      <td>cc: Greg Curran/CA/Enron@Enron, Federico</td>\n",
       "      <td>0</td>\n",
       "    </tr>\n",
       "    <tr>\n",
       "      <th>17973</th>\n",
       "      <td>Haeussler/ENRON_DEVELOPMENT@ENRON_DEVELOPMENT,...</td>\n",
       "      <td>0</td>\n",
       "    </tr>\n",
       "    <tr>\n",
       "      <th>17974</th>\n",
       "      <td>Suzanne B Clapp/HOU/ECT@ECT</td>\n",
       "      <td>0</td>\n",
       "    </tr>\n",
       "  </tbody>\n",
       "</table>\n",
       "<p>675 rows × 2 columns</p>\n",
       "</div>"
      ],
      "text/plain": [
       "                                                    line  email\n",
       "286                          To: John Arnold/HOU/ECT@ECT      0\n",
       "371             To:   Steve LaFontaine/GlobalCo@GlobalCo      0\n",
       "795    If you encounter any errors please contact the...      0\n",
       "819                            To: Eric Bass/HOU/ECT@ECT      0\n",
       "840                      To: Celeste Roberts/HOU/ECT@ECT      0\n",
       "...                                                  ...    ...\n",
       "17969                    Miguel Maltes@ENRON_DEVELOPMENT      0\n",
       "17971  To: Javier Chavarria/ENRON_DEVELOPMENT@ENRON_D...      0\n",
       "17972          cc: Greg Curran/CA/Enron@Enron, Federico       0\n",
       "17973  Haeussler/ENRON_DEVELOPMENT@ENRON_DEVELOPMENT,...      0\n",
       "17974                       Suzanne B Clapp/HOU/ECT@ECT       0\n",
       "\n",
       "[675 rows x 2 columns]"
      ]
     },
     "execution_count": 309,
     "metadata": {},
     "output_type": "execute_result"
    }
   ],
   "source": [
    "master.loc[master.line.str.contains(\"@\") & (master.email == 0), (\"line\", \"email\")]"
   ]
  },
  {
   "cell_type": "code",
   "execution_count": 329,
   "metadata": {},
   "outputs": [
    {
     "data": {
      "text/plain": [
       "Index(['line', 'filename', 'entity', 'len', 'lineNo', 'blank', 'email', 'url',\n",
       "       'phone', 'sigdelimiter', 'special', 'words', 'header', 'name',\n",
       "       'endquote', 'tabs1', 'tabs2', 'tabs3', 'punct20', 'punct50', 'punct90',\n",
       "       'reply', 'startpunct', 'firstchar', 'replypunct', 'wrote', 'alphanum90',\n",
       "       'alphanum50', 'alphanum10', 'num90', 'num50', 'num10', 'title',\n",
       "       'nlines', 'len_avg', 'len_min', 'len_max', 'nBlanks', 'nNonBlanks',\n",
       "       'nSig', 'nSigBlocks', 'posFromEnd', 'last', 'prevlast', 'last5',\n",
       "       'last11', 'posRatio', 'posRatioFromEnd', 'posRatioNB', 'lenRatio',\n",
       "       'lenRatioMax', 'less_avg_len', 'more_avg_len', 'less_avg_len75',\n",
       "       'less_avg_len50'],\n",
       "      dtype='object')"
      ]
     },
     "execution_count": 329,
     "metadata": {},
     "output_type": "execute_result"
    }
   ],
   "source": [
    "master.columns"
   ]
  },
  {
   "cell_type": "code",
   "execution_count": 311,
   "metadata": {},
   "outputs": [],
   "source": [
    "master.to_csv(\"master1.csv\")\n",
    "master.to_pickle(\"master1.pkl\")"
   ]
  }
 ],
 "metadata": {
  "kernelspec": {
   "display_name": "Python 3",
   "language": "python",
   "name": "python3"
  },
  "language_info": {
   "codemirror_mode": {
    "name": "ipython",
    "version": 3
   },
   "file_extension": ".py",
   "mimetype": "text/x-python",
   "name": "python",
   "nbconvert_exporter": "python",
   "pygments_lexer": "ipython3",
   "version": "3.7.6"
  }
 },
 "nbformat": 4,
 "nbformat_minor": 2
}
